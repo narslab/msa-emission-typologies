{
 "cells": [
  {
   "cell_type": "markdown",
   "id": "0172e118-ca14-4cfb-b011-b37d23b0aaf3",
   "metadata": {
    "jp-MarkdownHeadingCollapsed": true,
    "tags": []
   },
   "source": [
    "RF to predict tti or log tti or ahd from all other data\n",
    " use households until find pop\n",
    "dimensionality reduction?\n",
    "\n",
    "factorsd impacting congestion, networks, tti, modeshares\n",
    "\n",
    "tti website has other papers\n",
    "modeshare variables\n",
    "feature importance what is the direction of impact (negative vs. positive, impurity)\n",
    "plot to show errors from rf optimization, 2d contour plot\n",
    "rf/gbm as feature extractor\n",
    "pca, condense and explain\n",
    "kernel pca\n",
    "update manuscript\n",
    "final model (generalize additive model)\n",
    "poster"
   ]
  },
  {
   "cell_type": "code",
   "execution_count": 5,
   "id": "7b2ffe87-12e2-4fb1-895f-d9afda3c3895",
   "metadata": {},
   "outputs": [],
   "source": [
    "import numpy as np\n",
    "import pandas as pd\n",
    "import matplotlib.pyplot as plt\n",
    "import seaborn as sns\n",
    "from sklearn.ensemble import RandomForestRegressor\n",
    "from sklearn.model_selection import train_test_split\n",
    "from sklearn.metrics import mean_squared_error, mean_absolute_percentage_error\n",
    "from sklearn.inspection import permutation_importance\n",
    "\n",
    "# set pandas column display to none\n",
    "pd.set_option('display.max_columns', None)"
   ]
  },
  {
   "cell_type": "code",
   "execution_count": 6,
   "id": "e6c45dbf-0700-4c94-8a31-af6a8d636d77",
   "metadata": {},
   "outputs": [],
   "source": [
    "trf = pd.read_csv('../../data/tidy/tti-traffic19-renamed.csv')\n",
    "net = pd.read_csv('../../data/tidy/data-aggregation-networkstats.csv')\n",
    "inc = pd.read_csv('../../data/tidy/acs19-hh-income.csv')\n",
    "mod = pd.read_csv('../../data/tidy/acs19-modeshares.csv')\n",
    "unemp = pd.read_csv('../../data/tidy/acs19-unemp.csv')\n",
    "pop = pd.read_csv('../../data/tidy/acs19-pop.csv')"
   ]
  },
  {
   "cell_type": "code",
   "execution_count": 7,
   "id": "89a2c919-4946-4dad-8c71-b785fef8846a",
   "metadata": {},
   "outputs": [],
   "source": [
    "df = trf.merge(net, on='msa', how='left')\n",
    "df = df.merge(mod, left_on='msa', right_on='msa', how='inner')\n",
    "df = df.merge(unemp, left_on = 'msa', right_on = 'msa', how = 'left')\n",
    "df = df.merge(inc, left_on = 'msa', right_on = 'msa', how = 'left')\n",
    "df = df.merge(pop, left_on = 'msa', right_on = 'msa', how = 'left')\n",
    "df = df.dropna(subset=['tti'])\n",
    "# df = df.set_index('msa')\n",
    "# df['log_tti'] = np.log10(df['tti'])\n"
   ]
  },
  {
   "cell_type": "code",
   "execution_count": 8,
   "id": "f9bb834c-e730-44da-908b-5d6d013c6404",
   "metadata": {},
   "outputs": [],
   "source": [
    "from pathlib import Path  \n",
    "filepath = Path('../../data/tidy/congestion-exploration19.csv', index = False)  \n",
    "filepath.parent.mkdir(parents=True, exist_ok=True)  \n",
    "df.to_csv(filepath)"
   ]
  },
  {
   "cell_type": "markdown",
   "id": "0354c53a",
   "metadata": {},
   "source": [
    "# Perform PCA with GAM"
   ]
  },
  {
   "cell_type": "code",
   "execution_count": 9,
   "id": "e8f8a3bc-ec2f-4332-81ed-af94b207594e",
   "metadata": {},
   "outputs": [],
   "source": [
    "data = df.copy()\n",
    "# Check for missing values\n"
   ]
  },
  {
   "cell_type": "code",
   "execution_count": null,
   "id": "7ae1d817-12fa-45c1-bc8a-803e10b79025",
   "metadata": {},
   "outputs": [],
   "source": []
  },
  {
   "cell_type": "code",
   "execution_count": null,
   "id": "64a41ac8-4d0d-448d-821a-e814347f2fa1",
   "metadata": {},
   "outputs": [],
   "source": [
    "\n"
   ]
  }
 ],
 "metadata": {
  "kernelspec": {
   "display_name": "Python 3 (ipykernel)",
   "language": "python",
   "name": "python3"
  },
  "language_info": {
   "codemirror_mode": {
    "name": "ipython",
    "version": 3
   },
   "file_extension": ".py",
   "mimetype": "text/x-python",
   "name": "python",
   "nbconvert_exporter": "python",
   "pygments_lexer": "ipython3",
   "version": "3.10.10"
  }
 },
 "nbformat": 4,
 "nbformat_minor": 5
}
