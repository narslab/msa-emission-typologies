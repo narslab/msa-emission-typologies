{
 "cells": [
  {
   "cell_type": "markdown",
   "id": "0172e118-ca14-4cfb-b011-b37d23b0aaf3",
   "metadata": {
    "jp-MarkdownHeadingCollapsed": true,
    "tags": []
   },
   "source": [
    "RF to predict tti or log tti or ahd from all other data\n",
    " use households until find pop\n",
    "dimensionality reduction?\n",
    "\n",
    "factorsd impacting congestion, networks, tti, modeshares\n",
    "\n",
    "tti website has other papers\n",
    "modeshare variables\n",
    "feature importance what is the direction of impact (negative vs. positive, impurity)\n",
    "plot to show errors from rf optimization, 2d contour plot\n",
    "rf/gbm as feature extractor\n",
    "pca, condense and explain\n",
    "kernel pca\n",
    "update manuscript\n",
    "final model (generalize additive model)\n",
    "poster"
   ]
  },
  {
   "cell_type": "code",
   "execution_count": 1,
   "id": "7b2ffe87-12e2-4fb1-895f-d9afda3c3895",
   "metadata": {},
   "outputs": [],
   "source": [
    "import numpy as np\n",
    "import pandas as pd\n",
    "import matplotlib.pyplot as plt\n",
    "import seaborn as sns\n",
    "from sklearn.ensemble import RandomForestRegressor\n",
    "from sklearn.model_selection import train_test_split\n",
    "from sklearn.metrics import mean_squared_error, mean_absolute_percentage_error\n",
    "from sklearn.inspection import permutation_importance"
   ]
  },
  {
   "cell_type": "code",
   "execution_count": 2,
   "id": "e6c45dbf-0700-4c94-8a31-af6a8d636d77",
   "metadata": {},
   "outputs": [],
   "source": [
    "trf = pd.read_csv('../../data/tidy/tti-traffic19-renamed.csv')\n",
    "net = pd.read_csv('../../data/tidy/data-aggregation-networkstats.csv')\n",
    "inc = pd.read_csv('../../data/tidy/acs19-hh-income.csv')\n",
    "mod = pd.read_csv('../../data/tidy/acs19-modeshares.csv')\n",
    "unemp = pd.read_csv('../../data/tidy/acs19-unemp.csv')\n",
    "pop = pd.read_csv('../../data/tidy/acs19-pop.csv')"
   ]
  },
  {
   "cell_type": "code",
   "execution_count": 3,
   "id": "e080c037-abdb-4d6d-bad3-ad8562bd6578",
   "metadata": {},
   "outputs": [
    {
     "data": {
      "text/plain": [
       "Index(['msa', 'auto_commuters', 'annual_excess_fuel_consumed_commuters',\n",
       "       'ahd_ph', 'tti', 'ahd_truck'],\n",
       "      dtype='object')"
      ]
     },
     "execution_count": 3,
     "metadata": {},
     "output_type": "execute_result"
    }
   ],
   "source": [
    "trf.columns"
   ]
  },
  {
   "cell_type": "code",
   "execution_count": 4,
   "id": "81773364-aa44-41a9-85a2-31a3b5e55903",
   "metadata": {},
   "outputs": [
    {
     "data": {
      "text/plain": [
       "Index(['msa', 'n', 'm', 'k_avg', 'edge_length_total', 'edge_length_avg',\n",
       "       'streets_per_node_avg', 'intersection_count', 'street_length_total',\n",
       "       'street_segment_count', 'street_length_avg', 'circuity_avg',\n",
       "       'self_loop_proportion', 'node_density_km', 'intersection_density_km',\n",
       "       'edge_density_km', 'street_density_km', 'builing_area_sqkm',\n",
       "       'area_sqkm'],\n",
       "      dtype='object')"
      ]
     },
     "execution_count": 4,
     "metadata": {},
     "output_type": "execute_result"
    }
   ],
   "source": [
    "net.columns"
   ]
  },
  {
   "cell_type": "code",
   "execution_count": 5,
   "id": "89a2c919-4946-4dad-8c71-b785fef8846a",
   "metadata": {},
   "outputs": [],
   "source": [
    "df = trf.merge(net, on='msa', how='left')"
   ]
  },
  {
   "cell_type": "code",
   "execution_count": 6,
   "id": "deace466-b92c-4670-a4bf-c0cceb0feeb3",
   "metadata": {
    "tags": []
   },
   "outputs": [
    {
     "data": {
      "text/html": [
       "<div>\n",
       "<style scoped>\n",
       "    .dataframe tbody tr th:only-of-type {\n",
       "        vertical-align: middle;\n",
       "    }\n",
       "\n",
       "    .dataframe tbody tr th {\n",
       "        vertical-align: top;\n",
       "    }\n",
       "\n",
       "    .dataframe thead th {\n",
       "        text-align: right;\n",
       "    }\n",
       "</style>\n",
       "<table border=\"1\" class=\"dataframe\">\n",
       "  <thead>\n",
       "    <tr style=\"text-align: right;\">\n",
       "      <th></th>\n",
       "      <th>msa</th>\n",
       "      <th>auto_commuters</th>\n",
       "      <th>annual_excess_fuel_consumed_commuters</th>\n",
       "      <th>ahd_ph</th>\n",
       "      <th>tti</th>\n",
       "      <th>ahd_truck</th>\n",
       "      <th>n</th>\n",
       "      <th>m</th>\n",
       "      <th>k_avg</th>\n",
       "      <th>edge_length_total</th>\n",
       "      <th>...</th>\n",
       "      <th>street_segment_count</th>\n",
       "      <th>street_length_avg</th>\n",
       "      <th>circuity_avg</th>\n",
       "      <th>self_loop_proportion</th>\n",
       "      <th>node_density_km</th>\n",
       "      <th>intersection_density_km</th>\n",
       "      <th>edge_density_km</th>\n",
       "      <th>street_density_km</th>\n",
       "      <th>builing_area_sqkm</th>\n",
       "      <th>area_sqkm</th>\n",
       "    </tr>\n",
       "  </thead>\n",
       "  <tbody>\n",
       "    <tr>\n",
       "      <th>0</th>\n",
       "      <td>Abilene, TX</td>\n",
       "      <td>64</td>\n",
       "      <td>1282</td>\n",
       "      <td>2548</td>\n",
       "      <td>1.07</td>\n",
       "      <td>172</td>\n",
       "      <td>14357</td>\n",
       "      <td>39401</td>\n",
       "      <td>5.488751</td>\n",
       "      <td>1.716897e+07</td>\n",
       "      <td>...</td>\n",
       "      <td>20606</td>\n",
       "      <td>433.147439</td>\n",
       "      <td>1.067840</td>\n",
       "      <td>0.004465</td>\n",
       "      <td>2.012523</td>\n",
       "      <td>1.669790</td>\n",
       "      <td>2406.696840</td>\n",
       "      <td>1251.142264</td>\n",
       "      <td>7.048505</td>\n",
       "      <td>7133.829924</td>\n",
       "    </tr>\n",
       "    <tr>\n",
       "      <th>1</th>\n",
       "      <td>Akron, OH</td>\n",
       "      <td>298</td>\n",
       "      <td>6741</td>\n",
       "      <td>15835</td>\n",
       "      <td>1.10</td>\n",
       "      <td>716</td>\n",
       "      <td>26865</td>\n",
       "      <td>70900</td>\n",
       "      <td>5.278243</td>\n",
       "      <td>1.519199e+07</td>\n",
       "      <td>...</td>\n",
       "      <td>36980</td>\n",
       "      <td>217.395754</td>\n",
       "      <td>1.056240</td>\n",
       "      <td>0.015089</td>\n",
       "      <td>11.231303</td>\n",
       "      <td>8.862967</td>\n",
       "      <td>6351.230011</td>\n",
       "      <td>3360.943838</td>\n",
       "      <td>14.307097</td>\n",
       "      <td>2391.975398</td>\n",
       "    </tr>\n",
       "    <tr>\n",
       "      <th>2</th>\n",
       "      <td>Albany, GA</td>\n",
       "      <td>54</td>\n",
       "      <td>870</td>\n",
       "      <td>1905</td>\n",
       "      <td>1.08</td>\n",
       "      <td>96</td>\n",
       "      <td>8466</td>\n",
       "      <td>22838</td>\n",
       "      <td>5.395228</td>\n",
       "      <td>9.545102e+06</td>\n",
       "      <td>...</td>\n",
       "      <td>11954</td>\n",
       "      <td>417.399446</td>\n",
       "      <td>1.052833</td>\n",
       "      <td>0.002928</td>\n",
       "      <td>2.028965</td>\n",
       "      <td>1.667318</td>\n",
       "      <td>2287.583389</td>\n",
       "      <td>1195.808038</td>\n",
       "      <td>6.979580</td>\n",
       "      <td>4172.570196</td>\n",
       "    </tr>\n",
       "    <tr>\n",
       "      <th>3</th>\n",
       "      <td>Albany-Lebanon, OR</td>\n",
       "      <td>35</td>\n",
       "      <td>465</td>\n",
       "      <td>1046</td>\n",
       "      <td>1.06</td>\n",
       "      <td>78</td>\n",
       "      <td>7132</td>\n",
       "      <td>17906</td>\n",
       "      <td>5.021312</td>\n",
       "      <td>8.280294e+06</td>\n",
       "      <td>...</td>\n",
       "      <td>9147</td>\n",
       "      <td>461.948061</td>\n",
       "      <td>1.150205</td>\n",
       "      <td>0.005466</td>\n",
       "      <td>1.193324</td>\n",
       "      <td>0.853498</td>\n",
       "      <td>1385.456359</td>\n",
       "      <td>706.999160</td>\n",
       "      <td>7.519705</td>\n",
       "      <td>5976.582645</td>\n",
       "    </tr>\n",
       "    <tr>\n",
       "      <th>4</th>\n",
       "      <td>Albany-Schenectady-Troy, NY</td>\n",
       "      <td>297</td>\n",
       "      <td>6240</td>\n",
       "      <td>15617</td>\n",
       "      <td>1.15</td>\n",
       "      <td>732</td>\n",
       "      <td>36977</td>\n",
       "      <td>96867</td>\n",
       "      <td>5.239311</td>\n",
       "      <td>2.787244e+07</td>\n",
       "      <td>...</td>\n",
       "      <td>50900</td>\n",
       "      <td>285.961192</td>\n",
       "      <td>1.091565</td>\n",
       "      <td>0.033320</td>\n",
       "      <td>4.962653</td>\n",
       "      <td>4.060365</td>\n",
       "      <td>3740.737967</td>\n",
       "      <td>1953.471821</td>\n",
       "      <td>41.455466</td>\n",
       "      <td>7451.054339</td>\n",
       "    </tr>\n",
       "  </tbody>\n",
       "</table>\n",
       "<p>5 rows × 24 columns</p>\n",
       "</div>"
      ],
      "text/plain": [
       "                           msa  auto_commuters  \\\n",
       "0                  Abilene, TX              64   \n",
       "1                    Akron, OH             298   \n",
       "2                   Albany, GA              54   \n",
       "3           Albany-Lebanon, OR              35   \n",
       "4  Albany-Schenectady-Troy, NY             297   \n",
       "\n",
       "   annual_excess_fuel_consumed_commuters  ahd_ph   tti  ahd_truck      n  \\\n",
       "0                                   1282    2548  1.07        172  14357   \n",
       "1                                   6741   15835  1.10        716  26865   \n",
       "2                                    870    1905  1.08         96   8466   \n",
       "3                                    465    1046  1.06         78   7132   \n",
       "4                                   6240   15617  1.15        732  36977   \n",
       "\n",
       "       m     k_avg  edge_length_total  ...  street_segment_count  \\\n",
       "0  39401  5.488751       1.716897e+07  ...                 20606   \n",
       "1  70900  5.278243       1.519199e+07  ...                 36980   \n",
       "2  22838  5.395228       9.545102e+06  ...                 11954   \n",
       "3  17906  5.021312       8.280294e+06  ...                  9147   \n",
       "4  96867  5.239311       2.787244e+07  ...                 50900   \n",
       "\n",
       "   street_length_avg  circuity_avg  self_loop_proportion  node_density_km  \\\n",
       "0         433.147439      1.067840              0.004465         2.012523   \n",
       "1         217.395754      1.056240              0.015089        11.231303   \n",
       "2         417.399446      1.052833              0.002928         2.028965   \n",
       "3         461.948061      1.150205              0.005466         1.193324   \n",
       "4         285.961192      1.091565              0.033320         4.962653   \n",
       "\n",
       "   intersection_density_km  edge_density_km  street_density_km  \\\n",
       "0                 1.669790      2406.696840        1251.142264   \n",
       "1                 8.862967      6351.230011        3360.943838   \n",
       "2                 1.667318      2287.583389        1195.808038   \n",
       "3                 0.853498      1385.456359         706.999160   \n",
       "4                 4.060365      3740.737967        1953.471821   \n",
       "\n",
       "   builing_area_sqkm    area_sqkm  \n",
       "0           7.048505  7133.829924  \n",
       "1          14.307097  2391.975398  \n",
       "2           6.979580  4172.570196  \n",
       "3           7.519705  5976.582645  \n",
       "4          41.455466  7451.054339  \n",
       "\n",
       "[5 rows x 24 columns]"
      ]
     },
     "execution_count": 6,
     "metadata": {},
     "output_type": "execute_result"
    }
   ],
   "source": [
    "df.head()"
   ]
  },
  {
   "cell_type": "code",
   "execution_count": 7,
   "id": "b007c119-ef20-41f2-831d-f737a1c0ad92",
   "metadata": {},
   "outputs": [],
   "source": [
    "df = df.merge(mod, left_on='msa', right_on='msa', how='inner')"
   ]
  },
  {
   "cell_type": "code",
   "execution_count": 8,
   "id": "b4d4dfaf-0de6-4431-b26a-07f7735a71ac",
   "metadata": {},
   "outputs": [],
   "source": [
    "df = df.merge(unemp, left_on = 'msa', right_on = 'msa', how = 'left')"
   ]
  },
  {
   "cell_type": "code",
   "execution_count": 9,
   "id": "0bc504ea-c066-45ff-b9ea-18672591a551",
   "metadata": {},
   "outputs": [],
   "source": [
    "df = df.merge(inc, left_on = 'msa', right_on = 'msa', how = 'left')"
   ]
  },
  {
   "cell_type": "code",
   "execution_count": 10,
   "id": "ce1af946-985c-406c-bc74-67e4909c76df",
   "metadata": {},
   "outputs": [],
   "source": [
    "df = df.merge(pop, left_on = 'msa', right_on = 'msa', how = 'left')"
   ]
  },
  {
   "cell_type": "code",
   "execution_count": 11,
   "id": "b6e995cb-c3ce-45d8-8449-fd97a00d57c7",
   "metadata": {},
   "outputs": [],
   "source": [
    "df = df.dropna(subset=['tti'])\n",
    "# df['log_tti'] = np.log10(df['tti'])"
   ]
  },
  {
   "cell_type": "code",
   "execution_count": 12,
   "id": "db827786-3659-4492-9a13-55cc342b804a",
   "metadata": {},
   "outputs": [
    {
     "data": {
      "text/html": [
       "<div>\n",
       "<style scoped>\n",
       "    .dataframe tbody tr th:only-of-type {\n",
       "        vertical-align: middle;\n",
       "    }\n",
       "\n",
       "    .dataframe tbody tr th {\n",
       "        vertical-align: top;\n",
       "    }\n",
       "\n",
       "    .dataframe thead th {\n",
       "        text-align: right;\n",
       "    }\n",
       "</style>\n",
       "<table border=\"1\" class=\"dataframe\">\n",
       "  <thead>\n",
       "    <tr style=\"text-align: right;\">\n",
       "      <th></th>\n",
       "      <th>msa</th>\n",
       "      <th>auto_commuters</th>\n",
       "      <th>annual_excess_fuel_consumed_commuters</th>\n",
       "      <th>ahd_ph</th>\n",
       "      <th>tti</th>\n",
       "      <th>ahd_truck</th>\n",
       "      <th>n</th>\n",
       "      <th>m</th>\n",
       "      <th>k_avg</th>\n",
       "      <th>edge_length_total</th>\n",
       "      <th>...</th>\n",
       "      <th>ms_carp_per</th>\n",
       "      <th>ms_pt_per</th>\n",
       "      <th>ms_taxi_per</th>\n",
       "      <th>ms_bike_per</th>\n",
       "      <th>ms_walk_per</th>\n",
       "      <th>ms_wfh_per</th>\n",
       "      <th>unemp</th>\n",
       "      <th>med_hh_inc_dol</th>\n",
       "      <th>households</th>\n",
       "      <th>population</th>\n",
       "    </tr>\n",
       "  </thead>\n",
       "  <tbody>\n",
       "    <tr>\n",
       "      <th>0</th>\n",
       "      <td>Abilene, TX</td>\n",
       "      <td>64</td>\n",
       "      <td>1282</td>\n",
       "      <td>2548</td>\n",
       "      <td>1.07</td>\n",
       "      <td>172</td>\n",
       "      <td>14357</td>\n",
       "      <td>39401</td>\n",
       "      <td>5.488751</td>\n",
       "      <td>1.716897e+07</td>\n",
       "      <td>...</td>\n",
       "      <td>100.105752</td>\n",
       "      <td>0.510579</td>\n",
       "      <td>0.915432</td>\n",
       "      <td>0.265604</td>\n",
       "      <td>1.943037</td>\n",
       "      <td>5.499039</td>\n",
       "      <td>3.4</td>\n",
       "      <td>52511</td>\n",
       "      <td>60931</td>\n",
       "      <td>170669</td>\n",
       "    </tr>\n",
       "    <tr>\n",
       "      <th>1</th>\n",
       "      <td>Akron, OH</td>\n",
       "      <td>298</td>\n",
       "      <td>6741</td>\n",
       "      <td>15835</td>\n",
       "      <td>1.10</td>\n",
       "      <td>716</td>\n",
       "      <td>26865</td>\n",
       "      <td>70900</td>\n",
       "      <td>5.278243</td>\n",
       "      <td>1.519199e+07</td>\n",
       "      <td>...</td>\n",
       "      <td>100.071737</td>\n",
       "      <td>1.303214</td>\n",
       "      <td>0.614118</td>\n",
       "      <td>0.096859</td>\n",
       "      <td>1.592914</td>\n",
       "      <td>4.545640</td>\n",
       "      <td>5.4</td>\n",
       "      <td>57285</td>\n",
       "      <td>286543</td>\n",
       "      <td>703845</td>\n",
       "    </tr>\n",
       "    <tr>\n",
       "      <th>2</th>\n",
       "      <td>Albany, GA</td>\n",
       "      <td>54</td>\n",
       "      <td>870</td>\n",
       "      <td>1905</td>\n",
       "      <td>1.08</td>\n",
       "      <td>96</td>\n",
       "      <td>8466</td>\n",
       "      <td>22838</td>\n",
       "      <td>5.395228</td>\n",
       "      <td>9.545102e+06</td>\n",
       "      <td>...</td>\n",
       "      <td>100.114382</td>\n",
       "      <td>0.995359</td>\n",
       "      <td>0.906248</td>\n",
       "      <td>0.131145</td>\n",
       "      <td>1.585513</td>\n",
       "      <td>3.752774</td>\n",
       "      <td>10.6</td>\n",
       "      <td>44844</td>\n",
       "      <td>55714</td>\n",
       "      <td>148436</td>\n",
       "    </tr>\n",
       "    <tr>\n",
       "      <th>3</th>\n",
       "      <td>Albany-Lebanon, OR</td>\n",
       "      <td>35</td>\n",
       "      <td>465</td>\n",
       "      <td>1046</td>\n",
       "      <td>1.06</td>\n",
       "      <td>78</td>\n",
       "      <td>7132</td>\n",
       "      <td>17906</td>\n",
       "      <td>5.021312</td>\n",
       "      <td>8.280294e+06</td>\n",
       "      <td>...</td>\n",
       "      <td>100.111969</td>\n",
       "      <td>0.170747</td>\n",
       "      <td>1.503313</td>\n",
       "      <td>0.645868</td>\n",
       "      <td>2.225274</td>\n",
       "      <td>4.960932</td>\n",
       "      <td>6.6</td>\n",
       "      <td>55893</td>\n",
       "      <td>47762</td>\n",
       "      <td>125048</td>\n",
       "    </tr>\n",
       "    <tr>\n",
       "      <th>4</th>\n",
       "      <td>Albany-Schenectady-Troy, NY</td>\n",
       "      <td>297</td>\n",
       "      <td>6240</td>\n",
       "      <td>15617</td>\n",
       "      <td>1.15</td>\n",
       "      <td>732</td>\n",
       "      <td>36977</td>\n",
       "      <td>96867</td>\n",
       "      <td>5.239311</td>\n",
       "      <td>2.787244e+07</td>\n",
       "      <td>...</td>\n",
       "      <td>100.080156</td>\n",
       "      <td>3.618297</td>\n",
       "      <td>0.859834</td>\n",
       "      <td>0.280518</td>\n",
       "      <td>3.332137</td>\n",
       "      <td>4.555087</td>\n",
       "      <td>4.6</td>\n",
       "      <td>71285</td>\n",
       "      <td>352713</td>\n",
       "      <td>880736</td>\n",
       "    </tr>\n",
       "  </tbody>\n",
       "</table>\n",
       "<p>5 rows × 35 columns</p>\n",
       "</div>"
      ],
      "text/plain": [
       "                           msa  auto_commuters  \\\n",
       "0                  Abilene, TX              64   \n",
       "1                    Akron, OH             298   \n",
       "2                   Albany, GA              54   \n",
       "3           Albany-Lebanon, OR              35   \n",
       "4  Albany-Schenectady-Troy, NY             297   \n",
       "\n",
       "   annual_excess_fuel_consumed_commuters  ahd_ph   tti  ahd_truck      n  \\\n",
       "0                                   1282    2548  1.07        172  14357   \n",
       "1                                   6741   15835  1.10        716  26865   \n",
       "2                                    870    1905  1.08         96   8466   \n",
       "3                                    465    1046  1.06         78   7132   \n",
       "4                                   6240   15617  1.15        732  36977   \n",
       "\n",
       "       m     k_avg  edge_length_total  ...  ms_carp_per  ms_pt_per  \\\n",
       "0  39401  5.488751       1.716897e+07  ...   100.105752   0.510579   \n",
       "1  70900  5.278243       1.519199e+07  ...   100.071737   1.303214   \n",
       "2  22838  5.395228       9.545102e+06  ...   100.114382   0.995359   \n",
       "3  17906  5.021312       8.280294e+06  ...   100.111969   0.170747   \n",
       "4  96867  5.239311       2.787244e+07  ...   100.080156   3.618297   \n",
       "\n",
       "   ms_taxi_per  ms_bike_per  ms_walk_per  ms_wfh_per  unemp  med_hh_inc_dol  \\\n",
       "0     0.915432     0.265604     1.943037    5.499039    3.4           52511   \n",
       "1     0.614118     0.096859     1.592914    4.545640    5.4           57285   \n",
       "2     0.906248     0.131145     1.585513    3.752774   10.6           44844   \n",
       "3     1.503313     0.645868     2.225274    4.960932    6.6           55893   \n",
       "4     0.859834     0.280518     3.332137    4.555087    4.6           71285   \n",
       "\n",
       "   households  population  \n",
       "0       60931      170669  \n",
       "1      286543      703845  \n",
       "2       55714      148436  \n",
       "3       47762      125048  \n",
       "4      352713      880736  \n",
       "\n",
       "[5 rows x 35 columns]"
      ]
     },
     "execution_count": 12,
     "metadata": {},
     "output_type": "execute_result"
    }
   ],
   "source": [
    "df.head()"
   ]
  },
  {
   "cell_type": "code",
   "execution_count": 13,
   "id": "6f2775cc-08eb-419c-a112-45d242c4bf97",
   "metadata": {},
   "outputs": [
    {
     "data": {
      "text/plain": [
       "35"
      ]
     },
     "execution_count": 13,
     "metadata": {},
     "output_type": "execute_result"
    }
   ],
   "source": [
    "len(df.columns)"
   ]
  },
  {
   "cell_type": "code",
   "execution_count": 14,
   "id": "eb388158-ec2d-4d47-8bec-7331b1d2a912",
   "metadata": {},
   "outputs": [
    {
     "data": {
      "text/plain": [
       "359"
      ]
     },
     "execution_count": 14,
     "metadata": {},
     "output_type": "execute_result"
    }
   ],
   "source": [
    "len(df)"
   ]
  },
  {
   "cell_type": "code",
   "execution_count": 15,
   "id": "5210b933-e9e8-444a-8221-6bd4ee16d996",
   "metadata": {},
   "outputs": [],
   "source": [
    "df = df.set_index('msa')"
   ]
  },
  {
   "cell_type": "code",
   "execution_count": 16,
   "id": "f9bb834c-e730-44da-908b-5d6d013c6404",
   "metadata": {},
   "outputs": [],
   "source": [
    "from pathlib import Path  \n",
    "filepath = Path('../../data/tidy/congestion-exploration19.csv', index = False)  \n",
    "filepath.parent.mkdir(parents=True, exist_ok=True)  \n",
    "df.to_csv(filepath)"
   ]
  },
  {
   "cell_type": "code",
   "execution_count": 17,
   "id": "312633cf-cc15-46fc-a83d-3aa83dd0be49",
   "metadata": {},
   "outputs": [],
   "source": [
    "rf = RandomForestRegressor(max_features= 8, n_estimators=100, random_state=0, max_depth = 9) #ccp_alpha=0.1\n",
    "X = df.drop(columns=['tti'])\n",
    "Y = (df['tti'])\n",
    "X_train, X_test, y_train, y_test = train_test_split(X, Y, test_size = .2, random_state = 1)\n",
    "rf.fit(X_train, y_train)\n",
    "y_pred = rf.predict(X_test)\n",
    "#y_pred\n"
   ]
  },
  {
   "cell_type": "code",
   "execution_count": 18,
   "id": "8460ff23-4d86-40ab-bf99-4a0894fcec84",
   "metadata": {},
   "outputs": [
    {
     "data": {
      "text/plain": [
       "{'max_depth': 9, 'max_features': 12, 'n_estimators': 200}"
      ]
     },
     "execution_count": 18,
     "metadata": {},
     "output_type": "execute_result"
    }
   ],
   "source": [
    "from sklearn.model_selection import GridSearchCV\n",
    "from sklearn.metrics import accuracy_score\n",
    "from sklearn.svm import SVC\n",
    "param_grid = { \n",
    "    'n_estimators': [50, 100, 200, 300, 400, ],\n",
    "    'max_features': [5, 9, 12, 'sqrt', 'log2'],\n",
    "    'max_depth' : [5,7, 9, 10, 12],   \n",
    "}\n",
    "CV_rf = GridSearchCV(estimator=rf, param_grid=param_grid, cv= 5)\n",
    "CV_rf.fit(X_train, y_train)\n",
    "CV_rf.best_params_"
   ]
  },
  {
   "cell_type": "code",
   "execution_count": 19,
   "id": "7c386611-c853-4608-9313-18f14fc66b62",
   "metadata": {},
   "outputs": [
    {
     "name": "stdout",
     "output_type": "stream",
     "text": [
      "mse = 0.0010553437202801795 mape = 0.022636480526723915 rmse = 0.032486054243016024\n"
     ]
    }
   ],
   "source": [
    "mse = mean_squared_error(y_test, y_pred)\n",
    "mape = mean_absolute_percentage_error(y_test, y_pred)\n",
    "rmse = np.sqrt(mean_squared_error(y_test, y_pred))\n",
    "print(f'mse = {mse} mape = {mape} rmse = {rmse}')"
   ]
  },
  {
   "cell_type": "code",
   "execution_count": 20,
   "id": "71788cf4-f4fd-4eda-85f5-0de7ffb39565",
   "metadata": {},
   "outputs": [
    {
     "data": {
      "image/png": "[encoded data removed]",
      "text/plain": [
       "<Figure size 640x480 with 1 Axes>"
      ]
     },
     "metadata": {},
     "output_type": "display_data"
    }
   ],
   "source": [
    "plt.scatter(y_test, y_pred)\n",
    "plt.ylim(1, 1.5)\n",
    "plt.xlim(1, 1.5)\n",
    "x = np.linspace(0,2,20)\n",
    "y = np.linspace(0,2,20)\n",
    "plt.plot(x, y, color = 'red')\n",
    "plt.savefig('../../figures/tti-pred')"
   ]
  },
  {
   "cell_type": "code",
   "execution_count": 21,
   "id": "1f8a255b-e495-4325-b7fe-5517713e298b",
   "metadata": {},
   "outputs": [
    {
     "data": {
      "text/plain": [
       "[<matplotlib.lines.Line2D at 0x1b395ebd360>]"
      ]
     },
     "execution_count": 21,
     "metadata": {},
     "output_type": "execute_result"
    },
    {
     "data": {
      "image/png": "[encoded data removed]",
      "text/plain": [
       "<Figure size 640x480 with 1 Axes>"
      ]
     },
     "metadata": {},
     "output_type": "display_data"
    }
   ],
   "source": [
    "y_pred_train = rf.predict(X_train)\n",
    "plt.scatter(y_train, y_pred_train)\n",
    "plt.ylim(1, 1.5)\n",
    "plt.xlim(1, 1.5)\n",
    "x = np.linspace(0,2,20)\n",
    "y = np.linspace(0,2,20)\n",
    "plt.plot(x, y, color = 'red')"
   ]
  },
  {
   "cell_type": "code",
   "execution_count": 22,
   "id": "0c0e10ea-775d-4725-ac7b-5f31818c7aef",
   "metadata": {},
   "outputs": [],
   "source": [
    "result = permutation_importance(\n",
    "    rf, X_test, y_test, n_repeats=10, random_state=42, n_jobs=2)\n",
    "tree_importances = pd.Series(result.importances_mean, index=X.columns)"
   ]
  },
  {
   "cell_type": "code",
   "execution_count": 23,
   "id": "9f087604-4ae6-43c4-9bed-8eb542beb3ff",
   "metadata": {},
   "outputs": [
    {
     "data": {
      "image/png": "[encoded data removed]",
      "text/plain": [
       "<Figure size 800x900 with 1 Axes>"
      ]
     },
     "metadata": {},
     "output_type": "display_data"
    }
   ],
   "source": [
    "# sort features according to importance\n",
    "sorted_idx = np.argsort(tree_importances)\n",
    "pos = np.arange(sorted_idx.shape[0])\n",
    "\n",
    "plt.figure(figsize=(8,9))\n",
    "# plot feature importances\n",
    "plt.barh(pos, tree_importances[sorted_idx], align=\"center\")\n",
    "\n",
    "plt.yticks(pos, np.array(X.columns)[sorted_idx])\n",
    "plt.title(\"Feature Importance (MDI)\")\n",
    "plt.xlabel(\"Mean decrease in impurity\");\n",
    "plt.tight_layout()\n",
    "plt.savefig('../../figures/tti-rf.png',dpi=300)"
   ]
  },
  {
   "cell_type": "code",
   "execution_count": 24,
   "id": "8dc37aac-9256-4f52-abae-f75809a7e808",
   "metadata": {},
   "outputs": [
    {
     "data": {
      "text/plain": [
       "array([ 16647.77760025,   4648.59918439,   8958.79443683,   3168.62621743,\n",
       "         3278.9242111 ,   3853.0146115 ,   4533.63880038,   3796.50940011,\n",
       "         3474.55588915,   3132.05683526,   8919.50157123,   3733.87462347,\n",
       "         5853.10993141,  14046.80688134,   6738.54664602,   3443.22017651,\n",
       "         3230.37568285,   3121.02815328,  14574.02886749,   8415.29773839,\n",
       "         3562.17066774,   4133.94327025,   3792.20295445,  24207.55743284,\n",
       "         3186.51340358,   3141.75997104,   4651.00648209,   4979.99703728,\n",
       "       168716.89655093,  14998.00060986,   3400.4198586 ,   3291.41759932,\n",
       "        29964.02724243,   4543.32010198,   3667.75884938,   3175.32206344,\n",
       "         4249.06369086,   3159.22915355,   7238.62532653,   3178.25096602,\n",
       "         3281.0462135 ,  26557.06929263, 128712.59189011,   6270.60805775,\n",
       "        13334.97712269, 165104.48500762,   3434.5646366 ,   3166.38545393,\n",
       "         3439.3277966 ,   3341.41948137,  16272.03188776,   9511.54469892,\n",
       "         7219.91544482,   9214.35844662,   8981.25521442,   8897.08407048,\n",
       "         4571.45487514,  52052.44386725,   3173.91703219, 100877.47888048,\n",
       "        68174.78630094,   4108.36348719,  22829.604767  ,   9274.66433392,\n",
       "         3167.86217457,   3203.04477062,   3338.1225729 ,   3358.45057918,\n",
       "         3135.5429481 ,   3281.81307593,   3351.86179765,  56991.08260411])"
      ]
     },
     "execution_count": 24,
     "metadata": {},
     "output_type": "execute_result"
    }
   ],
   "source": [
    "rfc = RandomForestRegressor(max_features= 'log2', n_estimators=700, random_state=0, max_depth = 4 ) #ccp_alpha=0.1\n",
    "A = df.drop(columns=['ahd_ph' ])\n",
    "B = (df['ahd_ph'])\n",
    "A_train, A_test, b_train, b_test = train_test_split(A, B, test_size = .2, random_state = 1)\n",
    "rfc.fit(A_train, b_train)\n",
    "b_pred = rfc.predict(A_test)\n",
    "b_pred"
   ]
  },
  {
   "cell_type": "code",
   "execution_count": 25,
   "id": "fd88d73e-ed9e-42dd-9114-c1a8ef539dff",
   "metadata": {},
   "outputs": [
    {
     "name": "stdout",
     "output_type": "stream",
     "text": [
      "mse = 28556768.623235963 mape = 0.9158394587484412 rmse = 5343.85334971273\n"
     ]
    }
   ],
   "source": [
    "mse = mean_squared_error(b_test, b_pred)\n",
    "mape = mean_absolute_percentage_error(b_test, b_pred)\n",
    "rmse = np.sqrt(mean_squared_error(b_test, b_pred))\n",
    "print(f'mse = {mse} mape = {mape} rmse = {rmse}')"
   ]
  },
  {
   "cell_type": "code",
   "execution_count": null,
   "id": "274b0a60-6566-49e7-b06d-3d0e65486280",
   "metadata": {},
   "outputs": [],
   "source": [
    "param_grid = { \n",
    "    'n_estimators': [100, 200,300, 400, 500, 600, 700],\n",
    "    'max_features': [3, 5, 9, 12, 'sqrt', 'log2'],\n",
    "    'max_depth' : [2, 3, 4,5,6,7,8, 9, 10, 11],   \n",
    "}\n",
    "CV_rfc = GridSearchCV(estimator=rfc, param_grid=param_grid, cv= 5)\n",
    "CV_rfc.fit(A_train, b_train)\n",
    "CV_rfc.best_params_"
   ]
  },
  {
   "cell_type": "code",
   "execution_count": null,
   "id": "a1290528-e1e4-4d7f-b541-60228e4afab8",
   "metadata": {},
   "outputs": [],
   "source": [
    "plt.scatter(b_test, b_pred)\n",
    "plt.ylim(0,40000)\n",
    "plt.xlim(0, 40000)\n",
    "x = np.linspace(0,40000,20)\n",
    "y = np.linspace(0,40000,20)\n",
    "plt.plot(x, y, color = 'red')\n",
    "plt.savefig('../../figures/ahd_pred')"
   ]
  },
  {
   "cell_type": "code",
   "execution_count": null,
   "id": "e3a21735-8af3-4447-a6a5-7f10d1689391",
   "metadata": {},
   "outputs": [],
   "source": [
    "result = permutation_importance(\n",
    "    rfc, A_test, b_test, n_repeats=10, random_state=42, n_jobs=2)\n",
    "tree_importances = pd.Series(result.importances_mean, index=X.columns)"
   ]
  },
  {
   "cell_type": "code",
   "execution_count": null,
   "id": "e0cbdeeb-6096-499a-a157-71f5f40c51cd",
   "metadata": {},
   "outputs": [],
   "source": [
    "# sort features according to importance\n",
    "sorted_idx = np.argsort(tree_importances)\n",
    "pos = np.arange(sorted_idx.shape[0])\n",
    "\n",
    "plt.figure(figsize=(8,9))\n",
    "# plot feature importances\n",
    "plt.barh(pos, tree_importances[sorted_idx], align=\"center\")\n",
    "\n",
    "plt.yticks(pos, np.array(A.columns)[sorted_idx])\n",
    "plt.title(\"Feature Importance (MDI)\")\n",
    "plt.xlabel(\"Mean decrease in impurity\");\n",
    "plt.tight_layout()\n",
    "plt.savefig('../../figures/ahd-rf.png',dpi=300)"
   ]
  },
  {
   "cell_type": "code",
   "execution_count": null,
   "id": "ff31be66-0e6b-46ed-b80b-17a41e88a3e6",
   "metadata": {},
   "outputs": [],
   "source": []
  },
  {
   "cell_type": "code",
   "execution_count": null,
   "id": "e8f8a3bc-ec2f-4332-81ed-af94b207594e",
   "metadata": {},
   "outputs": [],
   "source": []
  },
  {
   "cell_type": "code",
   "execution_count": null,
   "id": "7ae1d817-12fa-45c1-bc8a-803e10b79025",
   "metadata": {},
   "outputs": [],
   "source": []
  },
  {
   "cell_type": "code",
   "execution_count": null,
   "id": "64a41ac8-4d0d-448d-821a-e814347f2fa1",
   "metadata": {},
   "outputs": [],
   "source": [
    "\n"
   ]
  }
 ],
 "metadata": {
  "kernelspec": {
   "display_name": "Python 3 (ipykernel)",
   "language": "python",
   "name": "python3"
  },
  "language_info": {
   "codemirror_mode": {
    "name": "ipython",
    "version": 3
   },
   "file_extension": ".py",
   "mimetype": "text/x-python",
   "name": "python",
   "nbconvert_exporter": "python",
   "pygments_lexer": "ipython3",
   "version": "3.10.8"
  }
 },
 "nbformat": 4,
 "nbformat_minor": 5
}
