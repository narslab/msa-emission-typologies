{
 "cells": [
  {
   "cell_type": "code",
   "execution_count": 1,
   "id": "252a82ec-af62-43dd-9a08-bc62ea63d175",
   "metadata": {
    "tags": []
   },
   "outputs": [],
   "source": [
    "import numpy as np\n",
    "import pandas as pd\n",
    "from pathlib import Path  "
   ]
  },
  {
   "cell_type": "code",
   "execution_count": 198,
   "id": "359bc3e0-9c3a-45f4-8964-a9af1ee87d88",
   "metadata": {
    "tags": []
   },
   "outputs": [
    {
     "data": {
      "text/html": [
       "<div>\n",
       "<style scoped>\n",
       "    .dataframe tbody tr th:only-of-type {\n",
       "        vertical-align: middle;\n",
       "    }\n",
       "\n",
       "    .dataframe tbody tr th {\n",
       "        vertical-align: top;\n",
       "    }\n",
       "\n",
       "    .dataframe thead th {\n",
       "        text-align: right;\n",
       "    }\n",
       "</style>\n",
       "<table border=\"1\" class=\"dataframe\">\n",
       "  <thead>\n",
       "    <tr style=\"text-align: right;\">\n",
       "      <th></th>\n",
       "      <th>Population</th>\n",
       "      <th>State</th>\n",
       "      <th>County</th>\n",
       "      <th>electricity (kWh)</th>\n",
       "      <th>Nat. Gas (cu.ft.)</th>\n",
       "      <th>FUELOIL (gallons)</th>\n",
       "      <th>Vehicle miles traveled</th>\n",
       "      <th>Transport (tCO2e/yr)</th>\n",
       "      <th>Housing (tCO2e/yr)</th>\n",
       "      <th>Food (tCO2e/yr)</th>\n",
       "      <th>Goods (tCO2e/yr)</th>\n",
       "      <th>Services (tCO2e/yr)</th>\n",
       "      <th>Total Household Carbon Footprint (tCO2e/yr)</th>\n",
       "      <th>Households</th>\n",
       "      <th>Total County Carbon Footprint (tCO2e/yr)</th>\n",
       "    </tr>\n",
       "  </thead>\n",
       "  <tbody>\n",
       "    <tr>\n",
       "      <th>0</th>\n",
       "      <td>10</td>\n",
       "      <td>AK</td>\n",
       "      <td>JUNEAU</td>\n",
       "      <td>4128.496254</td>\n",
       "      <td>26033.750948</td>\n",
       "      <td>72.354330</td>\n",
       "      <td>8074.000000</td>\n",
       "      <td>5.925587</td>\n",
       "      <td>6.065464</td>\n",
       "      <td>3.750000</td>\n",
       "      <td>3.054273</td>\n",
       "      <td>3.466416</td>\n",
       "      <td>22.261739</td>\n",
       "      <td>85.0</td>\n",
       "      <td>1892.247853</td>\n",
       "    </tr>\n",
       "    <tr>\n",
       "      <th>1</th>\n",
       "      <td>4336</td>\n",
       "      <td>AK</td>\n",
       "      <td>YUKON KOYUKUK</td>\n",
       "      <td>5581.508536</td>\n",
       "      <td>26607.262942</td>\n",
       "      <td>345.595186</td>\n",
       "      <td>10363.603552</td>\n",
       "      <td>7.543985</td>\n",
       "      <td>5.364597</td>\n",
       "      <td>8.801451</td>\n",
       "      <td>4.704034</td>\n",
       "      <td>4.957767</td>\n",
       "      <td>31.371833</td>\n",
       "      <td>1132.0</td>\n",
       "      <td>35512.914997</td>\n",
       "    </tr>\n",
       "    <tr>\n",
       "      <th>2</th>\n",
       "      <td>15981</td>\n",
       "      <td>AK</td>\n",
       "      <td>BETHEL</td>\n",
       "      <td>5938.450363</td>\n",
       "      <td>26562.320038</td>\n",
       "      <td>556.653438</td>\n",
       "      <td>11799.094049</td>\n",
       "      <td>8.452924</td>\n",
       "      <td>3.028379</td>\n",
       "      <td>11.553512</td>\n",
       "      <td>5.435957</td>\n",
       "      <td>5.560463</td>\n",
       "      <td>34.031235</td>\n",
       "      <td>1239.0</td>\n",
       "      <td>42164.700168</td>\n",
       "    </tr>\n",
       "    <tr>\n",
       "      <th>3</th>\n",
       "      <td>1745</td>\n",
       "      <td>AK</td>\n",
       "      <td>LAKE AND PENINSULA</td>\n",
       "      <td>6091.910223</td>\n",
       "      <td>25538.669840</td>\n",
       "      <td>579.568249</td>\n",
       "      <td>11820.514040</td>\n",
       "      <td>8.646400</td>\n",
       "      <td>8.184707</td>\n",
       "      <td>9.401811</td>\n",
       "      <td>5.201408</td>\n",
       "      <td>5.533073</td>\n",
       "      <td>36.967400</td>\n",
       "      <td>819.0</td>\n",
       "      <td>30276.300664</td>\n",
       "    </tr>\n",
       "    <tr>\n",
       "      <th>4</th>\n",
       "      <td>5098</td>\n",
       "      <td>AK</td>\n",
       "      <td>ALEUTIANS WEST</td>\n",
       "      <td>5361.596806</td>\n",
       "      <td>23406.596842</td>\n",
       "      <td>502.171462</td>\n",
       "      <td>17587.886230</td>\n",
       "      <td>13.408990</td>\n",
       "      <td>2.364099</td>\n",
       "      <td>7.677670</td>\n",
       "      <td>6.683501</td>\n",
       "      <td>7.774904</td>\n",
       "      <td>37.909165</td>\n",
       "      <td>352.0</td>\n",
       "      <td>13344.025940</td>\n",
       "    </tr>\n",
       "  </tbody>\n",
       "</table>\n",
       "</div>"
      ],
      "text/plain": [
       "   Population State               County  electricity (kWh)  \\\n",
       "0          10    AK              JUNEAU         4128.496254   \n",
       "1        4336    AK       YUKON KOYUKUK         5581.508536   \n",
       "2       15981    AK              BETHEL         5938.450363   \n",
       "3        1745    AK  LAKE AND PENINSULA         6091.910223   \n",
       "4        5098    AK      ALEUTIANS WEST         5361.596806   \n",
       "\n",
       "   Nat. Gas (cu.ft.)  FUELOIL (gallons)  Vehicle miles traveled  \\\n",
       "0       26033.750948          72.354330             8074.000000   \n",
       "1       26607.262942         345.595186            10363.603552   \n",
       "2       26562.320038         556.653438            11799.094049   \n",
       "3       25538.669840         579.568249            11820.514040   \n",
       "4       23406.596842         502.171462            17587.886230   \n",
       "\n",
       "   Transport (tCO2e/yr)  Housing (tCO2e/yr)  Food (tCO2e/yr)  \\\n",
       "0              5.925587            6.065464         3.750000   \n",
       "1              7.543985            5.364597         8.801451   \n",
       "2              8.452924            3.028379        11.553512   \n",
       "3              8.646400            8.184707         9.401811   \n",
       "4             13.408990            2.364099         7.677670   \n",
       "\n",
       "   Goods (tCO2e/yr)  Services (tCO2e/yr)  \\\n",
       "0          3.054273             3.466416   \n",
       "1          4.704034             4.957767   \n",
       "2          5.435957             5.560463   \n",
       "3          5.201408             5.533073   \n",
       "4          6.683501             7.774904   \n",
       "\n",
       "   Total Household Carbon Footprint (tCO2e/yr)  Households  \\\n",
       "0                                    22.261739        85.0   \n",
       "1                                    31.371833      1132.0   \n",
       "2                                    34.031235      1239.0   \n",
       "3                                    36.967400       819.0   \n",
       "4                                    37.909165       352.0   \n",
       "\n",
       "   Total County Carbon Footprint (tCO2e/yr)  \n",
       "0                               1892.247853  \n",
       "1                              35512.914997  \n",
       "2                              42164.700168  \n",
       "3                              30276.300664  \n",
       "4                              13344.025940  "
      ]
     },
     "execution_count": 198,
     "metadata": {},
     "output_type": "execute_result"
    }
   ],
   "source": [
    "#df2 = pd.ExcelFile('../../data/raw/Jones-Kammen-2014-Zip-City-County-Results.xlsx')\n",
    "cfc_df = pd.read_excel('../../data/raw/Jones-Kammen-2014-Zip-City-County-Results.xlsx', sheet_name= 'County results')\n",
    "cfc_df.head()"
   ]
  },
  {
   "cell_type": "code",
   "execution_count": 5,
   "id": "535cf9ee-6158-40ce-9b6e-8674bd006c29",
   "metadata": {
    "tags": []
   },
   "outputs": [],
   "source": [
    "#create new columns for data\n",
    "cfc_df.insert(loc = 0, column = 'Transport Total (tCO2e/yr)', value = cfc_df['Transport (tCO2e/yr)']*cfc_df['Households'])\n",
    "cfc_df.insert(loc = 0, column = 'Housing Total (tCO2e/yr)', value = cfc_df['Housing (tCO2e/yr)']*cfc_df['Households'])\n",
    "cfc_df.insert(loc = 0, column = 'Food Total (tCO2e/yr)', value = cfc_df['Food (tCO2e/yr)']*cfc_df['Households'])\n",
    "cfc_df.insert(loc = 0, column = 'Goods Total (tCO2e/yr)', value = cfc_df['Goods (tCO2e/yr)']*cfc_df['Households'])\n",
    "cfc_df.insert(loc = 0, column = 'Services Total (tCO2e/yr)', value = cfc_df['Services (tCO2e/yr)']*cfc_df['Households'])"
   ]
  },
  {
   "cell_type": "code",
   "execution_count": 6,
   "id": "b862f6ba-a870-4d2b-b85f-2a557063d381",
   "metadata": {
    "tags": []
   },
   "outputs": [],
   "source": [
    "## change misnomer 'Total Household Carbon Footprint (tCO2e/yr)' to 'Total Per-Household Carbon Footprint (tCO2e/yr)'\n",
    "cfc_df.rename(columns = {'Total Household Carbon Footprint (tCO2e/yr)' : 'Total Per-Household Carbon Footprint (tCO2e/yr)'}, inplace = True)"
   ]
  },
  {
   "cell_type": "code",
   "execution_count": 148,
   "id": "756974d1-a684-4866-8c40-ec6bb8714824",
   "metadata": {
    "tags": []
   },
   "outputs": [],
   "source": [
    "cfc_df_totals = cfc_df[['Population', 'State', 'County', 'electricity (kWh)', 'Nat. Gas (cu.ft.)', 'FUELOIL (gallons)', 'Vehicle miles traveled', \n",
    "                 'Transport Total (tCO2e/yr)','Housing Total (tCO2e/yr)', 'Food Total (tCO2e/yr)','Goods Total (tCO2e/yr)', \n",
    "                 'Services Total (tCO2e/yr)', # 'New Total Carbon Footprints per MSA', \n",
    "                 'Total Per-Household Carbon Footprint (tCO2e/yr)', 'Households', 'Total County Carbon Footprint (tCO2e/yr)']]"
   ]
  },
  {
   "cell_type": "code",
   "execution_count": 8,
   "id": "baa20584-c3d5-4ebb-a96b-6de049488b79",
   "metadata": {
    "tags": []
   },
   "outputs": [
    {
     "data": {
      "text/html": [
       "<div>\n",
       "<style scoped>\n",
       "    .dataframe tbody tr th:only-of-type {\n",
       "        vertical-align: middle;\n",
       "    }\n",
       "\n",
       "    .dataframe tbody tr th {\n",
       "        vertical-align: top;\n",
       "    }\n",
       "\n",
       "    .dataframe thead th {\n",
       "        text-align: right;\n",
       "    }\n",
       "</style>\n",
       "<table border=\"1\" class=\"dataframe\">\n",
       "  <thead>\n",
       "    <tr style=\"text-align: right;\">\n",
       "      <th></th>\n",
       "      <th>Population</th>\n",
       "      <th>State</th>\n",
       "      <th>County</th>\n",
       "      <th>electricity (kWh)</th>\n",
       "      <th>Nat. Gas (cu.ft.)</th>\n",
       "      <th>FUELOIL (gallons)</th>\n",
       "      <th>Vehicle miles traveled</th>\n",
       "      <th>Transport Total (tCO2e/yr)</th>\n",
       "      <th>Housing Total (tCO2e/yr)</th>\n",
       "      <th>Food Total (tCO2e/yr)</th>\n",
       "      <th>Goods Total (tCO2e/yr)</th>\n",
       "      <th>Services Total (tCO2e/yr)</th>\n",
       "      <th>Total Per-Household Carbon Footprint (tCO2e/yr)</th>\n",
       "      <th>Households</th>\n",
       "      <th>Total County Carbon Footprint (tCO2e/yr)</th>\n",
       "    </tr>\n",
       "  </thead>\n",
       "  <tbody>\n",
       "    <tr>\n",
       "      <th>0</th>\n",
       "      <td>10</td>\n",
       "      <td>AK</td>\n",
       "      <td>JUNEAU</td>\n",
       "      <td>4128.496254</td>\n",
       "      <td>26033.750948</td>\n",
       "      <td>72.354330</td>\n",
       "      <td>8074.000000</td>\n",
       "      <td>503.674865</td>\n",
       "      <td>515.564451</td>\n",
       "      <td>318.750000</td>\n",
       "      <td>259.613201</td>\n",
       "      <td>294.645335</td>\n",
       "      <td>22.261739</td>\n",
       "      <td>85.0</td>\n",
       "      <td>1892.247853</td>\n",
       "    </tr>\n",
       "    <tr>\n",
       "      <th>1</th>\n",
       "      <td>4336</td>\n",
       "      <td>AK</td>\n",
       "      <td>YUKON KOYUKUK</td>\n",
       "      <td>5581.508536</td>\n",
       "      <td>26607.262942</td>\n",
       "      <td>345.595186</td>\n",
       "      <td>10363.603552</td>\n",
       "      <td>8539.790566</td>\n",
       "      <td>6072.723929</td>\n",
       "      <td>9963.242131</td>\n",
       "      <td>5324.966486</td>\n",
       "      <td>5612.191884</td>\n",
       "      <td>31.371833</td>\n",
       "      <td>1132.0</td>\n",
       "      <td>35512.914997</td>\n",
       "    </tr>\n",
       "    <tr>\n",
       "      <th>2</th>\n",
       "      <td>15981</td>\n",
       "      <td>AK</td>\n",
       "      <td>BETHEL</td>\n",
       "      <td>5938.450363</td>\n",
       "      <td>26562.320038</td>\n",
       "      <td>556.653438</td>\n",
       "      <td>11799.094049</td>\n",
       "      <td>10473.173168</td>\n",
       "      <td>3752.161045</td>\n",
       "      <td>14314.801735</td>\n",
       "      <td>6735.150436</td>\n",
       "      <td>6889.413784</td>\n",
       "      <td>34.031235</td>\n",
       "      <td>1239.0</td>\n",
       "      <td>42164.700168</td>\n",
       "    </tr>\n",
       "    <tr>\n",
       "      <th>3</th>\n",
       "      <td>1745</td>\n",
       "      <td>AK</td>\n",
       "      <td>LAKE AND PENINSULA</td>\n",
       "      <td>6091.910223</td>\n",
       "      <td>25538.669840</td>\n",
       "      <td>579.568249</td>\n",
       "      <td>11820.514040</td>\n",
       "      <td>7081.401965</td>\n",
       "      <td>6703.275336</td>\n",
       "      <td>7700.083117</td>\n",
       "      <td>4259.953401</td>\n",
       "      <td>4531.586844</td>\n",
       "      <td>36.967400</td>\n",
       "      <td>819.0</td>\n",
       "      <td>30276.300664</td>\n",
       "    </tr>\n",
       "    <tr>\n",
       "      <th>4</th>\n",
       "      <td>5098</td>\n",
       "      <td>AK</td>\n",
       "      <td>ALEUTIANS WEST</td>\n",
       "      <td>5361.596806</td>\n",
       "      <td>23406.596842</td>\n",
       "      <td>502.171462</td>\n",
       "      <td>17587.886230</td>\n",
       "      <td>4719.964562</td>\n",
       "      <td>832.162797</td>\n",
       "      <td>2702.539725</td>\n",
       "      <td>2352.592510</td>\n",
       "      <td>2736.766345</td>\n",
       "      <td>37.909165</td>\n",
       "      <td>352.0</td>\n",
       "      <td>13344.025940</td>\n",
       "    </tr>\n",
       "  </tbody>\n",
       "</table>\n",
       "</div>"
      ],
      "text/plain": [
       "   Population State               County  electricity (kWh)  \\\n",
       "0          10    AK              JUNEAU         4128.496254   \n",
       "1        4336    AK       YUKON KOYUKUK         5581.508536   \n",
       "2       15981    AK              BETHEL         5938.450363   \n",
       "3        1745    AK  LAKE AND PENINSULA         6091.910223   \n",
       "4        5098    AK      ALEUTIANS WEST         5361.596806   \n",
       "\n",
       "   Nat. Gas (cu.ft.)  FUELOIL (gallons)  Vehicle miles traveled  \\\n",
       "0       26033.750948          72.354330             8074.000000   \n",
       "1       26607.262942         345.595186            10363.603552   \n",
       "2       26562.320038         556.653438            11799.094049   \n",
       "3       25538.669840         579.568249            11820.514040   \n",
       "4       23406.596842         502.171462            17587.886230   \n",
       "\n",
       "   Transport Total (tCO2e/yr)  Housing Total (tCO2e/yr)  \\\n",
       "0                  503.674865                515.564451   \n",
       "1                 8539.790566               6072.723929   \n",
       "2                10473.173168               3752.161045   \n",
       "3                 7081.401965               6703.275336   \n",
       "4                 4719.964562                832.162797   \n",
       "\n",
       "   Food Total (tCO2e/yr)  Goods Total (tCO2e/yr)  Services Total (tCO2e/yr)  \\\n",
       "0             318.750000              259.613201                 294.645335   \n",
       "1            9963.242131             5324.966486                5612.191884   \n",
       "2           14314.801735             6735.150436                6889.413784   \n",
       "3            7700.083117             4259.953401                4531.586844   \n",
       "4            2702.539725             2352.592510                2736.766345   \n",
       "\n",
       "   Total Per-Household Carbon Footprint (tCO2e/yr)  Households  \\\n",
       "0                                        22.261739        85.0   \n",
       "1                                        31.371833      1132.0   \n",
       "2                                        34.031235      1239.0   \n",
       "3                                        36.967400       819.0   \n",
       "4                                        37.909165       352.0   \n",
       "\n",
       "   Total County Carbon Footprint (tCO2e/yr)  \n",
       "0                               1892.247853  \n",
       "1                              35512.914997  \n",
       "2                              42164.700168  \n",
       "3                              30276.300664  \n",
       "4                              13344.025940  "
      ]
     },
     "execution_count": 8,
     "metadata": {},
     "output_type": "execute_result"
    }
   ],
   "source": [
    "cfc_df_totals.head()"
   ]
  },
  {
   "cell_type": "code",
   "execution_count": 79,
   "id": "49259490-d8b1-4a95-8647-52b89f541ced",
   "metadata": {
    "tags": []
   },
   "outputs": [
    {
     "data": {
      "text/html": [
       "<div>\n",
       "<style scoped>\n",
       "    .dataframe tbody tr th:only-of-type {\n",
       "        vertical-align: middle;\n",
       "    }\n",
       "\n",
       "    .dataframe tbody tr th {\n",
       "        vertical-align: top;\n",
       "    }\n",
       "\n",
       "    .dataframe thead th {\n",
       "        text-align: right;\n",
       "    }\n",
       "</style>\n",
       "<table border=\"1\" class=\"dataframe\">\n",
       "  <thead>\n",
       "    <tr style=\"text-align: right;\">\n",
       "      <th></th>\n",
       "      <th>msa</th>\n",
       "      <th>municipality</th>\n",
       "    </tr>\n",
       "  </thead>\n",
       "  <tbody>\n",
       "    <tr>\n",
       "      <th>0</th>\n",
       "      <td>Abilene, TX</td>\n",
       "      <td>['Callahan County, TX', 'Jones County, TX', 'T...</td>\n",
       "    </tr>\n",
       "    <tr>\n",
       "      <th>1</th>\n",
       "      <td>Akron, OH</td>\n",
       "      <td>['Portage County, OH', 'Summit County, OH']</td>\n",
       "    </tr>\n",
       "    <tr>\n",
       "      <th>2</th>\n",
       "      <td>Albany, GA</td>\n",
       "      <td>['Dougherty County, GA', 'Lee County, GA', 'Te...</td>\n",
       "    </tr>\n",
       "    <tr>\n",
       "      <th>3</th>\n",
       "      <td>Albany-Lebanon, OR</td>\n",
       "      <td>['Linn County, OR']</td>\n",
       "    </tr>\n",
       "    <tr>\n",
       "      <th>4</th>\n",
       "      <td>Albany-Schenectady-Troy, NY</td>\n",
       "      <td>['Albany County, NY', 'Rensselaer County, NY',...</td>\n",
       "    </tr>\n",
       "  </tbody>\n",
       "</table>\n",
       "</div>"
      ],
      "text/plain": [
       "                           msa  \\\n",
       "0                  Abilene, TX   \n",
       "1                    Akron, OH   \n",
       "2                   Albany, GA   \n",
       "3           Albany-Lebanon, OR   \n",
       "4  Albany-Schenectady-Troy, NY   \n",
       "\n",
       "                                        municipality  \n",
       "0  ['Callahan County, TX', 'Jones County, TX', 'T...  \n",
       "1        ['Portage County, OH', 'Summit County, OH']  \n",
       "2  ['Dougherty County, GA', 'Lee County, GA', 'Te...  \n",
       "3                                ['Linn County, OR']  \n",
       "4  ['Albany County, NY', 'Rensselaer County, NY',...  "
      ]
     },
     "execution_count": 79,
     "metadata": {},
     "output_type": "execute_result"
    }
   ],
   "source": [
    "## msa--municipality (county) mapping\n",
    "df = pd.read_csv('../../data/tidy/msa-municipality.csv', delimiter=',', skiprows=0, low_memory=False)\n",
    "df.head()"
   ]
  },
  {
   "cell_type": "code",
   "execution_count": 80,
   "id": "2af72a7c-566f-4d23-8cda-f233b3a3336c",
   "metadata": {
    "tags": []
   },
   "outputs": [
    {
     "data": {
      "text/html": [
       "<div>\n",
       "<style scoped>\n",
       "    .dataframe tbody tr th:only-of-type {\n",
       "        vertical-align: middle;\n",
       "    }\n",
       "\n",
       "    .dataframe tbody tr th {\n",
       "        vertical-align: top;\n",
       "    }\n",
       "\n",
       "    .dataframe thead th {\n",
       "        text-align: right;\n",
       "    }\n",
       "</style>\n",
       "<table border=\"1\" class=\"dataframe\">\n",
       "  <thead>\n",
       "    <tr style=\"text-align: right;\">\n",
       "      <th></th>\n",
       "      <th>msa</th>\n",
       "      <th>municipality</th>\n",
       "    </tr>\n",
       "  </thead>\n",
       "  <tbody>\n",
       "    <tr>\n",
       "      <th>0</th>\n",
       "      <td>Abilene, TX</td>\n",
       "      <td>Callahan County, TX</td>\n",
       "    </tr>\n",
       "    <tr>\n",
       "      <th>1</th>\n",
       "      <td>Abilene, TX</td>\n",
       "      <td>Jones County, TX</td>\n",
       "    </tr>\n",
       "    <tr>\n",
       "      <th>2</th>\n",
       "      <td>Abilene, TX</td>\n",
       "      <td>Taylor County, TX</td>\n",
       "    </tr>\n",
       "    <tr>\n",
       "      <th>3</th>\n",
       "      <td>Akron, OH</td>\n",
       "      <td>Portage County, OH</td>\n",
       "    </tr>\n",
       "    <tr>\n",
       "      <th>4</th>\n",
       "      <td>Akron, OH</td>\n",
       "      <td>Summit County, OH</td>\n",
       "    </tr>\n",
       "  </tbody>\n",
       "</table>\n",
       "</div>"
      ],
      "text/plain": [
       "           msa         municipality\n",
       "0  Abilene, TX  Callahan County, TX\n",
       "1  Abilene, TX     Jones County, TX\n",
       "2  Abilene, TX    Taylor County, TX\n",
       "3    Akron, OH   Portage County, OH\n",
       "4    Akron, OH    Summit County, OH"
      ]
     },
     "execution_count": 80,
     "metadata": {},
     "output_type": "execute_result"
    }
   ],
   "source": [
    "# use the explode function to split the municipality column into separate rows\n",
    "df[\"municipality\"] = df[\"municipality\"].apply(eval)\n",
    "msa_muni_exploded = df.explode('municipality')\n",
    "msa_muni_exploded = msa_muni_exploded.reset_index(drop=True) # reset the index of the dataframe\n",
    "msa_muni_exploded.head()"
   ]
  },
  {
   "cell_type": "code",
   "execution_count": 83,
   "id": "dbe31712-c5d1-410a-b4ab-3b1f181eca11",
   "metadata": {
    "tags": []
   },
   "outputs": [],
   "source": [
    "## Get column of states only\n",
    "msa_muni_exploded['state'] = msa_muni_exploded['municipality'].str.replace('County', '')\n",
    "msa_muni_exploded['state'] = msa_muni_exploded['state'].str.split(',', expand=True).iloc[:,1]\n",
    "msa_muni_exploded['state'] = msa_muni_exploded['state'].str.strip()"
   ]
  },
  {
   "cell_type": "code",
   "execution_count": 84,
   "id": "d09f9c1b-16f0-47dd-a0af-c1fdc5ca3b26",
   "metadata": {
    "tags": []
   },
   "outputs": [
    {
     "data": {
      "text/plain": [
       "array(['TX', 'OH', 'GA', 'OR', 'NY', 'NM', 'LA', 'NJ', 'PA', 'IA', 'AK',\n",
       "       'MI', 'AL', 'WI', 'NC', 'SC', 'CA', 'MD', 'ME', 'MA', 'WV', 'WA',\n",
       "       'MT', 'ND', 'VA', 'IL', 'IN', 'ID', 'NH', 'CO', 'KY', 'CT', 'VT',\n",
       "       'FL', 'MO', 'NV', 'WY', 'TN', 'DE', 'MN', 'OK', 'AR', 'AZ', 'NE',\n",
       "       'MS', 'HI', 'KS', 'UT', 'RI', 'SD', '', 'DC'], dtype=object)"
      ]
     },
     "execution_count": 84,
     "metadata": {},
     "output_type": "execute_result"
    }
   ],
   "source": [
    "msa_muni_exploded['state'].unique()"
   ]
  },
  {
   "cell_type": "code",
   "execution_count": 85,
   "id": "36e20768-637b-463b-a137-0521483e32ef",
   "metadata": {
    "tags": []
   },
   "outputs": [],
   "source": [
    "## Get county column and format county names to look like those in cfc_df\n",
    "msa_muni_exploded['municipality'] = msa_muni_exploded['municipality'].str.replace('County', '')\n",
    "msa_muni_exploded['municipality'] = msa_muni_exploded['municipality'].str.split(',', expand=True).iloc[:,0]\n",
    "msa_muni_exploded['municipality'] = msa_muni_exploded['municipality'].str.upper()"
   ]
  },
  {
   "cell_type": "code",
   "execution_count": 34,
   "id": "94f2fea1-28fe-4336-91c4-06cf87a0d066",
   "metadata": {
    "tags": []
   },
   "outputs": [],
   "source": [
    "## CHECK: Compare both lists to see if they are the same (use setdiff, etc)\n",
    "# msa_muni_exploded['municipality'].unique()\n",
    "# cfc_df['County'].unique()"
   ]
  },
  {
   "cell_type": "code",
   "execution_count": 70,
   "id": "7c3fd643-f15a-4fa7-8f2e-317b22ab90b1",
   "metadata": {
    "tags": []
   },
   "outputs": [
    {
     "data": {
      "text/plain": [
       "1181"
      ]
     },
     "execution_count": 70,
     "metadata": {},
     "output_type": "execute_result"
    }
   ],
   "source": [
    "len(msa_muni_exploded)"
   ]
  },
  {
   "cell_type": "code",
   "execution_count": 150,
   "id": "877bf6c4-d093-488f-8481-3f7de6f3500d",
   "metadata": {
    "tags": []
   },
   "outputs": [
    {
     "name": "stderr",
     "output_type": "stream",
     "text": [
      "/tmp/ipykernel_195905/3097761227.py:1: SettingWithCopyWarning: \n",
      "A value is trying to be set on a copy of a slice from a DataFrame.\n",
      "Try using .loc[row_indexer,col_indexer] = value instead\n",
      "\n",
      "See the caveats in the documentation: https://pandas.pydata.org/pandas-docs/stable/user_guide/indexing.html#returning-a-view-versus-a-copy\n",
      "  cfc_df_totals.loc[:,'MSA'] = np.nan\n"
     ]
    }
   ],
   "source": [
    "cfc_df_totals.loc[:,'MSA'] = np.nan"
   ]
  },
  {
   "cell_type": "code",
   "execution_count": 151,
   "id": "0c366fa7-6368-4a57-aedd-bf937acfbc17",
   "metadata": {
    "tags": []
   },
   "outputs": [],
   "source": [
    "for i in cfc_df_totals.index:\n",
    "    #print(i)\n",
    "    msa_assign = msa_muni_exploded.loc[(msa_muni_exploded['municipality'] == cfc_df_totals.loc[i,'County'])  &\n",
    "                                       (msa_muni_exploded['state'] == cfc_df_totals.loc[i,'State']), 'msa']\n",
    "    \n",
    "    if msa_assign.empty == False:\n",
    "        # print(msa_assign.iloc[0])\n",
    "        cfc_df_totals.at[i,'MSA'] = msa_assign.iloc[0]"
   ]
  },
  {
   "cell_type": "code",
   "execution_count": 182,
   "id": "d9725d0a-5326-4c5f-92a5-4a6581576b76",
   "metadata": {
    "tags": []
   },
   "outputs": [
    {
     "name": "stderr",
     "output_type": "stream",
     "text": [
      "/tmp/ipykernel_195905/1102604514.py:2: FutureWarning: The default value of numeric_only in DataFrameGroupBy.sum is deprecated. In a future version, numeric_only will default to False. Either specify numeric_only or select only columns which should be valid for the function.\n",
      "  cfc_msa = cfc_df_totals.groupby(by=[\"MSA\"]).sum()\n"
     ]
    }
   ],
   "source": [
    "## aggregate by MSA\n",
    "cfc_msa = cfc_df_totals.groupby(by=[\"MSA\"]).sum()\n",
    "# cfc_msa.head()"
   ]
  },
  {
   "cell_type": "code",
   "execution_count": 183,
   "id": "a87dc2f4-d7ef-4d5e-8cd2-b1ebaa6b46ec",
   "metadata": {
    "tags": []
   },
   "outputs": [],
   "source": [
    "cfc_msa = cfc_msa.drop(['Total Per-Household Carbon Footprint (tCO2e/yr)','Total County Carbon Footprint (tCO2e/yr)'] ,axis=1)"
   ]
  },
  {
   "cell_type": "code",
   "execution_count": 184,
   "id": "91e2ba63-1833-4b68-a9e2-9648cabcb57a",
   "metadata": {
    "tags": []
   },
   "outputs": [],
   "source": [
    "#create new columns for data (We may want to consider keeping the column names formal for now (similar to the original))\n",
    "cfc_msa.insert(loc = 11, column = 'cf_transport_phh', value = cfc_msa['Transport Total (tCO2e/yr)']/cfc_msa['Households'])\n",
    "cfc_msa.insert(loc = 12, column = 'cf_housing_phh', value = cfc_msa['Housing Total (tCO2e/yr)']/cfc_msa['Households'])\n",
    "cfc_msa.insert(loc = 13, column = 'cf_food_phh', value = cfc_msa['Food Total (tCO2e/yr)']/cfc_msa['Households'])\n",
    "cfc_msa.insert(loc = 14, column = 'cf_goods_phh', value = cfc_msa['Goods Total (tCO2e/yr)']/cfc_msa['Households'])\n",
    "cfc_msa.insert(loc = 15, column = 'cf_services_phh', value = cfc_msa['Services Total (tCO2e/yr)']/cfc_msa['Households'])"
   ]
  },
  {
   "cell_type": "code",
   "execution_count": 185,
   "id": "9e2243f5-672d-496d-ac33-266bf486d87e",
   "metadata": {
    "tags": []
   },
   "outputs": [],
   "source": [
    "cfc_msa.insert(loc = 16, column = 'cf', value = (cfc_msa['Transport Total (tCO2e/yr)'] + \n",
    "                                                 cfc_msa['Transport Total (tCO2e/yr)'] + \n",
    "                                                 cfc_msa['Food Total (tCO2e/yr)'] + \n",
    "                                                 cfc_msa['Goods Total (tCO2e/yr)'] + \n",
    "                                                 cfc_msa['Services Total (tCO2e/yr)'])) ## total MSA carbon footprint               "
   ]
  },
  {
   "cell_type": "code",
   "execution_count": 186,
   "id": "be238f31-11fb-4397-b4db-5196fb388038",
   "metadata": {
    "tags": []
   },
   "outputs": [],
   "source": [
    "cfc_msa.insert(loc = 16, column = 'cf_phh', value = (cfc_msa['cf']/cfc_msa['Households']))"
   ]
  },
  {
   "cell_type": "code",
   "execution_count": 187,
   "id": "1f6dbd11-ea1f-428a-ae88-78ac384e317b",
   "metadata": {
    "tags": []
   },
   "outputs": [],
   "source": [
    "cfc_msa = cfc_msa.drop(['Transport Total (tCO2e/yr)', 'Housing Total (tCO2e/yr)', 'Food Total (tCO2e/yr)', 'Goods Total (tCO2e/yr)', 'Services Total (tCO2e/yr)'] ,axis=1)"
   ]
  },
  {
   "cell_type": "code",
   "execution_count": 195,
   "id": "5acbe219-6544-47e1-ba76-10a47e45215d",
   "metadata": {
    "tags": []
   },
   "outputs": [
    {
     "data": {
      "text/html": [
       "<div>\n",
       "<style scoped>\n",
       "    .dataframe tbody tr th:only-of-type {\n",
       "        vertical-align: middle;\n",
       "    }\n",
       "\n",
       "    .dataframe tbody tr th {\n",
       "        vertical-align: top;\n",
       "    }\n",
       "\n",
       "    .dataframe thead th {\n",
       "        text-align: right;\n",
       "    }\n",
       "</style>\n",
       "<table border=\"1\" class=\"dataframe\">\n",
       "  <thead>\n",
       "    <tr style=\"text-align: right;\">\n",
       "      <th></th>\n",
       "      <th>pop_2014</th>\n",
       "      <th>electricity_kwh</th>\n",
       "      <th>nat_gas_cuft</th>\n",
       "      <th>fueloil_gal</th>\n",
       "      <th>vmt</th>\n",
       "      <th>hh_2014</th>\n",
       "      <th>cf_transport_phh</th>\n",
       "      <th>cf_housing_phh</th>\n",
       "      <th>cf_food_phh</th>\n",
       "      <th>cf_goods_phh</th>\n",
       "      <th>cf_services_phh</th>\n",
       "      <th>cf_phh</th>\n",
       "      <th>cf</th>\n",
       "    </tr>\n",
       "    <tr>\n",
       "      <th>MSA</th>\n",
       "      <th></th>\n",
       "      <th></th>\n",
       "      <th></th>\n",
       "      <th></th>\n",
       "      <th></th>\n",
       "      <th></th>\n",
       "      <th></th>\n",
       "      <th></th>\n",
       "      <th></th>\n",
       "      <th></th>\n",
       "      <th></th>\n",
       "      <th></th>\n",
       "      <th></th>\n",
       "    </tr>\n",
       "  </thead>\n",
       "  <tbody>\n",
       "    <tr>\n",
       "      <th>Abilene, TX</th>\n",
       "      <td>160828</td>\n",
       "      <td>35714.088774</td>\n",
       "      <td>98701.118579</td>\n",
       "      <td>1.336685</td>\n",
       "      <td>76234.634771</td>\n",
       "      <td>65492.0</td>\n",
       "      <td>15.927517</td>\n",
       "      <td>12.674110</td>\n",
       "      <td>7.667713</td>\n",
       "      <td>4.616458</td>\n",
       "      <td>5.004892</td>\n",
       "      <td>49.144098</td>\n",
       "      <td>3.218545e+06</td>\n",
       "    </tr>\n",
       "    <tr>\n",
       "      <th>Akron, OH</th>\n",
       "      <td>678301</td>\n",
       "      <td>23257.037633</td>\n",
       "      <td>121455.109113</td>\n",
       "      <td>79.046948</td>\n",
       "      <td>47008.858596</td>\n",
       "      <td>160668.0</td>\n",
       "      <td>15.993913</td>\n",
       "      <td>11.746599</td>\n",
       "      <td>7.517472</td>\n",
       "      <td>5.391050</td>\n",
       "      <td>6.071775</td>\n",
       "      <td>50.968122</td>\n",
       "      <td>8.188946e+06</td>\n",
       "    </tr>\n",
       "    <tr>\n",
       "      <th>Albany, GA</th>\n",
       "      <td>141811</td>\n",
       "      <td>38975.470766</td>\n",
       "      <td>85814.672587</td>\n",
       "      <td>9.162196</td>\n",
       "      <td>72787.504018</td>\n",
       "      <td>57134.0</td>\n",
       "      <td>14.360085</td>\n",
       "      <td>13.990202</td>\n",
       "      <td>7.972296</td>\n",
       "      <td>4.684970</td>\n",
       "      <td>5.050888</td>\n",
       "      <td>46.428323</td>\n",
       "      <td>2.652636e+06</td>\n",
       "    </tr>\n",
       "    <tr>\n",
       "      <th>Albany-Lebanon, OR</th>\n",
       "      <td>108795</td>\n",
       "      <td>11139.121631</td>\n",
       "      <td>36096.695316</td>\n",
       "      <td>18.554493</td>\n",
       "      <td>26802.912183</td>\n",
       "      <td>44491.0</td>\n",
       "      <td>18.007041</td>\n",
       "      <td>10.646117</td>\n",
       "      <td>7.809633</td>\n",
       "      <td>4.995829</td>\n",
       "      <td>5.498125</td>\n",
       "      <td>54.317668</td>\n",
       "      <td>2.416647e+06</td>\n",
       "    </tr>\n",
       "    <tr>\n",
       "      <th>Albany-Schenectady-Troy, NY</th>\n",
       "      <td>820825</td>\n",
       "      <td>36802.454287</td>\n",
       "      <td>233221.913105</td>\n",
       "      <td>1181.335835</td>\n",
       "      <td>103020.435963</td>\n",
       "      <td>392206.0</td>\n",
       "      <td>14.195390</td>\n",
       "      <td>10.778376</td>\n",
       "      <td>7.221763</td>\n",
       "      <td>5.349727</td>\n",
       "      <td>6.058857</td>\n",
       "      <td>47.021127</td>\n",
       "      <td>1.844197e+07</td>\n",
       "    </tr>\n",
       "  </tbody>\n",
       "</table>\n",
       "</div>"
      ],
      "text/plain": [
       "                             pop_2014  electricity_kwh   nat_gas_cuft  \\\n",
       "MSA                                                                     \n",
       "Abilene, TX                    160828     35714.088774   98701.118579   \n",
       "Akron, OH                      678301     23257.037633  121455.109113   \n",
       "Albany, GA                     141811     38975.470766   85814.672587   \n",
       "Albany-Lebanon, OR             108795     11139.121631   36096.695316   \n",
       "Albany-Schenectady-Troy, NY    820825     36802.454287  233221.913105   \n",
       "\n",
       "                             fueloil_gal            vmt   hh_2014  \\\n",
       "MSA                                                                 \n",
       "Abilene, TX                     1.336685   76234.634771   65492.0   \n",
       "Akron, OH                      79.046948   47008.858596  160668.0   \n",
       "Albany, GA                      9.162196   72787.504018   57134.0   \n",
       "Albany-Lebanon, OR             18.554493   26802.912183   44491.0   \n",
       "Albany-Schenectady-Troy, NY  1181.335835  103020.435963  392206.0   \n",
       "\n",
       "                             cf_transport_phh  cf_housing_phh  cf_food_phh  \\\n",
       "MSA                                                                          \n",
       "Abilene, TX                         15.927517       12.674110     7.667713   \n",
       "Akron, OH                           15.993913       11.746599     7.517472   \n",
       "Albany, GA                          14.360085       13.990202     7.972296   \n",
       "Albany-Lebanon, OR                  18.007041       10.646117     7.809633   \n",
       "Albany-Schenectady-Troy, NY         14.195390       10.778376     7.221763   \n",
       "\n",
       "                             cf_goods_phh  cf_services_phh     cf_phh  \\\n",
       "MSA                                                                     \n",
       "Abilene, TX                      4.616458         5.004892  49.144098   \n",
       "Akron, OH                        5.391050         6.071775  50.968122   \n",
       "Albany, GA                       4.684970         5.050888  46.428323   \n",
       "Albany-Lebanon, OR               4.995829         5.498125  54.317668   \n",
       "Albany-Schenectady-Troy, NY      5.349727         6.058857  47.021127   \n",
       "\n",
       "                                       cf  \n",
       "MSA                                        \n",
       "Abilene, TX                  3.218545e+06  \n",
       "Akron, OH                    8.188946e+06  \n",
       "Albany, GA                   2.652636e+06  \n",
       "Albany-Lebanon, OR           2.416647e+06  \n",
       "Albany-Schenectady-Troy, NY  1.844197e+07  "
      ]
     },
     "execution_count": 195,
     "metadata": {},
     "output_type": "execute_result"
    }
   ],
   "source": [
    "#cfc_msa.rename(columns = {'Total Household Carbon Footprint (tCO2e/yr)' : 'Total Per-Household Carbon Footprint (tCO2e/yr)'}, inplace = True)\n",
    "cfc_msa = cfc_msa.rename(columns = {\"Population\": \"pop_2014\", \"Households\": \"hh_2014\", \n",
    "                                    \"electricity (kWh)\": \"electricity_kwh\", \"Nat. Gas (cu.ft.)\": \"nat_gas_cuft\", \n",
    "                                    \"FUELOIL (gallons)\": \"fueloil_gal\", \"Vehicle miles traveled\": \"vmt\"})\n",
    "cfc_msa.head()"
   ]
  },
  {
   "cell_type": "code",
   "execution_count": 196,
   "id": "ec5f5b2d-a32b-4db7-a944-7cf5dfc94103",
   "metadata": {
    "tags": []
   },
   "outputs": [
    {
     "data": {
      "text/plain": [
       "378"
      ]
     },
     "execution_count": 196,
     "metadata": {},
     "output_type": "execute_result"
    }
   ],
   "source": [
    "len(cfc_msa)"
   ]
  },
  {
   "cell_type": "code",
   "execution_count": 197,
   "id": "53a1a478-91fe-41f3-999d-812322fdb948",
   "metadata": {
    "tags": []
   },
   "outputs": [],
   "source": [
    "filepath = Path('../../data/tidy/msa-carbon-footprint.csv', index = False)\n",
    "filepath.parent.mkdir(parents=True, exist_ok=True)  \n",
    "cfc_df.to_csv(filepath)"
   ]
  }
 ],
 "metadata": {
  "kernelspec": {
   "display_name": "Python 3 (ipykernel)",
   "language": "python",
   "name": "python3"
  },
  "language_info": {
   "codemirror_mode": {
    "name": "ipython",
    "version": 3
   },
   "file_extension": ".py",
   "mimetype": "text/x-python",
   "name": "python",
   "nbconvert_exporter": "python",
   "pygments_lexer": "ipython3",
   "version": "3.10.9"
  }
 },
 "nbformat": 4,
 "nbformat_minor": 5
}
