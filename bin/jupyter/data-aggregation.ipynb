{
 "cells": [
  {
   "cell_type": "code",
   "execution_count": null,
   "id": "3d539354-a790-410d-bed4-4ffd956e6b1d",
   "metadata": {},
   "outputs": [],
   "source": [
    "import numpy as np\n",
    "import pandas as pd\n",
    "import matplotlib.pyplot as plt\n",
    "import seaborn as sns"
   ]
  },
  {
   "cell_type": "code",
   "execution_count": null,
   "id": "fa3123a6-6b0c-489b-9edb-063ac0e8d799",
   "metadata": {},
   "outputs": [],
   "source": [
    "#reading in csv files\n",
    "data1 = pd.read_csv('../../data/raw/ACSDT5Y2020.B08006_data_with_overlays_2022-04-29T134131.csv')\n",
    "data2 = pd.read_csv('C:/Users/acwei/OneDrive/Documents/Gitpractice/msa-emission-typologies/data/raw/ACSST5Y2020.S1901_data_with_overlays_2022-04-27T115111.csv')\n",
    "data3 = pd.read_csv('C:/Users/acwei/OneDrive/Documents/Gitpractice/msa-emission-typologies/data/raw/ACSST5Y2020.S1903_data_with_overlays_2022-04-29T132045.csv')\n",
    "data4 = pd.read_csv('C:/Users/acwei/OneDrive/Documents/Gitpractice/msa-emission-typologies/data/raw/ACSST5Y2020.S2301_data_with_overlays_2022-04-11T134445.csv')"
   ]
  },
  {
   "cell_type": "code",
   "execution_count": null,
   "id": "93af882d-51ca-4658-b636-d5a7efb51533",
   "metadata": {},
   "outputs": [],
   "source": [
    "# merging csv files based on MSA\n",
    "output1 = pd.merge(data1, data2, on= 'NAME', how= 'inner')\n",
    "output2 = pd.merge(output1, data3, on= 'NAME', how= 'inner')\n",
    "output3 = pd.merge(output2, data4, on= 'NAME', how= 'inner')"
   ]
  },
  {
   "cell_type": "code",
   "execution_count": null,
   "id": "db950293-dd61-477e-80a2-f2082d8c2be5",
   "metadata": {},
   "outputs": [],
   "source": [
    "# saving csv\n",
    "output3.to_csv('data-aggregation1.csv', index = False)"
   ]
  },
  {
   "cell_type": "code",
   "execution_count": null,
   "id": "7c205d52-d578-466f-8149-97fa447cbe22",
   "metadata": {},
   "outputs": [],
   "source": []
  }
 ],
 "metadata": {
  "kernelspec": {
   "display_name": "Python 3 (ipykernel)",
   "language": "python",
   "name": "python3"
  },
  "language_info": {
   "codemirror_mode": {
    "name": "ipython",
    "version": 3
   },
   "file_extension": ".py",
   "mimetype": "text/x-python",
   "name": "python",
   "nbconvert_exporter": "python",
   "pygments_lexer": "ipython3",
   "version": "3.9.13"
  }
 },
 "nbformat": 4,
 "nbformat_minor": 5
}
