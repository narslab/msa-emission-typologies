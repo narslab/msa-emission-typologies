{
 "cells": [
  {
   "cell_type": "code",
   "execution_count": 1,
   "id": "9234ab62-901c-4a93-b160-3f0b64293080",
   "metadata": {
    "tags": []
   },
   "outputs": [],
   "source": [
    "import numpy as np\n",
    "import pandas as pd\n",
    "import matplotlib.pyplot as plt\n",
    "import seaborn as sns\n",
    "#from minepy import MINE\n",
    "#from sklearn.linear_model import LinearRegression\n",
    "import statsmodels.api as sm\n",
    "#from sklearn.ensemble import RandomForestRegressor\n",
    "#from sklearn.tree import DecisionTreeRegressor, plot_tree\n",
    "#from sklearn.datasets import fetch_california_housing\n",
    "#from sklearn.inspection import PartialDependenceDisplay\n",
    "#from sklearn.model_selection import train_test_split\n",
    "#from sklearn.metrics import mean_squared_error, mean_absolute_percentage_error\n",
    "#from sklearn.inspection import permutation_importance\n",
    "#from sklearn.linear_model import RidgeCV, LassoCV, Ridge, Lasso, LassoLarsIC, LassoLarsCV\n",
    "import time\n",
    "#from sklearn.pipeline import make_pipeline\n",
    "#from sklearn.preprocessing import StandardScaler"
   ]
  },
  {
   "cell_type": "code",
   "execution_count": 2,
   "id": "8e2a8456-55f2-4a2e-92af-61c6e5397887",
   "metadata": {
    "tags": []
   },
   "outputs": [],
   "source": [
    "df = pd.read_csv('../../data/tidy/data-aggregation.csv', index_col=[0])"
   ]
  },
  {
   "cell_type": "code",
   "execution_count": 3,
   "id": "c872b982-9cea-4a05-8e74-a93ab7a14c1a",
   "metadata": {
    "tags": []
   },
   "outputs": [
    {
     "data": {
      "text/html": [
       "<div>\n",
       "<style scoped>\n",
       "    .dataframe tbody tr th:only-of-type {\n",
       "        vertical-align: middle;\n",
       "    }\n",
       "\n",
       "    .dataframe tbody tr th {\n",
       "        vertical-align: top;\n",
       "    }\n",
       "\n",
       "    .dataframe thead th {\n",
       "        text-align: right;\n",
       "    }\n",
       "</style>\n",
       "<table border=\"1\" class=\"dataframe\">\n",
       "  <thead>\n",
       "    <tr style=\"text-align: right;\">\n",
       "      <th></th>\n",
       "      <th>households</th>\n",
       "      <th>med_hh_inc_dol</th>\n",
       "      <th>ms_cara</th>\n",
       "      <th>ms_carp</th>\n",
       "      <th>ms_pt</th>\n",
       "      <th>ms_taxi</th>\n",
       "      <th>ms_bike</th>\n",
       "      <th>ms_walk</th>\n",
       "      <th>ms_wfh</th>\n",
       "      <th>unemp</th>\n",
       "      <th>...</th>\n",
       "      <th>fueloil_gal</th>\n",
       "      <th>vmt</th>\n",
       "      <th>hh_2014</th>\n",
       "      <th>cf_transport_phh</th>\n",
       "      <th>cf_housing_phh</th>\n",
       "      <th>cf_food_phh</th>\n",
       "      <th>cf_goods_phh</th>\n",
       "      <th>cf_services_phh</th>\n",
       "      <th>cf_phh</th>\n",
       "      <th>cf</th>\n",
       "    </tr>\n",
       "    <tr>\n",
       "      <th>MSA</th>\n",
       "      <th></th>\n",
       "      <th></th>\n",
       "      <th></th>\n",
       "      <th></th>\n",
       "      <th></th>\n",
       "      <th></th>\n",
       "      <th></th>\n",
       "      <th></th>\n",
       "      <th></th>\n",
       "      <th></th>\n",
       "      <th></th>\n",
       "      <th></th>\n",
       "      <th></th>\n",
       "      <th></th>\n",
       "      <th></th>\n",
       "      <th></th>\n",
       "      <th></th>\n",
       "      <th></th>\n",
       "      <th></th>\n",
       "      <th></th>\n",
       "      <th></th>\n",
       "    </tr>\n",
       "  </thead>\n",
       "  <tbody>\n",
       "    <tr>\n",
       "      <th>Abilene, TX</th>\n",
       "      <td>60343</td>\n",
       "      <td>44249</td>\n",
       "      <td>0.806459</td>\n",
       "      <td>0.117276</td>\n",
       "      <td>0.006420</td>\n",
       "      <td>0.017641</td>\n",
       "      <td>0.002089</td>\n",
       "      <td>0.024034</td>\n",
       "      <td>0.026081</td>\n",
       "      <td>6.4</td>\n",
       "      <td>...</td>\n",
       "      <td>1.336685</td>\n",
       "      <td>76234.634771</td>\n",
       "      <td>65492.0</td>\n",
       "      <td>15.927517</td>\n",
       "      <td>12.674110</td>\n",
       "      <td>7.667713</td>\n",
       "      <td>4.616458</td>\n",
       "      <td>5.004892</td>\n",
       "      <td>49.144098</td>\n",
       "      <td>3.218545e+06</td>\n",
       "    </tr>\n",
       "    <tr>\n",
       "      <th>Akron, OH</th>\n",
       "      <td>281752</td>\n",
       "      <td>50776</td>\n",
       "      <td>0.862746</td>\n",
       "      <td>0.066992</td>\n",
       "      <td>0.014979</td>\n",
       "      <td>0.005027</td>\n",
       "      <td>0.001327</td>\n",
       "      <td>0.016849</td>\n",
       "      <td>0.032080</td>\n",
       "      <td>9.7</td>\n",
       "      <td>...</td>\n",
       "      <td>79.046948</td>\n",
       "      <td>47008.858596</td>\n",
       "      <td>160668.0</td>\n",
       "      <td>15.993913</td>\n",
       "      <td>11.746599</td>\n",
       "      <td>7.517472</td>\n",
       "      <td>5.391050</td>\n",
       "      <td>6.071775</td>\n",
       "      <td>50.968122</td>\n",
       "      <td>8.188946e+06</td>\n",
       "    </tr>\n",
       "    <tr>\n",
       "      <th>Albany, GA</th>\n",
       "      <td>58250</td>\n",
       "      <td>36805</td>\n",
       "      <td>0.804208</td>\n",
       "      <td>0.123413</td>\n",
       "      <td>0.010765</td>\n",
       "      <td>0.007939</td>\n",
       "      <td>0.001490</td>\n",
       "      <td>0.019618</td>\n",
       "      <td>0.032567</td>\n",
       "      <td>15.0</td>\n",
       "      <td>...</td>\n",
       "      <td>9.162196</td>\n",
       "      <td>72787.504018</td>\n",
       "      <td>57134.0</td>\n",
       "      <td>14.360085</td>\n",
       "      <td>13.990202</td>\n",
       "      <td>7.972296</td>\n",
       "      <td>4.684970</td>\n",
       "      <td>5.050888</td>\n",
       "      <td>46.428323</td>\n",
       "      <td>2.652636e+06</td>\n",
       "    </tr>\n",
       "    <tr>\n",
       "      <th>Albany-Schenectady-Troy, NY</th>\n",
       "      <td>347401</td>\n",
       "      <td>61841</td>\n",
       "      <td>0.804724</td>\n",
       "      <td>0.076936</td>\n",
       "      <td>0.032160</td>\n",
       "      <td>0.009713</td>\n",
       "      <td>0.002339</td>\n",
       "      <td>0.036837</td>\n",
       "      <td>0.037290</td>\n",
       "      <td>7.4</td>\n",
       "      <td>...</td>\n",
       "      <td>1181.335835</td>\n",
       "      <td>103020.435963</td>\n",
       "      <td>392206.0</td>\n",
       "      <td>14.195390</td>\n",
       "      <td>10.778376</td>\n",
       "      <td>7.221763</td>\n",
       "      <td>5.349727</td>\n",
       "      <td>6.058857</td>\n",
       "      <td>47.021127</td>\n",
       "      <td>1.844197e+07</td>\n",
       "    </tr>\n",
       "    <tr>\n",
       "      <th>Albuquerque, NM</th>\n",
       "      <td>344168</td>\n",
       "      <td>48875</td>\n",
       "      <td>0.799726</td>\n",
       "      <td>0.095175</td>\n",
       "      <td>0.018131</td>\n",
       "      <td>0.013973</td>\n",
       "      <td>0.009816</td>\n",
       "      <td>0.018735</td>\n",
       "      <td>0.044445</td>\n",
       "      <td>9.1</td>\n",
       "      <td>...</td>\n",
       "      <td>4.024810</td>\n",
       "      <td>101942.760602</td>\n",
       "      <td>305713.0</td>\n",
       "      <td>15.594705</td>\n",
       "      <td>13.531895</td>\n",
       "      <td>7.775563</td>\n",
       "      <td>5.051710</td>\n",
       "      <td>5.576700</td>\n",
       "      <td>49.593381</td>\n",
       "      <td>1.516134e+07</td>\n",
       "    </tr>\n",
       "  </tbody>\n",
       "</table>\n",
       "<p>5 rows × 48 columns</p>\n",
       "</div>"
      ],
      "text/plain": [
       "                             households  med_hh_inc_dol   ms_cara   ms_carp  \\\n",
       "MSA                                                                           \n",
       "Abilene, TX                       60343           44249  0.806459  0.117276   \n",
       "Akron, OH                        281752           50776  0.862746  0.066992   \n",
       "Albany, GA                        58250           36805  0.804208  0.123413   \n",
       "Albany-Schenectady-Troy, NY      347401           61841  0.804724  0.076936   \n",
       "Albuquerque, NM                  344168           48875  0.799726  0.095175   \n",
       "\n",
       "                                ms_pt   ms_taxi   ms_bike   ms_walk    ms_wfh  \\\n",
       "MSA                                                                             \n",
       "Abilene, TX                  0.006420  0.017641  0.002089  0.024034  0.026081   \n",
       "Akron, OH                    0.014979  0.005027  0.001327  0.016849  0.032080   \n",
       "Albany, GA                   0.010765  0.007939  0.001490  0.019618  0.032567   \n",
       "Albany-Schenectady-Troy, NY  0.032160  0.009713  0.002339  0.036837  0.037290   \n",
       "Albuquerque, NM              0.018131  0.013973  0.009816  0.018735  0.044445   \n",
       "\n",
       "                             unemp  ...  fueloil_gal            vmt   hh_2014  \\\n",
       "MSA                                 ...                                         \n",
       "Abilene, TX                    6.4  ...     1.336685   76234.634771   65492.0   \n",
       "Akron, OH                      9.7  ...    79.046948   47008.858596  160668.0   \n",
       "Albany, GA                    15.0  ...     9.162196   72787.504018   57134.0   \n",
       "Albany-Schenectady-Troy, NY    7.4  ...  1181.335835  103020.435963  392206.0   \n",
       "Albuquerque, NM                9.1  ...     4.024810  101942.760602  305713.0   \n",
       "\n",
       "                             cf_transport_phh  cf_housing_phh  cf_food_phh  \\\n",
       "MSA                                                                          \n",
       "Abilene, TX                         15.927517       12.674110     7.667713   \n",
       "Akron, OH                           15.993913       11.746599     7.517472   \n",
       "Albany, GA                          14.360085       13.990202     7.972296   \n",
       "Albany-Schenectady-Troy, NY         14.195390       10.778376     7.221763   \n",
       "Albuquerque, NM                     15.594705       13.531895     7.775563   \n",
       "\n",
       "                             cf_goods_phh  cf_services_phh     cf_phh  \\\n",
       "MSA                                                                     \n",
       "Abilene, TX                      4.616458         5.004892  49.144098   \n",
       "Akron, OH                        5.391050         6.071775  50.968122   \n",
       "Albany, GA                       4.684970         5.050888  46.428323   \n",
       "Albany-Schenectady-Troy, NY      5.349727         6.058857  47.021127   \n",
       "Albuquerque, NM                  5.051710         5.576700  49.593381   \n",
       "\n",
       "                                       cf  \n",
       "MSA                                        \n",
       "Abilene, TX                  3.218545e+06  \n",
       "Akron, OH                    8.188946e+06  \n",
       "Albany, GA                   2.652636e+06  \n",
       "Albany-Schenectady-Troy, NY  1.844197e+07  \n",
       "Albuquerque, NM              1.516134e+07  \n",
       "\n",
       "[5 rows x 48 columns]"
      ]
     },
     "execution_count": 3,
     "metadata": {},
     "output_type": "execute_result"
    }
   ],
   "source": [
    "df.head()"
   ]
  },
  {
   "cell_type": "code",
   "execution_count": 4,
   "id": "8bc5a73d-1737-4d62-8198-a86f7b9a6ba7",
   "metadata": {},
   "outputs": [
    {
     "name": "stdout",
     "output_type": "stream",
     "text": [
      "households\n",
      "med_hh_inc_dol\n",
      "ms_cara\n",
      "ms_carp\n",
      "ms_pt\n",
      "ms_taxi\n",
      "ms_bike\n",
      "ms_walk\n",
      "ms_wfh\n",
      "unemp\n",
      "auto_commuters\n",
      "annual_excess_fuel_consumed_commuters\n",
      "ahd\n",
      "tti\n",
      "dvmt_freeway\n",
      "ahd_truck\n",
      "vmt_arterial\n",
      "n\n",
      "m\n",
      "k_avg\n",
      "edge_length_total\n",
      "edge_length_avg\n",
      "streets_per_node_avg\n",
      "intersection_count\n",
      "street_length_total\n",
      "street_segment_count\n",
      "street_length_avg\n",
      "circuity_avg\n",
      "self_loop_proportion\n",
      "node_density_km\n",
      "intersection_density_km\n",
      "edge_density_km\n",
      "street_density_km\n",
      "builing_area_sqkm\n",
      "area_sqkm\n",
      "pop_2014\n",
      "electricity_kwh\n",
      "nat_gas_cuft\n",
      "fueloil_gal\n",
      "vmt\n",
      "hh_2014\n",
      "cf_transport_phh\n",
      "cf_housing_phh\n",
      "cf_food_phh\n",
      "cf_goods_phh\n",
      "cf_services_phh\n",
      "cf_phh\n",
      "cf\n"
     ]
    }
   ],
   "source": [
    "for column in df.columns:\n",
    "    print(column)"
   ]
  },
  {
   "cell_type": "code",
   "execution_count": 5,
   "id": "97277154-2aed-4632-a076-f9120dc0c02f",
   "metadata": {
    "tags": []
   },
   "outputs": [],
   "source": [
    "y = df['cf']"
   ]
  },
  {
   "cell_type": "code",
   "execution_count": 6,
   "id": "ea6217c6-95c9-434c-ae0d-261e3575355b",
   "metadata": {
    "tags": []
   },
   "outputs": [],
   "source": [
    "cols_to_plot = df.iloc[:, :-1]"
   ]
  },
  {
   "cell_type": "code",
   "execution_count": 7,
   "id": "35d86a5e-e08a-48d0-9a82-6320e1488ae4",
   "metadata": {
    "tags": []
   },
   "outputs": [],
   "source": [
    "cols_to_plot2 = df.iloc[:, :-8]"
   ]
  },
  {
   "cell_type": "code",
   "execution_count": 8,
   "id": "445f1e9f-770d-4a40-afcf-bdc4e39d2cdb",
   "metadata": {
    "tags": []
   },
   "outputs": [
    {
     "data": {
      "text/plain": [
       "['households',\n",
       " 'med_hh_inc_dol',\n",
       " 'ms_cara',\n",
       " 'ms_carp',\n",
       " 'ms_pt',\n",
       " 'ms_taxi',\n",
       " 'ms_bike',\n",
       " 'ms_walk',\n",
       " 'ms_wfh',\n",
       " 'unemp',\n",
       " 'auto_commuters',\n",
       " 'annual_excess_fuel_consumed_commuters',\n",
       " 'ahd',\n",
       " 'tti',\n",
       " 'dvmt_freeway',\n",
       " 'ahd_truck',\n",
       " 'vmt_arterial',\n",
       " 'n',\n",
       " 'm',\n",
       " 'k_avg',\n",
       " 'edge_length_total',\n",
       " 'edge_length_avg',\n",
       " 'streets_per_node_avg',\n",
       " 'intersection_count',\n",
       " 'street_length_total',\n",
       " 'street_segment_count',\n",
       " 'street_length_avg',\n",
       " 'circuity_avg',\n",
       " 'self_loop_proportion',\n",
       " 'node_density_km',\n",
       " 'intersection_density_km',\n",
       " 'edge_density_km',\n",
       " 'street_density_km',\n",
       " 'builing_area_sqkm',\n",
       " 'area_sqkm',\n",
       " 'pop_2014',\n",
       " 'electricity_kwh',\n",
       " 'nat_gas_cuft',\n",
       " 'fueloil_gal',\n",
       " 'vmt']"
      ]
     },
     "execution_count": 8,
     "metadata": {},
     "output_type": "execute_result"
    }
   ],
   "source": [
    "list(cols_to_plot2)"
   ]
  },
  {
   "cell_type": "code",
   "execution_count": 9,
   "id": "285f0829-af1c-4e9c-80c0-6231f6462d1e",
   "metadata": {
    "tags": []
   },
   "outputs": [
    {
     "data": {
      "text/plain": [
       "40"
      ]
     },
     "execution_count": 9,
     "metadata": {},
     "output_type": "execute_result"
    }
   ],
   "source": [
    "len(cols_to_plot2.columns)"
   ]
  },
  {
   "cell_type": "code",
   "execution_count": 10,
   "id": "6de41fbf-7401-4106-ab43-1a70b3c55b0d",
   "metadata": {},
   "outputs": [],
   "source": [
    "#grid = sns.FacetGrid(df, col='cf', col_wrap=3)"
   ]
  },
  {
   "cell_type": "code",
   "execution_count": 11,
   "id": "df7a9cc0-bc85-4b14-91b3-ed83e18e4315",
   "metadata": {
    "tags": []
   },
   "outputs": [
    {
     "data": {
      "image/png": "[encoded data removed]",
      "text/plain": [
       "<Figure size 640x480 with 1 Axes>"
      ]
     },
     "metadata": {},
     "output_type": "display_data"
    }
   ],
   "source": [
    "xa = df['hh_2014']/1e6\n",
    "ya = df['cf']/1e6\n",
    "g = sns.regplot(x=xa, y=ya, ci=None,scatter_kws=dict(alpha=0.3,s=20),line_kws=dict(lw=1))\n",
    "g.set_ylabel('MSA Carbon footprint (MMTCO2e)')\n",
    "g.set_xlabel('MSA Number of Households (million)')\n",
    "plt.savefig('../../figures/cf_hh.png',dpi=300)"
   ]
  },
  {
   "cell_type": "code",
   "execution_count": 12,
   "id": "42c1f2fe-dfb5-4ce8-9ea9-f3affbdcca2a",
   "metadata": {},
   "outputs": [],
   "source": [
    "X = df['hh_2014'].values"
   ]
  },
  {
   "cell_type": "code",
   "execution_count": 13,
   "id": "47542756-1f33-42c0-ae91-70a6d07d04ca",
   "metadata": {},
   "outputs": [],
   "source": [
    "Y = df['cf'].values"
   ]
  },
  {
   "cell_type": "code",
   "execution_count": 14,
   "id": "1e7655fd-1615-4c53-ae3b-c7d1410bafa4",
   "metadata": {},
   "outputs": [],
   "source": [
    "X = sm.add_constant(X, prepend=True)"
   ]
  },
  {
   "cell_type": "code",
   "execution_count": null,
   "id": "4b267f5a-cfbf-420c-99fa-42c19109e0a0",
   "metadata": {},
   "outputs": [],
   "source": []
  },
  {
   "cell_type": "code",
   "execution_count": 15,
   "id": "bda541f8-15dc-48b9-bedc-dc5485810ac5",
   "metadata": {},
   "outputs": [],
   "source": [
    "lm = sm.OLS(Y,X)"
   ]
  },
  {
   "cell_type": "code",
   "execution_count": 16,
   "id": "6760fc1f-3292-41a1-9374-521b73d13ab6",
   "metadata": {},
   "outputs": [],
   "source": [
    "result = lm.fit()"
   ]
  },
  {
   "cell_type": "code",
   "execution_count": 17,
   "id": "44dee3ca-ce6e-416a-abcd-87200697b99d",
   "metadata": {},
   "outputs": [
    {
     "name": "stdout",
     "output_type": "stream",
     "text": [
      "                            OLS Regression Results                            \n",
      "==============================================================================\n",
      "Dep. Variable:                      y   R-squared:                       0.991\n",
      "Model:                            OLS   Adj. R-squared:                  0.991\n",
      "Method:                 Least Squares   F-statistic:                 3.846e+04\n",
      "Date:                Tue, 11 Jul 2023   Prob (F-statistic):               0.00\n",
      "Time:                        13:42:44   Log-Likelihood:                -5452.0\n",
      "No. Observations:                 335   AIC:                         1.091e+04\n",
      "Df Residuals:                     333   BIC:                         1.092e+04\n",
      "Df Model:                           1                                         \n",
      "Covariance Type:            nonrobust                                         \n",
      "==============================================================================\n",
      "                 coef    std err          t      P>|t|      [0.025      0.975]\n",
      "------------------------------------------------------------------------------\n",
      "const       7.864e+04   1.69e+05      0.464      0.643   -2.54e+05    4.12e+05\n",
      "x1            51.4709      0.262    196.104      0.000      50.955      51.987\n",
      "==============================================================================\n",
      "Omnibus:                      147.005   Durbin-Watson:                   1.805\n",
      "Prob(Omnibus):                  0.000   Jarque-Bera (JB):            32279.724\n",
      "Skew:                          -0.486   Prob(JB):                         0.00\n",
      "Kurtosis:                      51.079   Cond. No.                     7.05e+05\n",
      "==============================================================================\n",
      "\n",
      "Notes:\n",
      "[1] Standard Errors assume that the covariance matrix of the errors is correctly specified.\n",
      "[2] The condition number is large, 7.05e+05. This might indicate that there are\n",
      "strong multicollinearity or other numerical problems.\n"
     ]
    }
   ],
   "source": [
    "print(result.summary())"
   ]
  },
  {
   "cell_type": "code",
   "execution_count": 18,
   "id": "9a3efaaa-46fc-4197-b4a8-9088000becdd",
   "metadata": {
    "tags": []
   },
   "outputs": [],
   "source": [
    "for column in cols_to_plot.columns:\n",
    "    #grid.map(sns.scatterplot, x, y)\n",
    "    x = df[column]\n",
    "    fig = plt.figure(figsize=(8,8))\n",
    "    plt.scatter(x, y)\n",
    "    #grid.set_axis_labels(column, 'Total Carbon Footprint (tCO2/yr')\n",
    "    #grid.set_titles('Total Carbon Footprint vs ' + column)\n",
    "    plt.xlabel(column)\n",
    "    plt.ylabel('Total Carbon Footprint (tCO2/yr)')\n",
    "    plt.title('Total Carbon Footprint vs ' + column)\n",
    "    plt.savefig('../../figures/' + column + '.png', dpi=300, facecolor='white')\n",
    "    plt.close(fig)"
   ]
  },
  {
   "cell_type": "code",
   "execution_count": 19,
   "id": "b19a92d1-0840-4925-9289-c99cb1b12e3b",
   "metadata": {},
   "outputs": [
    {
     "data": {
      "text/plain": [
       "50.38144102800955"
      ]
     },
     "execution_count": 19,
     "metadata": {},
     "output_type": "execute_result"
    },
    {
     "data": {
      "image/png": "[encoded data removed]",
      "text/plain": [
       "<Figure size 640x480 with 1 Axes>"
      ]
     },
     "metadata": {},
     "output_type": "display_data"
    }
   ],
   "source": [
    "plt.hist(df['cf_phh'])\n",
    "df['cf_phh'].mean()"
   ]
  },
  {
   "cell_type": "code",
   "execution_count": 20,
   "id": "3596013c-a938-4a34-b952-14efec66a70a",
   "metadata": {},
   "outputs": [
    {
     "data": {
      "text/plain": [
       "335"
      ]
     },
     "execution_count": 20,
     "metadata": {},
     "output_type": "execute_result"
    }
   ],
   "source": [
    "len(X)"
   ]
  },
  {
   "cell_type": "code",
   "execution_count": 21,
   "id": "ced1ba7e-df3c-423e-9557-4564d997aa49",
   "metadata": {},
   "outputs": [
    {
     "data": {
      "text/plain": [
       "(array([307.,  15.,   5.,   2.,   3.,   1.,   1.,   0.,   0.,   1.]),\n",
       " array([   6815. ,  636707.4, 1266599.8, 1896492.2, 2526384.6, 3156277. ,\n",
       "        3786169.4, 4416061.8, 5045954.2, 5675846.6, 6305739. ]),\n",
       " <BarContainer object of 10 artists>)"
      ]
     },
     "execution_count": 21,
     "metadata": {},
     "output_type": "execute_result"
    },
    {
     "data": {
      "image/png": "[encoded data removed]",
      "text/plain": [
       "<Figure size 640x480 with 1 Axes>"
      ]
     },
     "metadata": {},
     "output_type": "display_data"
    }
   ],
   "source": [
    "plt.hist(df['hh_2014'])"
   ]
  },
  {
   "cell_type": "code",
   "execution_count": 22,
   "id": "1ac4c7e8-7067-4e4c-acbc-bd706dbe1722",
   "metadata": {},
   "outputs": [
    {
     "data": {
      "image/png": "[encoded data removed]",
      "text/plain": [
       "<Figure size 640x480 with 1 Axes>"
      ]
     },
     "metadata": {},
     "output_type": "display_data"
    }
   ],
   "source": [
    "for column in cols_to_plot.columns:\n",
    "    x = df[column]\n",
    "    plt.hist(x)\n",
    "    plt.xlabel(column)\n",
    "    plt.show"
   ]
  },
  {
   "cell_type": "code",
   "execution_count": null,
   "id": "28228c82-50e7-46a1-b994-36de445c479c",
   "metadata": {},
   "outputs": [],
   "source": []
  },
  {
   "cell_type": "code",
   "execution_count": 23,
   "id": "e24722c5-7ba4-4b78-8cfe-2383b2d50f55",
   "metadata": {
    "tags": []
   },
   "outputs": [],
   "source": [
    "X = cols_to_plot2"
   ]
  },
  {
   "cell_type": "code",
   "execution_count": 24,
   "id": "10368baa-78d1-4d2d-bf67-0e134d3d72bc",
   "metadata": {
    "tags": []
   },
   "outputs": [],
   "source": [
    "X = X.fillna(value=-999)"
   ]
  },
  {
   "cell_type": "code",
   "execution_count": 25,
   "id": "67d58fbc-75c8-40a4-b83b-fc1c76554b78",
   "metadata": {},
   "outputs": [
    {
     "data": {
      "text/html": [
       "<div>\n",
       "<style scoped>\n",
       "    .dataframe tbody tr th:only-of-type {\n",
       "        vertical-align: middle;\n",
       "    }\n",
       "\n",
       "    .dataframe tbody tr th {\n",
       "        vertical-align: top;\n",
       "    }\n",
       "\n",
       "    .dataframe thead th {\n",
       "        text-align: right;\n",
       "    }\n",
       "</style>\n",
       "<table border=\"1\" class=\"dataframe\">\n",
       "  <thead>\n",
       "    <tr style=\"text-align: right;\">\n",
       "      <th></th>\n",
       "      <th>households</th>\n",
       "      <th>med_hh_inc_dol</th>\n",
       "      <th>ms_cara</th>\n",
       "      <th>ms_carp</th>\n",
       "      <th>ms_pt</th>\n",
       "      <th>ms_taxi</th>\n",
       "      <th>ms_bike</th>\n",
       "      <th>ms_walk</th>\n",
       "      <th>ms_wfh</th>\n",
       "      <th>unemp</th>\n",
       "      <th>...</th>\n",
       "      <th>intersection_density_km</th>\n",
       "      <th>edge_density_km</th>\n",
       "      <th>street_density_km</th>\n",
       "      <th>builing_area_sqkm</th>\n",
       "      <th>area_sqkm</th>\n",
       "      <th>pop_2014</th>\n",
       "      <th>electricity_kwh</th>\n",
       "      <th>nat_gas_cuft</th>\n",
       "      <th>fueloil_gal</th>\n",
       "      <th>vmt</th>\n",
       "    </tr>\n",
       "    <tr>\n",
       "      <th>MSA</th>\n",
       "      <th></th>\n",
       "      <th></th>\n",
       "      <th></th>\n",
       "      <th></th>\n",
       "      <th></th>\n",
       "      <th></th>\n",
       "      <th></th>\n",
       "      <th></th>\n",
       "      <th></th>\n",
       "      <th></th>\n",
       "      <th></th>\n",
       "      <th></th>\n",
       "      <th></th>\n",
       "      <th></th>\n",
       "      <th></th>\n",
       "      <th></th>\n",
       "      <th></th>\n",
       "      <th></th>\n",
       "      <th></th>\n",
       "      <th></th>\n",
       "      <th></th>\n",
       "    </tr>\n",
       "  </thead>\n",
       "  <tbody>\n",
       "    <tr>\n",
       "      <th>Abilene, TX</th>\n",
       "      <td>60343</td>\n",
       "      <td>44249</td>\n",
       "      <td>0.806459</td>\n",
       "      <td>0.117276</td>\n",
       "      <td>0.006420</td>\n",
       "      <td>0.017641</td>\n",
       "      <td>0.002089</td>\n",
       "      <td>0.024034</td>\n",
       "      <td>0.026081</td>\n",
       "      <td>6.4</td>\n",
       "      <td>...</td>\n",
       "      <td>1.669790</td>\n",
       "      <td>2406.696840</td>\n",
       "      <td>1251.142264</td>\n",
       "      <td>7.048505</td>\n",
       "      <td>7133.829924</td>\n",
       "      <td>160828.0</td>\n",
       "      <td>35714.088774</td>\n",
       "      <td>98701.118579</td>\n",
       "      <td>1.336685</td>\n",
       "      <td>76234.634771</td>\n",
       "    </tr>\n",
       "    <tr>\n",
       "      <th>Akron, OH</th>\n",
       "      <td>281752</td>\n",
       "      <td>50776</td>\n",
       "      <td>0.862746</td>\n",
       "      <td>0.066992</td>\n",
       "      <td>0.014979</td>\n",
       "      <td>0.005027</td>\n",
       "      <td>0.001327</td>\n",
       "      <td>0.016849</td>\n",
       "      <td>0.032080</td>\n",
       "      <td>9.7</td>\n",
       "      <td>...</td>\n",
       "      <td>8.862967</td>\n",
       "      <td>6351.230011</td>\n",
       "      <td>3360.943838</td>\n",
       "      <td>14.307097</td>\n",
       "      <td>2391.975398</td>\n",
       "      <td>678301.0</td>\n",
       "      <td>23257.037633</td>\n",
       "      <td>121455.109113</td>\n",
       "      <td>79.046948</td>\n",
       "      <td>47008.858596</td>\n",
       "    </tr>\n",
       "    <tr>\n",
       "      <th>Albany, GA</th>\n",
       "      <td>58250</td>\n",
       "      <td>36805</td>\n",
       "      <td>0.804208</td>\n",
       "      <td>0.123413</td>\n",
       "      <td>0.010765</td>\n",
       "      <td>0.007939</td>\n",
       "      <td>0.001490</td>\n",
       "      <td>0.019618</td>\n",
       "      <td>0.032567</td>\n",
       "      <td>15.0</td>\n",
       "      <td>...</td>\n",
       "      <td>1.667318</td>\n",
       "      <td>2287.583389</td>\n",
       "      <td>1195.808038</td>\n",
       "      <td>6.979580</td>\n",
       "      <td>4172.570196</td>\n",
       "      <td>141811.0</td>\n",
       "      <td>38975.470766</td>\n",
       "      <td>85814.672587</td>\n",
       "      <td>9.162196</td>\n",
       "      <td>72787.504018</td>\n",
       "    </tr>\n",
       "    <tr>\n",
       "      <th>Albany-Schenectady-Troy, NY</th>\n",
       "      <td>347401</td>\n",
       "      <td>61841</td>\n",
       "      <td>0.804724</td>\n",
       "      <td>0.076936</td>\n",
       "      <td>0.032160</td>\n",
       "      <td>0.009713</td>\n",
       "      <td>0.002339</td>\n",
       "      <td>0.036837</td>\n",
       "      <td>0.037290</td>\n",
       "      <td>7.4</td>\n",
       "      <td>...</td>\n",
       "      <td>4.060365</td>\n",
       "      <td>3740.737967</td>\n",
       "      <td>1953.471821</td>\n",
       "      <td>41.455466</td>\n",
       "      <td>7451.054339</td>\n",
       "      <td>820825.0</td>\n",
       "      <td>36802.454287</td>\n",
       "      <td>233221.913105</td>\n",
       "      <td>1181.335835</td>\n",
       "      <td>103020.435963</td>\n",
       "    </tr>\n",
       "    <tr>\n",
       "      <th>Albuquerque, NM</th>\n",
       "      <td>344168</td>\n",
       "      <td>48875</td>\n",
       "      <td>0.799726</td>\n",
       "      <td>0.095175</td>\n",
       "      <td>0.018131</td>\n",
       "      <td>0.013973</td>\n",
       "      <td>0.009816</td>\n",
       "      <td>0.018735</td>\n",
       "      <td>0.044445</td>\n",
       "      <td>9.1</td>\n",
       "      <td>...</td>\n",
       "      <td>1.791798</td>\n",
       "      <td>1738.064896</td>\n",
       "      <td>924.912213</td>\n",
       "      <td>75.879548</td>\n",
       "      <td>24078.610478</td>\n",
       "      <td>729083.0</td>\n",
       "      <td>49890.513214</td>\n",
       "      <td>147251.735865</td>\n",
       "      <td>4.024810</td>\n",
       "      <td>101942.760602</td>\n",
       "    </tr>\n",
       "  </tbody>\n",
       "</table>\n",
       "<p>5 rows × 40 columns</p>\n",
       "</div>"
      ],
      "text/plain": [
       "                             households  med_hh_inc_dol   ms_cara   ms_carp  \\\n",
       "MSA                                                                           \n",
       "Abilene, TX                       60343           44249  0.806459  0.117276   \n",
       "Akron, OH                        281752           50776  0.862746  0.066992   \n",
       "Albany, GA                        58250           36805  0.804208  0.123413   \n",
       "Albany-Schenectady-Troy, NY      347401           61841  0.804724  0.076936   \n",
       "Albuquerque, NM                  344168           48875  0.799726  0.095175   \n",
       "\n",
       "                                ms_pt   ms_taxi   ms_bike   ms_walk    ms_wfh  \\\n",
       "MSA                                                                             \n",
       "Abilene, TX                  0.006420  0.017641  0.002089  0.024034  0.026081   \n",
       "Akron, OH                    0.014979  0.005027  0.001327  0.016849  0.032080   \n",
       "Albany, GA                   0.010765  0.007939  0.001490  0.019618  0.032567   \n",
       "Albany-Schenectady-Troy, NY  0.032160  0.009713  0.002339  0.036837  0.037290   \n",
       "Albuquerque, NM              0.018131  0.013973  0.009816  0.018735  0.044445   \n",
       "\n",
       "                             unemp  ...  intersection_density_km  \\\n",
       "MSA                                 ...                            \n",
       "Abilene, TX                    6.4  ...                 1.669790   \n",
       "Akron, OH                      9.7  ...                 8.862967   \n",
       "Albany, GA                    15.0  ...                 1.667318   \n",
       "Albany-Schenectady-Troy, NY    7.4  ...                 4.060365   \n",
       "Albuquerque, NM                9.1  ...                 1.791798   \n",
       "\n",
       "                             edge_density_km  street_density_km  \\\n",
       "MSA                                                               \n",
       "Abilene, TX                      2406.696840        1251.142264   \n",
       "Akron, OH                        6351.230011        3360.943838   \n",
       "Albany, GA                       2287.583389        1195.808038   \n",
       "Albany-Schenectady-Troy, NY      3740.737967        1953.471821   \n",
       "Albuquerque, NM                  1738.064896         924.912213   \n",
       "\n",
       "                             builing_area_sqkm     area_sqkm  pop_2014  \\\n",
       "MSA                                                                      \n",
       "Abilene, TX                           7.048505   7133.829924  160828.0   \n",
       "Akron, OH                            14.307097   2391.975398  678301.0   \n",
       "Albany, GA                            6.979580   4172.570196  141811.0   \n",
       "Albany-Schenectady-Troy, NY          41.455466   7451.054339  820825.0   \n",
       "Albuquerque, NM                      75.879548  24078.610478  729083.0   \n",
       "\n",
       "                             electricity_kwh   nat_gas_cuft  fueloil_gal  \\\n",
       "MSA                                                                        \n",
       "Abilene, TX                     35714.088774   98701.118579     1.336685   \n",
       "Akron, OH                       23257.037633  121455.109113    79.046948   \n",
       "Albany, GA                      38975.470766   85814.672587     9.162196   \n",
       "Albany-Schenectady-Troy, NY     36802.454287  233221.913105  1181.335835   \n",
       "Albuquerque, NM                 49890.513214  147251.735865     4.024810   \n",
       "\n",
       "                                       vmt  \n",
       "MSA                                         \n",
       "Abilene, TX                   76234.634771  \n",
       "Akron, OH                     47008.858596  \n",
       "Albany, GA                    72787.504018  \n",
       "Albany-Schenectady-Troy, NY  103020.435963  \n",
       "Albuquerque, NM              101942.760602  \n",
       "\n",
       "[5 rows x 40 columns]"
      ]
     },
     "execution_count": 25,
     "metadata": {},
     "output_type": "execute_result"
    }
   ],
   "source": [
    "X.head()"
   ]
  },
  {
   "cell_type": "code",
   "execution_count": 26,
   "id": "dee5016e-4753-4ac0-85ff-bf34c085b99a",
   "metadata": {
    "tags": []
   },
   "outputs": [
    {
     "ename": "NameError",
     "evalue": "name 'RandomForestRegressor' is not defined",
     "output_type": "error",
     "traceback": [
      "\u001b[1;31m---------------------------------------------------------------------------\u001b[0m",
      "\u001b[1;31mNameError\u001b[0m                                 Traceback (most recent call last)",
      "\u001b[1;32m~\\AppData\\Local\\Temp\\ipykernel_14192\\1120161671.py\u001b[0m in \u001b[0;36m<module>\u001b[1;34m\u001b[0m\n\u001b[1;32m----> 1\u001b[1;33m \u001b[0mrf\u001b[0m \u001b[1;33m=\u001b[0m \u001b[0mRandomForestRegressor\u001b[0m\u001b[1;33m(\u001b[0m\u001b[0mmax_features\u001b[0m\u001b[1;33m=\u001b[0m\u001b[1;36m5\u001b[0m\u001b[1;33m,\u001b[0m \u001b[0mn_estimators\u001b[0m\u001b[1;33m=\u001b[0m\u001b[1;36m1000\u001b[0m\u001b[1;33m,\u001b[0m \u001b[0mrandom_state\u001b[0m\u001b[1;33m=\u001b[0m\u001b[1;36m0\u001b[0m\u001b[1;33m,\u001b[0m \u001b[0mccp_alpha\u001b[0m\u001b[1;33m=\u001b[0m\u001b[1;36m0.001\u001b[0m\u001b[1;33m)\u001b[0m\u001b[1;33m\u001b[0m\u001b[1;33m\u001b[0m\u001b[0m\n\u001b[0m",
      "\u001b[1;31mNameError\u001b[0m: name 'RandomForestRegressor' is not defined"
     ]
    }
   ],
   "source": [
    "rf = RandomForestRegressor(max_features=5, n_estimators=1000, random_state=0, ccp_alpha=0.001)"
   ]
  },
  {
   "cell_type": "code",
   "execution_count": null,
   "id": "66b06318-4379-48ed-9e4c-2b2b717d5c26",
   "metadata": {
    "jupyter": {
     "source_hidden": true
    },
    "tags": []
   },
   "outputs": [],
   "source": [
    "?RandomForestRegressor"
   ]
  },
  {
   "cell_type": "code",
   "execution_count": null,
   "id": "2af1de02-966c-480d-8337-1db17f935a27",
   "metadata": {
    "tags": []
   },
   "outputs": [],
   "source": [
    "Y = df['cf']/1e+6"
   ]
  },
  {
   "cell_type": "code",
   "execution_count": null,
   "id": "1d914d35-d737-40ed-88e7-334e396c7182",
   "metadata": {
    "tags": []
   },
   "outputs": [],
   "source": [
    "X_train, X_test, y_train, y_test = train_test_split(X, Y, test_size = .2, random_state = 1)"
   ]
  },
  {
   "cell_type": "code",
   "execution_count": null,
   "id": "3b876d20-ab86-421d-b4ab-44904d78422d",
   "metadata": {
    "tags": []
   },
   "outputs": [],
   "source": [
    "y_train"
   ]
  },
  {
   "cell_type": "code",
   "execution_count": null,
   "id": "e742fa2a-2ad4-4095-a020-6926dbf5e957",
   "metadata": {
    "tags": []
   },
   "outputs": [],
   "source": [
    "X_train"
   ]
  },
  {
   "cell_type": "code",
   "execution_count": null,
   "id": "82ba1d16-6e6a-404a-ab09-861a3e4925da",
   "metadata": {
    "tags": []
   },
   "outputs": [],
   "source": [
    "rf.fit(X_train, y_train)"
   ]
  },
  {
   "cell_type": "code",
   "execution_count": null,
   "id": "c8f036dd-f7b0-4ea5-8985-d53eaafae95b",
   "metadata": {},
   "outputs": [],
   "source": []
  },
  {
   "cell_type": "code",
   "execution_count": null,
   "id": "391ef1d3-2cae-459d-99ca-43cabc8b86e5",
   "metadata": {},
   "outputs": [],
   "source": [
    "y_pred = rf.predict(X_test)"
   ]
  },
  {
   "cell_type": "code",
   "execution_count": null,
   "id": "81038b20-deea-46f6-bebe-3906c9a87170",
   "metadata": {},
   "outputs": [],
   "source": [
    "plt.scatter(y_test, y_pred)\n",
    "plt.ylim(0, 150)\n",
    "plt.xlim(0, 150)"
   ]
  },
  {
   "cell_type": "code",
   "execution_count": null,
   "id": "e6a7338c-332c-432c-921f-96594ccbdc6e",
   "metadata": {},
   "outputs": [],
   "source": [
    "mean_absolute_percentage_error(y_test, y_pred)"
   ]
  },
  {
   "cell_type": "code",
   "execution_count": null,
   "id": "d3059617-41fa-4bb3-b3a5-35ec935a9846",
   "metadata": {
    "tags": []
   },
   "outputs": [],
   "source": [
    "result = permutation_importance(\n",
    "    rf, X_test, y_test, n_repeats=10, random_state=42, n_jobs=2)\n",
    "tree_importances = pd.Series(result.importances_mean, index=X.columns)"
   ]
  },
  {
   "cell_type": "code",
   "execution_count": null,
   "id": "5312f638-9859-49e4-bf09-78edc5e98dcd",
   "metadata": {
    "tags": []
   },
   "outputs": [],
   "source": [
    "# sort features according to importance\n",
    "sorted_idx = np.argsort(tree_importances)\n",
    "pos = np.arange(sorted_idx.shape[0])\n",
    "\n",
    "plt.figure(figsize=(8,9))\n",
    "# plot feature importances\n",
    "plt.barh(pos, tree_importances[sorted_idx], align=\"center\")\n",
    "\n",
    "plt.yticks(pos, np.array(X.columns)[sorted_idx])\n",
    "plt.title(\"Feature Importance (MDI)\")\n",
    "plt.xlabel(\"Mean decrease in impurity\");"
   ]
  },
  {
   "cell_type": "code",
   "execution_count": null,
   "id": "eefd19f6-1a53-4400-8354-e685e42bc83f",
   "metadata": {},
   "outputs": [],
   "source": [
    "X.columns"
   ]
  },
  {
   "cell_type": "code",
   "execution_count": null,
   "id": "0872048d-3878-444a-b3a4-9e63fdf9ab83",
   "metadata": {
    "tags": []
   },
   "outputs": [],
   "source": [
    "plt.figure(figsize=(10,8))\n",
    "plt.boxplot(\n",
    "    result.importances[sorted_idx].T,\n",
    "    vert=False,\n",
    "    labels=np.array(X.columns)[sorted_idx],)\n",
    "\n",
    "plt.title(\"Permutation Importance (test set)\")\n",
    "plt.tight_layout()\n",
    "plt.savefig('../../figures/perm_imp.png',dpi=300)"
   ]
  },
  {
   "cell_type": "code",
   "execution_count": null,
   "id": "8350166c-5d46-440a-8cc6-3092134aef83",
   "metadata": {
    "tags": []
   },
   "outputs": [],
   "source": [
    "print(\"Computing regularization path using the coordinate descent lasso...\")\n",
    "t1 = time.time()\n",
    "lasso_cv = make_pipeline(StandardScaler(), LassoCV(cv=20)).fit(X_train, y_train)\n",
    "#best_model = lasso_cv.fit(X_train, y_train) # the normal standardization is done by default\n",
    "t_lasso_cv = time.time() - t1"
   ]
  },
  {
   "cell_type": "code",
   "execution_count": null,
   "id": "1213362e-2ea0-427f-8451-e9cb0a371e54",
   "metadata": {},
   "outputs": [],
   "source": [
    "# This is to avoid division by zero while doing np.log10\n",
    "EPSILON = 1e-4\n",
    "# Display results\n",
    "lasso = lasso_cv[-1]\n",
    "m_log_alphas = -np.log10(lasso.alphas_ + EPSILON)\n",
    "\n",
    "plt.figure(figsize=(6,10))\n",
    "ymin, ymax = 2300, 3800\n",
    "plt.plot(m_log_alphas, lasso.mse_path_, ':')\n",
    "plt.plot(m_log_alphas, lasso.mse_path_.mean(axis=-1), 'k',\n",
    "         label='Average across the folds', linewidth=2)\n",
    "plt.axvline(-np.log10(lasso.alpha_ + EPSILON), linestyle='--', color='k',\n",
    "            label='alpha: CV estimate')\n",
    "\n",
    "plt.legend()\n",
    "\n",
    "plt.xlabel('-log(alpha)')\n",
    "plt.ylabel('Mean square error')\n",
    "plt.title('Mean square error on each fold: coordinate descent '\n",
    "          '(train time: %.2fs)' % t_lasso_cv)\n",
    "plt.yticks(np.arange(0,2500,100))\n",
    "plt.grid(axis='y')\n",
    "plt.axis('tight')\n",
    "plt.show()"
   ]
  },
  {
   "cell_type": "code",
   "execution_count": null,
   "id": "7c9be9b9-5a77-430e-9147-8979ac7fe60d",
   "metadata": {},
   "outputs": [],
   "source": [
    "print(\"Best alpha using built-in LassoCV: %f\" % lasso.alpha_)\n",
    "print(\"Best score using built-in LassoCV: %f\" %lasso.score(X,y))\n",
    "coef = pd.Series(lasso.coef_, index = X.columns)\n",
    "imp_coef = coef.sort_values()\n",
    "plt.figure(figsize=(8,10))\n",
    "imp_coef.plot(kind = \"barh\")\n",
    "plt.title(\"Feature importance using Lasso Model\")"
   ]
  },
  {
   "cell_type": "code",
   "execution_count": null,
   "id": "d21ccb73-b40e-4ce3-b23e-a3affe4d5645",
   "metadata": {},
   "outputs": [],
   "source": [
    "np.min(lasso.mse_path_)"
   ]
  },
  {
   "cell_type": "code",
   "execution_count": null,
   "id": "a413dae2-9a2b-4af5-b295-a98de38a0647",
   "metadata": {},
   "outputs": [],
   "source": []
  }
 ],
 "metadata": {
  "kernelspec": {
   "display_name": "Python 3 (ipykernel)",
   "language": "python",
   "name": "python3"
  },
  "language_info": {
   "codemirror_mode": {
    "name": "ipython",
    "version": 3
   },
   "file_extension": ".py",
   "mimetype": "text/x-python",
   "name": "python",
   "nbconvert_exporter": "python",
   "pygments_lexer": "ipython3",
   "version": "3.10.8"
  }
 },
 "nbformat": 4,
 "nbformat_minor": 5
}
