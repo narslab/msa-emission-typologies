{
 "cells": [
  {
   "cell_type": "code",
   "execution_count": 5,
   "id": "9234ab62-901c-4a93-b160-3f0b64293080",
   "metadata": {},
   "outputs": [],
   "source": [
    "import numpy as np\n",
    "import pandas as pd\n",
    "import matplotlib.pyplot as plt\n",
    "import seaborn as sns\n",
    "from minepy import MINE"
   ]
  },
  {
   "cell_type": "code",
   "execution_count": 6,
   "id": "8e2a8456-55f2-4a2e-92af-61c6e5397887",
   "metadata": {},
   "outputs": [],
   "source": [
    "df = pd.read_csv('../../data/tidy/data-aggregation.csv', index_col=[0])"
   ]
  },
  {
   "cell_type": "code",
   "execution_count": 7,
   "id": "c872b982-9cea-4a05-8e74-a93ab7a14c1a",
   "metadata": {},
   "outputs": [
    {
     "data": {
      "text/html": [
       "<div>\n",
       "<style scoped>\n",
       "    .dataframe tbody tr th:only-of-type {\n",
       "        vertical-align: middle;\n",
       "    }\n",
       "\n",
       "    .dataframe tbody tr th {\n",
       "        vertical-align: top;\n",
       "    }\n",
       "\n",
       "    .dataframe thead th {\n",
       "        text-align: right;\n",
       "    }\n",
       "</style>\n",
       "<table border=\"1\" class=\"dataframe\">\n",
       "  <thead>\n",
       "    <tr style=\"text-align: right;\">\n",
       "      <th></th>\n",
       "      <th>households</th>\n",
       "      <th>med_hh_inc_dol</th>\n",
       "      <th>ms_cara</th>\n",
       "      <th>ms_carp</th>\n",
       "      <th>ms_pt</th>\n",
       "      <th>ms_taxi</th>\n",
       "      <th>ms_bike</th>\n",
       "      <th>ms_walk</th>\n",
       "      <th>ms_wfh</th>\n",
       "      <th>unemp</th>\n",
       "      <th>...</th>\n",
       "      <th>fueloil_gal</th>\n",
       "      <th>vmt</th>\n",
       "      <th>cf_transport_phh</th>\n",
       "      <th>cf_housing_phh</th>\n",
       "      <th>cf_food_phh</th>\n",
       "      <th>cf_goods_phh</th>\n",
       "      <th>cf_services_phh</th>\n",
       "      <th>cf_phh</th>\n",
       "      <th>hh_2014</th>\n",
       "      <th>cf</th>\n",
       "    </tr>\n",
       "    <tr>\n",
       "      <th>msa</th>\n",
       "      <th></th>\n",
       "      <th></th>\n",
       "      <th></th>\n",
       "      <th></th>\n",
       "      <th></th>\n",
       "      <th></th>\n",
       "      <th></th>\n",
       "      <th></th>\n",
       "      <th></th>\n",
       "      <th></th>\n",
       "      <th></th>\n",
       "      <th></th>\n",
       "      <th></th>\n",
       "      <th></th>\n",
       "      <th></th>\n",
       "      <th></th>\n",
       "      <th></th>\n",
       "      <th></th>\n",
       "      <th></th>\n",
       "      <th></th>\n",
       "      <th></th>\n",
       "    </tr>\n",
       "  </thead>\n",
       "  <tbody>\n",
       "    <tr>\n",
       "      <th>Abilene, TX</th>\n",
       "      <td>60343</td>\n",
       "      <td>44249</td>\n",
       "      <td>0.806459</td>\n",
       "      <td>0.117276</td>\n",
       "      <td>0.006420</td>\n",
       "      <td>0.017641</td>\n",
       "      <td>0.002089</td>\n",
       "      <td>0.024034</td>\n",
       "      <td>0.026081</td>\n",
       "      <td>6.4</td>\n",
       "      <td>...</td>\n",
       "      <td>220.478974</td>\n",
       "      <td>192265.733198</td>\n",
       "      <td>15.657754</td>\n",
       "      <td>13.480262</td>\n",
       "      <td>7.577231</td>\n",
       "      <td>4.540864</td>\n",
       "      <td>4.916275</td>\n",
       "      <td>46.172386</td>\n",
       "      <td>100690.0</td>\n",
       "      <td>4.649098e+06</td>\n",
       "    </tr>\n",
       "    <tr>\n",
       "      <th>Aguadilla-Isabela, PR</th>\n",
       "      <td>109620</td>\n",
       "      <td>15681</td>\n",
       "      <td>0.841606</td>\n",
       "      <td>0.083801</td>\n",
       "      <td>0.003571</td>\n",
       "      <td>0.003961</td>\n",
       "      <td>0.001870</td>\n",
       "      <td>0.042219</td>\n",
       "      <td>0.022973</td>\n",
       "      <td>25.2</td>\n",
       "      <td>...</td>\n",
       "      <td>NaN</td>\n",
       "      <td>NaN</td>\n",
       "      <td>NaN</td>\n",
       "      <td>NaN</td>\n",
       "      <td>NaN</td>\n",
       "      <td>NaN</td>\n",
       "      <td>NaN</td>\n",
       "      <td>NaN</td>\n",
       "      <td>NaN</td>\n",
       "      <td>NaN</td>\n",
       "    </tr>\n",
       "    <tr>\n",
       "      <th>Akron, OH</th>\n",
       "      <td>281752</td>\n",
       "      <td>50776</td>\n",
       "      <td>0.862746</td>\n",
       "      <td>0.066992</td>\n",
       "      <td>0.014979</td>\n",
       "      <td>0.005027</td>\n",
       "      <td>0.001327</td>\n",
       "      <td>0.016849</td>\n",
       "      <td>0.032080</td>\n",
       "      <td>9.7</td>\n",
       "      <td>...</td>\n",
       "      <td>124.833129</td>\n",
       "      <td>115371.753755</td>\n",
       "      <td>15.995618</td>\n",
       "      <td>12.539551</td>\n",
       "      <td>7.604762</td>\n",
       "      <td>5.563126</td>\n",
       "      <td>6.291286</td>\n",
       "      <td>47.994344</td>\n",
       "      <td>227621.0</td>\n",
       "      <td>1.181086e+07</td>\n",
       "    </tr>\n",
       "    <tr>\n",
       "      <th>Albany, GA</th>\n",
       "      <td>58250</td>\n",
       "      <td>36805</td>\n",
       "      <td>0.804208</td>\n",
       "      <td>0.123413</td>\n",
       "      <td>0.010765</td>\n",
       "      <td>0.007939</td>\n",
       "      <td>0.001490</td>\n",
       "      <td>0.019618</td>\n",
       "      <td>0.032567</td>\n",
       "      <td>15.0</td>\n",
       "      <td>...</td>\n",
       "      <td>45.432009</td>\n",
       "      <td>115472.584515</td>\n",
       "      <td>13.906133</td>\n",
       "      <td>14.077966</td>\n",
       "      <td>7.783972</td>\n",
       "      <td>4.548862</td>\n",
       "      <td>4.895082</td>\n",
       "      <td>45.212014</td>\n",
       "      <td>54985.0</td>\n",
       "      <td>2.485983e+06</td>\n",
       "    </tr>\n",
       "    <tr>\n",
       "      <th>Albany, OR</th>\n",
       "      <td>44942</td>\n",
       "      <td>44965</td>\n",
       "      <td>0.773648</td>\n",
       "      <td>0.112044</td>\n",
       "      <td>0.005838</td>\n",
       "      <td>0.011126</td>\n",
       "      <td>0.013241</td>\n",
       "      <td>0.023035</td>\n",
       "      <td>0.061067</td>\n",
       "      <td>11.2</td>\n",
       "      <td>...</td>\n",
       "      <td>NaN</td>\n",
       "      <td>NaN</td>\n",
       "      <td>NaN</td>\n",
       "      <td>NaN</td>\n",
       "      <td>NaN</td>\n",
       "      <td>NaN</td>\n",
       "      <td>NaN</td>\n",
       "      <td>NaN</td>\n",
       "      <td>NaN</td>\n",
       "      <td>NaN</td>\n",
       "    </tr>\n",
       "  </tbody>\n",
       "</table>\n",
       "<p>5 rows × 47 columns</p>\n",
       "</div>"
      ],
      "text/plain": [
       "                       households  med_hh_inc_dol   ms_cara   ms_carp  \\\n",
       "msa                                                                     \n",
       "Abilene, TX                 60343           44249  0.806459  0.117276   \n",
       "Aguadilla-Isabela, PR      109620           15681  0.841606  0.083801   \n",
       "Akron, OH                  281752           50776  0.862746  0.066992   \n",
       "Albany, GA                  58250           36805  0.804208  0.123413   \n",
       "Albany, OR                  44942           44965  0.773648  0.112044   \n",
       "\n",
       "                          ms_pt   ms_taxi   ms_bike   ms_walk    ms_wfh  \\\n",
       "msa                                                                       \n",
       "Abilene, TX            0.006420  0.017641  0.002089  0.024034  0.026081   \n",
       "Aguadilla-Isabela, PR  0.003571  0.003961  0.001870  0.042219  0.022973   \n",
       "Akron, OH              0.014979  0.005027  0.001327  0.016849  0.032080   \n",
       "Albany, GA             0.010765  0.007939  0.001490  0.019618  0.032567   \n",
       "Albany, OR             0.005838  0.011126  0.013241  0.023035  0.061067   \n",
       "\n",
       "                       unemp  ...  fueloil_gal            vmt  \\\n",
       "msa                           ...                               \n",
       "Abilene, TX              6.4  ...   220.478974  192265.733198   \n",
       "Aguadilla-Isabela, PR   25.2  ...          NaN            NaN   \n",
       "Akron, OH                9.7  ...   124.833129  115371.753755   \n",
       "Albany, GA              15.0  ...    45.432009  115472.584515   \n",
       "Albany, OR              11.2  ...          NaN            NaN   \n",
       "\n",
       "                       cf_transport_phh  cf_housing_phh  cf_food_phh  \\\n",
       "msa                                                                    \n",
       "Abilene, TX                   15.657754       13.480262     7.577231   \n",
       "Aguadilla-Isabela, PR               NaN             NaN          NaN   \n",
       "Akron, OH                     15.995618       12.539551     7.604762   \n",
       "Albany, GA                    13.906133       14.077966     7.783972   \n",
       "Albany, OR                          NaN             NaN          NaN   \n",
       "\n",
       "                       cf_goods_phh  cf_services_phh     cf_phh   hh_2014  \\\n",
       "msa                                                                         \n",
       "Abilene, TX                4.540864         4.916275  46.172386  100690.0   \n",
       "Aguadilla-Isabela, PR           NaN              NaN        NaN       NaN   \n",
       "Akron, OH                  5.563126         6.291286  47.994344  227621.0   \n",
       "Albany, GA                 4.548862         4.895082  45.212014   54985.0   \n",
       "Albany, OR                      NaN              NaN        NaN       NaN   \n",
       "\n",
       "                                 cf  \n",
       "msa                                  \n",
       "Abilene, TX            4.649098e+06  \n",
       "Aguadilla-Isabela, PR           NaN  \n",
       "Akron, OH              1.181086e+07  \n",
       "Albany, GA             2.485983e+06  \n",
       "Albany, OR                      NaN  \n",
       "\n",
       "[5 rows x 47 columns]"
      ]
     },
     "execution_count": 7,
     "metadata": {},
     "output_type": "execute_result"
    }
   ],
   "source": [
    "df.head()"
   ]
  },
  {
   "cell_type": "code",
   "execution_count": 8,
   "id": "8bc5a73d-1737-4d62-8198-a86f7b9a6ba7",
   "metadata": {},
   "outputs": [
    {
     "name": "stdout",
     "output_type": "stream",
     "text": [
      "households\n",
      "med_hh_inc_dol\n",
      "ms_cara\n",
      "ms_carp\n",
      "ms_pt\n",
      "ms_taxi\n",
      "ms_bike\n",
      "ms_walk\n",
      "ms_wfh\n",
      "unemp\n",
      "auto_commuters\n",
      "annual_excess_fuel_consumed_commuters\n",
      "ahd\n",
      "tti\n",
      "dvmt_freeway\n",
      "ahd_truck\n",
      "vmt_arterial\n",
      "n\n",
      "m\n",
      "k_avg\n",
      "edge_length_total\n",
      "edge_length_avg\n",
      "streets_per_node_avg\n",
      "intersection_count\n",
      "street_length_total\n",
      "street_segment_count\n",
      "street_length_avg\n",
      "circuity_avg\n",
      "self_loop_proportion\n",
      "node_density_km\n",
      "intersection_density_km\n",
      "edge_density_km\n",
      "street_density_km\n",
      "builing_area_sqkm\n",
      "area_sqkm\n",
      "electricity_kwh\n",
      "nat_gas_cuft\n",
      "fueloil_gal\n",
      "vmt\n",
      "cf_transport_phh\n",
      "cf_housing_phh\n",
      "cf_food_phh\n",
      "cf_goods_phh\n",
      "cf_services_phh\n",
      "cf_phh\n",
      "hh_2014\n",
      "cf\n"
     ]
    }
   ],
   "source": [
    "for column in df.columns:\n",
    "    print(column)"
   ]
  },
  {
   "cell_type": "code",
   "execution_count": 9,
   "id": "97277154-2aed-4632-a076-f9120dc0c02f",
   "metadata": {},
   "outputs": [],
   "source": [
    "y = df['cf']"
   ]
  },
  {
   "cell_type": "code",
   "execution_count": 12,
   "id": "ea6217c6-95c9-434c-ae0d-261e3575355b",
   "metadata": {},
   "outputs": [],
   "source": [
    "cols_to_plot = df.iloc[:, :-1]"
   ]
  },
  {
   "cell_type": "code",
   "execution_count": 13,
   "id": "445f1e9f-770d-4a40-afcf-bdc4e39d2cdb",
   "metadata": {},
   "outputs": [
    {
     "data": {
      "text/plain": [
       "['households',\n",
       " 'med_hh_inc_dol',\n",
       " 'ms_cara',\n",
       " 'ms_carp',\n",
       " 'ms_pt',\n",
       " 'ms_taxi',\n",
       " 'ms_bike',\n",
       " 'ms_walk',\n",
       " 'ms_wfh',\n",
       " 'unemp',\n",
       " 'auto_commuters',\n",
       " 'annual_excess_fuel_consumed_commuters',\n",
       " 'ahd',\n",
       " 'tti',\n",
       " 'dvmt_freeway',\n",
       " 'ahd_truck',\n",
       " 'vmt_arterial',\n",
       " 'n',\n",
       " 'm',\n",
       " 'k_avg',\n",
       " 'edge_length_total',\n",
       " 'edge_length_avg',\n",
       " 'streets_per_node_avg',\n",
       " 'intersection_count',\n",
       " 'street_length_total',\n",
       " 'street_segment_count',\n",
       " 'street_length_avg',\n",
       " 'circuity_avg',\n",
       " 'self_loop_proportion',\n",
       " 'node_density_km',\n",
       " 'intersection_density_km',\n",
       " 'edge_density_km',\n",
       " 'street_density_km',\n",
       " 'builing_area_sqkm',\n",
       " 'area_sqkm',\n",
       " 'electricity_kwh',\n",
       " 'nat_gas_cuft',\n",
       " 'fueloil_gal',\n",
       " 'vmt',\n",
       " 'cf_transport_phh',\n",
       " 'cf_housing_phh',\n",
       " 'cf_food_phh',\n",
       " 'cf_goods_phh',\n",
       " 'cf_services_phh',\n",
       " 'cf_phh',\n",
       " 'hh_2014']"
      ]
     },
     "execution_count": 13,
     "metadata": {},
     "output_type": "execute_result"
    }
   ],
   "source": [
    "list(cols_to_plot)"
   ]
  },
  {
   "cell_type": "code",
   "execution_count": 14,
   "id": "285f0829-af1c-4e9c-80c0-6231f6462d1e",
   "metadata": {},
   "outputs": [
    {
     "data": {
      "text/plain": [
       "46"
      ]
     },
     "execution_count": 14,
     "metadata": {},
     "output_type": "execute_result"
    }
   ],
   "source": [
    "len(cols_to_plot.columns)"
   ]
  },
  {
   "cell_type": "code",
   "execution_count": 15,
   "id": "6de41fbf-7401-4106-ab43-1a70b3c55b0d",
   "metadata": {},
   "outputs": [],
   "source": [
    "#grid = sns.FacetGrid(df, col='cf', col_wrap=3)"
   ]
  },
  {
   "cell_type": "code",
   "execution_count": 22,
   "id": "df7a9cc0-bc85-4b14-91b3-ed83e18e4315",
   "metadata": {},
   "outputs": [
    {
     "name": "stderr",
     "output_type": "stream",
     "text": [
      "C:\\Users\\acwei\\AppData\\Local\\Packages\\PythonSoftwareFoundation.Python.3.9_qbz5n2kfra8p0\\LocalCache\\local-packages\\Python39\\site-packages\\seaborn\\_decorators.py:36: FutureWarning: Pass the following variables as keyword args: x, y. From version 0.12, the only valid positional argument will be `data`, and passing other arguments without an explicit keyword will result in an error or misinterpretation.\n",
      "  warnings.warn(\n"
     ]
    },
    {
     "data": {
      "text/plain": [
       "<AxesSubplot:xlabel='hh_2014', ylabel='cf'>"
      ]
     },
     "execution_count": 22,
     "metadata": {},
     "output_type": "execute_result"
    },
    {
     "data": {
      "image/png": "[encoded data removed]",
      "text/plain": [
       "<Figure size 432x288 with 1 Axes>"
      ]
     },
     "metadata": {
      "needs_background": "light"
     },
     "output_type": "display_data"
    }
   ],
   "source": [
    "xa = df['hh_2014']\n",
    "ya = df['cf']\n",
    "sns.regplot(xa, ya, ci=None)"
   ]
  },
  {
   "cell_type": "code",
   "execution_count": 16,
   "id": "9a3efaaa-46fc-4197-b4a8-9088000becdd",
   "metadata": {
    "tags": []
   },
   "outputs": [
    {
     "data": {
      "image/png": "[encoded data removed]",
      "text/plain": [
       "<Figure size 432x288 with 1 Axes>"
      ]
     },
     "metadata": {
      "needs_background": "light"
     },
     "output_type": "display_data"
    }
   ],
   "source": [
    "for column in cols_to_plot.columns:\n",
    "    #grid.map(sns.scatterplot, x, y)\n",
    "    x = df[column]\n",
    "    plt.scatter(x, y)\n",
    "    #grid.set_axis_labels(column, 'Total Carbon Footprint (tCO2/yr')\n",
    "    #grid.set_titles('Total Carbon Footprint vs ' + column)\n",
    "    plt.xlabel(column)\n",
    "    plt.ylabel('Total Carbon Footprint (tCO2/yr)')\n",
    "    plt.title('Total Carbon Footprint vs ' + column)\n",
    "    plt.show"
   ]
  },
  {
   "cell_type": "code",
   "execution_count": 35,
   "id": "1ac4c7e8-7067-4e4c-acbc-bd706dbe1722",
   "metadata": {},
   "outputs": [
    {
     "data": {
      "image/png": "[encoded data removed]",
      "text/plain": [
       "<Figure size 432x288 with 1 Axes>"
      ]
     },
     "metadata": {
      "needs_background": "light"
     },
     "output_type": "display_data"
    }
   ],
   "source": [
    "for column in cols_to_plot.columns:\n",
    "    x = df[column]\n",
    "    plt.hist(x)\n",
    "    plt.xlabel(column)\n",
    "    plt.show"
   ]
  },
  {
   "cell_type": "code",
   "execution_count": null,
   "id": "1d914d35-d737-40ed-88e7-334e396c7182",
   "metadata": {},
   "outputs": [],
   "source": []
  },
  {
   "cell_type": "code",
   "execution_count": null,
   "id": "82ba1d16-6e6a-404a-ab09-861a3e4925da",
   "metadata": {},
   "outputs": [],
   "source": []
  },
  {
   "cell_type": "code",
   "execution_count": null,
   "id": "391ef1d3-2cae-459d-99ca-43cabc8b86e5",
   "metadata": {},
   "outputs": [],
   "source": []
  }
 ],
 "metadata": {
  "kernelspec": {
   "display_name": "Python 3 (ipykernel)",
   "language": "python",
   "name": "python3"
  },
  "language_info": {
   "codemirror_mode": {
    "name": "ipython",
    "version": 3
   },
   "file_extension": ".py",
   "mimetype": "text/x-python",
   "name": "python",
   "nbconvert_exporter": "python",
   "pygments_lexer": "ipython3",
   "version": "3.9.13"
  }
 },
 "nbformat": 4,
 "nbformat_minor": 5
}
