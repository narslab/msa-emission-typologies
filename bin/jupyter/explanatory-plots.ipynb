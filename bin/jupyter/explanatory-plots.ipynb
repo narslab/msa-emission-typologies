{
 "cells": [
  {
   "cell_type": "code",
   "execution_count": 121,
   "id": "9234ab62-901c-4a93-b160-3f0b64293080",
   "metadata": {},
   "outputs": [],
   "source": [
    "import numpy as np\n",
    "import pandas as pd\n",
    "import matplotlib.pyplot as plt\n",
    "import seaborn as sns\n",
    "from minepy import MINE"
   ]
  },
  {
   "cell_type": "code",
   "execution_count": 122,
   "id": "8e2a8456-55f2-4a2e-92af-61c6e5397887",
   "metadata": {},
   "outputs": [],
   "source": [
    "df = pd.read_csv('../../data/tidy/data-aggregation.csv', index_col=[0])"
   ]
  },
  {
   "cell_type": "code",
   "execution_count": 123,
   "id": "c872b982-9cea-4a05-8e74-a93ab7a14c1a",
   "metadata": {},
   "outputs": [
    {
     "data": {
      "text/html": [
       "<div>\n",
       "<style scoped>\n",
       "    .dataframe tbody tr th:only-of-type {\n",
       "        vertical-align: middle;\n",
       "    }\n",
       "\n",
       "    .dataframe tbody tr th {\n",
       "        vertical-align: top;\n",
       "    }\n",
       "\n",
       "    .dataframe thead th {\n",
       "        text-align: right;\n",
       "    }\n",
       "</style>\n",
       "<table border=\"1\" class=\"dataframe\">\n",
       "  <thead>\n",
       "    <tr style=\"text-align: right;\">\n",
       "      <th></th>\n",
       "      <th>Geographic Area Name</th>\n",
       "      <th>households</th>\n",
       "      <th>med_hh_inc_dol</th>\n",
       "      <th>ms_cara</th>\n",
       "      <th>ms_carp</th>\n",
       "      <th>ms_pt</th>\n",
       "      <th>ms_taxi</th>\n",
       "      <th>ms_bike</th>\n",
       "      <th>ms_walk</th>\n",
       "      <th>ms_wfh</th>\n",
       "      <th>...</th>\n",
       "      <th>fueloil_gal</th>\n",
       "      <th>vmt</th>\n",
       "      <th>cf_transport_phh</th>\n",
       "      <th>cf_housing_phh</th>\n",
       "      <th>cf_food_phh</th>\n",
       "      <th>cf_goods_phh</th>\n",
       "      <th>cf_services_phh</th>\n",
       "      <th>cf_phh</th>\n",
       "      <th>hh_2014</th>\n",
       "      <th>cf</th>\n",
       "    </tr>\n",
       "  </thead>\n",
       "  <tbody>\n",
       "    <tr>\n",
       "      <th>0</th>\n",
       "      <td>Abilene, TX</td>\n",
       "      <td>60343</td>\n",
       "      <td>44249</td>\n",
       "      <td>0.806459</td>\n",
       "      <td>0.117276</td>\n",
       "      <td>0.006420</td>\n",
       "      <td>0.017641</td>\n",
       "      <td>0.002089</td>\n",
       "      <td>0.024034</td>\n",
       "      <td>0.026081</td>\n",
       "      <td>...</td>\n",
       "      <td>220.478974</td>\n",
       "      <td>192265.733198</td>\n",
       "      <td>15.657754</td>\n",
       "      <td>13.480262</td>\n",
       "      <td>7.577231</td>\n",
       "      <td>4.540864</td>\n",
       "      <td>4.916275</td>\n",
       "      <td>46.172386</td>\n",
       "      <td>100690.0</td>\n",
       "      <td>4.649098e+06</td>\n",
       "    </tr>\n",
       "    <tr>\n",
       "      <th>1</th>\n",
       "      <td>Aguadilla-Isabela, PR</td>\n",
       "      <td>109620</td>\n",
       "      <td>15681</td>\n",
       "      <td>0.841606</td>\n",
       "      <td>0.083801</td>\n",
       "      <td>0.003571</td>\n",
       "      <td>0.003961</td>\n",
       "      <td>0.001870</td>\n",
       "      <td>0.042219</td>\n",
       "      <td>0.022973</td>\n",
       "      <td>...</td>\n",
       "      <td>NaN</td>\n",
       "      <td>NaN</td>\n",
       "      <td>NaN</td>\n",
       "      <td>NaN</td>\n",
       "      <td>NaN</td>\n",
       "      <td>NaN</td>\n",
       "      <td>NaN</td>\n",
       "      <td>NaN</td>\n",
       "      <td>NaN</td>\n",
       "      <td>NaN</td>\n",
       "    </tr>\n",
       "    <tr>\n",
       "      <th>2</th>\n",
       "      <td>Akron, OH</td>\n",
       "      <td>281752</td>\n",
       "      <td>50776</td>\n",
       "      <td>0.862746</td>\n",
       "      <td>0.066992</td>\n",
       "      <td>0.014979</td>\n",
       "      <td>0.005027</td>\n",
       "      <td>0.001327</td>\n",
       "      <td>0.016849</td>\n",
       "      <td>0.032080</td>\n",
       "      <td>...</td>\n",
       "      <td>124.833129</td>\n",
       "      <td>115371.753755</td>\n",
       "      <td>15.995618</td>\n",
       "      <td>12.539551</td>\n",
       "      <td>7.604762</td>\n",
       "      <td>5.563126</td>\n",
       "      <td>6.291286</td>\n",
       "      <td>47.994344</td>\n",
       "      <td>227621.0</td>\n",
       "      <td>1.181086e+07</td>\n",
       "    </tr>\n",
       "    <tr>\n",
       "      <th>3</th>\n",
       "      <td>Albany, GA</td>\n",
       "      <td>58250</td>\n",
       "      <td>36805</td>\n",
       "      <td>0.804208</td>\n",
       "      <td>0.123413</td>\n",
       "      <td>0.010765</td>\n",
       "      <td>0.007939</td>\n",
       "      <td>0.001490</td>\n",
       "      <td>0.019618</td>\n",
       "      <td>0.032567</td>\n",
       "      <td>...</td>\n",
       "      <td>45.432009</td>\n",
       "      <td>115472.584515</td>\n",
       "      <td>13.906133</td>\n",
       "      <td>14.077966</td>\n",
       "      <td>7.783972</td>\n",
       "      <td>4.548862</td>\n",
       "      <td>4.895082</td>\n",
       "      <td>45.212014</td>\n",
       "      <td>54985.0</td>\n",
       "      <td>2.485983e+06</td>\n",
       "    </tr>\n",
       "    <tr>\n",
       "      <th>4</th>\n",
       "      <td>Albany, OR</td>\n",
       "      <td>44942</td>\n",
       "      <td>44965</td>\n",
       "      <td>0.773648</td>\n",
       "      <td>0.112044</td>\n",
       "      <td>0.005838</td>\n",
       "      <td>0.011126</td>\n",
       "      <td>0.013241</td>\n",
       "      <td>0.023035</td>\n",
       "      <td>0.061067</td>\n",
       "      <td>...</td>\n",
       "      <td>NaN</td>\n",
       "      <td>NaN</td>\n",
       "      <td>NaN</td>\n",
       "      <td>NaN</td>\n",
       "      <td>NaN</td>\n",
       "      <td>NaN</td>\n",
       "      <td>NaN</td>\n",
       "      <td>NaN</td>\n",
       "      <td>NaN</td>\n",
       "      <td>NaN</td>\n",
       "    </tr>\n",
       "  </tbody>\n",
       "</table>\n",
       "<p>5 rows × 48 columns</p>\n",
       "</div>"
      ],
      "text/plain": [
       "    Geographic Area Name  households  med_hh_inc_dol   ms_cara   ms_carp  \\\n",
       "0            Abilene, TX       60343           44249  0.806459  0.117276   \n",
       "1  Aguadilla-Isabela, PR      109620           15681  0.841606  0.083801   \n",
       "2              Akron, OH      281752           50776  0.862746  0.066992   \n",
       "3             Albany, GA       58250           36805  0.804208  0.123413   \n",
       "4             Albany, OR       44942           44965  0.773648  0.112044   \n",
       "\n",
       "      ms_pt   ms_taxi   ms_bike   ms_walk    ms_wfh  ...  fueloil_gal  \\\n",
       "0  0.006420  0.017641  0.002089  0.024034  0.026081  ...   220.478974   \n",
       "1  0.003571  0.003961  0.001870  0.042219  0.022973  ...          NaN   \n",
       "2  0.014979  0.005027  0.001327  0.016849  0.032080  ...   124.833129   \n",
       "3  0.010765  0.007939  0.001490  0.019618  0.032567  ...    45.432009   \n",
       "4  0.005838  0.011126  0.013241  0.023035  0.061067  ...          NaN   \n",
       "\n",
       "             vmt  cf_transport_phh  cf_housing_phh  cf_food_phh  cf_goods_phh  \\\n",
       "0  192265.733198         15.657754       13.480262     7.577231      4.540864   \n",
       "1            NaN               NaN             NaN          NaN           NaN   \n",
       "2  115371.753755         15.995618       12.539551     7.604762      5.563126   \n",
       "3  115472.584515         13.906133       14.077966     7.783972      4.548862   \n",
       "4            NaN               NaN             NaN          NaN           NaN   \n",
       "\n",
       "   cf_services_phh     cf_phh   hh_2014            cf  \n",
       "0         4.916275  46.172386  100690.0  4.649098e+06  \n",
       "1              NaN        NaN       NaN           NaN  \n",
       "2         6.291286  47.994344  227621.0  1.181086e+07  \n",
       "3         4.895082  45.212014   54985.0  2.485983e+06  \n",
       "4              NaN        NaN       NaN           NaN  \n",
       "\n",
       "[5 rows x 48 columns]"
      ]
     },
     "execution_count": 123,
     "metadata": {},
     "output_type": "execute_result"
    }
   ],
   "source": [
    "df.head()"
   ]
  },
  {
   "cell_type": "code",
   "execution_count": 124,
   "id": "8bc5a73d-1737-4d62-8198-a86f7b9a6ba7",
   "metadata": {},
   "outputs": [
    {
     "name": "stdout",
     "output_type": "stream",
     "text": [
      "Geographic Area Name\n",
      "households\n",
      "med_hh_inc_dol\n",
      "ms_cara\n",
      "ms_carp\n",
      "ms_pt\n",
      "ms_taxi\n",
      "ms_bike\n",
      "ms_walk\n",
      "ms_wfh\n",
      "unemp\n",
      "auto_commuters\n",
      "annual_excess_fuel_consumed_commuters\n",
      "ahd\n",
      "tti\n",
      "dvmt_freeway\n",
      "ahd_truck\n",
      "vmt_arterial\n",
      "n\n",
      "m\n",
      "k_avg\n",
      "edge_length_total\n",
      "edge_length_avg\n",
      "streets_per_node_avg\n",
      "intersection_count\n",
      "street_length_total\n",
      "street_segment_count\n",
      "street_length_avg\n",
      "circuity_avg\n",
      "self_loop_proportion\n",
      "node_density_km\n",
      "intersection_density_km\n",
      "edge_density_km\n",
      "street_density_km\n",
      "builing_area_sqkm\n",
      "area_sqkm\n",
      "electricity_kwh\n",
      "nat_gas_cuft\n",
      "fueloil_gal\n",
      "vmt\n",
      "cf_transport_phh\n",
      "cf_housing_phh\n",
      "cf_food_phh\n",
      "cf_goods_phh\n",
      "cf_services_phh\n",
      "cf_phh\n",
      "hh_2014\n",
      "cf\n"
     ]
    }
   ],
   "source": [
    "for column in df.columns:\n",
    "    print(column)"
   ]
  },
  {
   "cell_type": "code",
   "execution_count": 125,
   "id": "97277154-2aed-4632-a076-f9120dc0c02f",
   "metadata": {},
   "outputs": [],
   "source": [
    "y = df['cf']"
   ]
  },
  {
   "cell_type": "code",
   "execution_count": 126,
   "id": "ea6217c6-95c9-434c-ae0d-261e3575355b",
   "metadata": {},
   "outputs": [],
   "source": [
    "cols_to_plot = df.iloc[:, 1:-1]"
   ]
  },
  {
   "cell_type": "code",
   "execution_count": 127,
   "id": "445f1e9f-770d-4a40-afcf-bdc4e39d2cdb",
   "metadata": {},
   "outputs": [
    {
     "data": {
      "text/plain": [
       "['households',\n",
       " 'med_hh_inc_dol',\n",
       " 'ms_cara',\n",
       " 'ms_carp',\n",
       " 'ms_pt',\n",
       " 'ms_taxi',\n",
       " 'ms_bike',\n",
       " 'ms_walk',\n",
       " 'ms_wfh',\n",
       " 'unemp',\n",
       " 'auto_commuters',\n",
       " 'annual_excess_fuel_consumed_commuters',\n",
       " 'ahd',\n",
       " 'tti',\n",
       " 'dvmt_freeway',\n",
       " 'ahd_truck',\n",
       " 'vmt_arterial',\n",
       " 'n',\n",
       " 'm',\n",
       " 'k_avg',\n",
       " 'edge_length_total',\n",
       " 'edge_length_avg',\n",
       " 'streets_per_node_avg',\n",
       " 'intersection_count',\n",
       " 'street_length_total',\n",
       " 'street_segment_count',\n",
       " 'street_length_avg',\n",
       " 'circuity_avg',\n",
       " 'self_loop_proportion',\n",
       " 'node_density_km',\n",
       " 'intersection_density_km',\n",
       " 'edge_density_km',\n",
       " 'street_density_km',\n",
       " 'builing_area_sqkm',\n",
       " 'area_sqkm',\n",
       " 'electricity_kwh',\n",
       " 'nat_gas_cuft',\n",
       " 'fueloil_gal',\n",
       " 'vmt',\n",
       " 'cf_transport_phh',\n",
       " 'cf_housing_phh',\n",
       " 'cf_food_phh',\n",
       " 'cf_goods_phh',\n",
       " 'cf_services_phh',\n",
       " 'cf_phh',\n",
       " 'hh_2014']"
      ]
     },
     "execution_count": 127,
     "metadata": {},
     "output_type": "execute_result"
    }
   ],
   "source": [
    "list(cols_to_plot)"
   ]
  },
  {
   "cell_type": "code",
   "execution_count": 128,
   "id": "285f0829-af1c-4e9c-80c0-6231f6462d1e",
   "metadata": {},
   "outputs": [
    {
     "data": {
      "text/plain": [
       "46"
      ]
     },
     "execution_count": 128,
     "metadata": {},
     "output_type": "execute_result"
    }
   ],
   "source": [
    "len(cols_to_plot.columns)"
   ]
  },
  {
   "cell_type": "code",
   "execution_count": 129,
   "id": "6de41fbf-7401-4106-ab43-1a70b3c55b0d",
   "metadata": {},
   "outputs": [],
   "source": [
    "facet_column = 'category_column'\n",
    "\n",
    "# Create an empty list to store the scatterplot dataframes\n",
    "scatterplot_dfs = []"
   ]
  },
  {
   "cell_type": "code",
   "execution_count": 130,
   "id": "9a3efaaa-46fc-4197-b4a8-9088000becdd",
   "metadata": {
    "tags": []
   },
   "outputs": [
    {
     "ename": "KeyError",
     "evalue": "'category_column'",
     "output_type": "error",
     "traceback": [
      "\u001b[1;31m---------------------------------------------------------------------------\u001b[0m",
      "\u001b[1;31mKeyError\u001b[0m                                  Traceback (most recent call last)",
      "File \u001b[1;32m~\\AppData\\Local\\Packages\\PythonSoftwareFoundation.Python.3.9_qbz5n2kfra8p0\\LocalCache\\local-packages\\Python39\\site-packages\\pandas\\core\\indexes\\base.py:3621\u001b[0m, in \u001b[0;36mIndex.get_loc\u001b[1;34m(self, key, method, tolerance)\u001b[0m\n\u001b[0;32m   3620\u001b[0m \u001b[38;5;28;01mtry\u001b[39;00m:\n\u001b[1;32m-> 3621\u001b[0m     \u001b[38;5;28;01mreturn\u001b[39;00m \u001b[38;5;28;43mself\u001b[39;49m\u001b[38;5;241;43m.\u001b[39;49m\u001b[43m_engine\u001b[49m\u001b[38;5;241;43m.\u001b[39;49m\u001b[43mget_loc\u001b[49m\u001b[43m(\u001b[49m\u001b[43mcasted_key\u001b[49m\u001b[43m)\u001b[49m\n\u001b[0;32m   3622\u001b[0m \u001b[38;5;28;01mexcept\u001b[39;00m \u001b[38;5;167;01mKeyError\u001b[39;00m \u001b[38;5;28;01mas\u001b[39;00m err:\n",
      "File \u001b[1;32m~\\AppData\\Local\\Packages\\PythonSoftwareFoundation.Python.3.9_qbz5n2kfra8p0\\LocalCache\\local-packages\\Python39\\site-packages\\pandas\\_libs\\index.pyx:136\u001b[0m, in \u001b[0;36mpandas._libs.index.IndexEngine.get_loc\u001b[1;34m()\u001b[0m\n",
      "File \u001b[1;32m~\\AppData\\Local\\Packages\\PythonSoftwareFoundation.Python.3.9_qbz5n2kfra8p0\\LocalCache\\local-packages\\Python39\\site-packages\\pandas\\_libs\\index.pyx:163\u001b[0m, in \u001b[0;36mpandas._libs.index.IndexEngine.get_loc\u001b[1;34m()\u001b[0m\n",
      "File \u001b[1;32mpandas\\_libs\\hashtable_class_helper.pxi:5198\u001b[0m, in \u001b[0;36mpandas._libs.hashtable.PyObjectHashTable.get_item\u001b[1;34m()\u001b[0m\n",
      "File \u001b[1;32mpandas\\_libs\\hashtable_class_helper.pxi:5206\u001b[0m, in \u001b[0;36mpandas._libs.hashtable.PyObjectHashTable.get_item\u001b[1;34m()\u001b[0m\n",
      "\u001b[1;31mKeyError\u001b[0m: 'category_column'",
      "\nThe above exception was the direct cause of the following exception:\n",
      "\u001b[1;31mKeyError\u001b[0m                                  Traceback (most recent call last)",
      "Input \u001b[1;32mIn [130]\u001b[0m, in \u001b[0;36m<module>\u001b[1;34m\u001b[0m\n\u001b[0;32m      1\u001b[0m \u001b[38;5;28;01mfor\u001b[39;00m column \u001b[38;5;129;01min\u001b[39;00m cols_to_plot\u001b[38;5;241m.\u001b[39mcolumns:\n\u001b[1;32m----> 2\u001b[0m     g \u001b[38;5;241m=\u001b[39m \u001b[43msns\u001b[49m\u001b[38;5;241;43m.\u001b[39;49m\u001b[43mFacetGrid\u001b[49m\u001b[43m(\u001b[49m\u001b[43mdf\u001b[49m\u001b[43m,\u001b[49m\u001b[43m \u001b[49m\u001b[43mcol\u001b[49m\u001b[38;5;241;43m=\u001b[39;49m\u001b[43mfacet_column\u001b[49m\u001b[43m)\u001b[49m\n\u001b[0;32m      3\u001b[0m     g\u001b[38;5;241m.\u001b[39mmap(plt\u001b[38;5;241m.\u001b[39mscatter, columns[\u001b[38;5;241m0\u001b[39m], columns[\u001b[38;5;241m1\u001b[39m])\n\u001b[0;32m      4\u001b[0m     x \u001b[38;5;241m=\u001b[39m df[column]\n",
      "File \u001b[1;32m~\\AppData\\Local\\Packages\\PythonSoftwareFoundation.Python.3.9_qbz5n2kfra8p0\\LocalCache\\local-packages\\Python39\\site-packages\\seaborn\\_decorators.py:46\u001b[0m, in \u001b[0;36m_deprecate_positional_args.<locals>.inner_f\u001b[1;34m(*args, **kwargs)\u001b[0m\n\u001b[0;32m     36\u001b[0m     warnings\u001b[38;5;241m.\u001b[39mwarn(\n\u001b[0;32m     37\u001b[0m         \u001b[38;5;124m\"\u001b[39m\u001b[38;5;124mPass the following variable\u001b[39m\u001b[38;5;132;01m{}\u001b[39;00m\u001b[38;5;124m as \u001b[39m\u001b[38;5;132;01m{}\u001b[39;00m\u001b[38;5;124mkeyword arg\u001b[39m\u001b[38;5;132;01m{}\u001b[39;00m\u001b[38;5;124m: \u001b[39m\u001b[38;5;132;01m{}\u001b[39;00m\u001b[38;5;124m. \u001b[39m\u001b[38;5;124m\"\u001b[39m\n\u001b[0;32m     38\u001b[0m         \u001b[38;5;124m\"\u001b[39m\u001b[38;5;124mFrom version 0.12, the only valid positional argument \u001b[39m\u001b[38;5;124m\"\u001b[39m\n\u001b[1;32m   (...)\u001b[0m\n\u001b[0;32m     43\u001b[0m         \u001b[38;5;167;01mFutureWarning\u001b[39;00m\n\u001b[0;32m     44\u001b[0m     )\n\u001b[0;32m     45\u001b[0m kwargs\u001b[38;5;241m.\u001b[39mupdate({k: arg \u001b[38;5;28;01mfor\u001b[39;00m k, arg \u001b[38;5;129;01min\u001b[39;00m \u001b[38;5;28mzip\u001b[39m(sig\u001b[38;5;241m.\u001b[39mparameters, args)})\n\u001b[1;32m---> 46\u001b[0m \u001b[38;5;28;01mreturn\u001b[39;00m f(\u001b[38;5;241m*\u001b[39m\u001b[38;5;241m*\u001b[39mkwargs)\n",
      "File \u001b[1;32m~\\AppData\\Local\\Packages\\PythonSoftwareFoundation.Python.3.9_qbz5n2kfra8p0\\LocalCache\\local-packages\\Python39\\site-packages\\seaborn\\axisgrid.py:357\u001b[0m, in \u001b[0;36mFacetGrid.__init__\u001b[1;34m(self, data, row, col, hue, col_wrap, sharex, sharey, height, aspect, palette, row_order, col_order, hue_order, hue_kws, dropna, legend_out, despine, margin_titles, xlim, ylim, subplot_kws, gridspec_kws, size)\u001b[0m\n\u001b[0;32m    355\u001b[0m     col_names \u001b[38;5;241m=\u001b[39m []\n\u001b[0;32m    356\u001b[0m \u001b[38;5;28;01melse\u001b[39;00m:\n\u001b[1;32m--> 357\u001b[0m     col_names \u001b[38;5;241m=\u001b[39m categorical_order(\u001b[43mdata\u001b[49m\u001b[43m[\u001b[49m\u001b[43mcol\u001b[49m\u001b[43m]\u001b[49m, col_order)\n\u001b[0;32m    359\u001b[0m \u001b[38;5;66;03m# Additional dict of kwarg -> list of values for mapping the hue var\u001b[39;00m\n\u001b[0;32m    360\u001b[0m hue_kws \u001b[38;5;241m=\u001b[39m hue_kws \u001b[38;5;28;01mif\u001b[39;00m hue_kws \u001b[38;5;129;01mis\u001b[39;00m \u001b[38;5;129;01mnot\u001b[39;00m \u001b[38;5;28;01mNone\u001b[39;00m \u001b[38;5;28;01melse\u001b[39;00m {}\n",
      "File \u001b[1;32m~\\AppData\\Local\\Packages\\PythonSoftwareFoundation.Python.3.9_qbz5n2kfra8p0\\LocalCache\\local-packages\\Python39\\site-packages\\pandas\\core\\frame.py:3505\u001b[0m, in \u001b[0;36mDataFrame.__getitem__\u001b[1;34m(self, key)\u001b[0m\n\u001b[0;32m   3503\u001b[0m \u001b[38;5;28;01mif\u001b[39;00m \u001b[38;5;28mself\u001b[39m\u001b[38;5;241m.\u001b[39mcolumns\u001b[38;5;241m.\u001b[39mnlevels \u001b[38;5;241m>\u001b[39m \u001b[38;5;241m1\u001b[39m:\n\u001b[0;32m   3504\u001b[0m     \u001b[38;5;28;01mreturn\u001b[39;00m \u001b[38;5;28mself\u001b[39m\u001b[38;5;241m.\u001b[39m_getitem_multilevel(key)\n\u001b[1;32m-> 3505\u001b[0m indexer \u001b[38;5;241m=\u001b[39m \u001b[38;5;28;43mself\u001b[39;49m\u001b[38;5;241;43m.\u001b[39;49m\u001b[43mcolumns\u001b[49m\u001b[38;5;241;43m.\u001b[39;49m\u001b[43mget_loc\u001b[49m\u001b[43m(\u001b[49m\u001b[43mkey\u001b[49m\u001b[43m)\u001b[49m\n\u001b[0;32m   3506\u001b[0m \u001b[38;5;28;01mif\u001b[39;00m is_integer(indexer):\n\u001b[0;32m   3507\u001b[0m     indexer \u001b[38;5;241m=\u001b[39m [indexer]\n",
      "File \u001b[1;32m~\\AppData\\Local\\Packages\\PythonSoftwareFoundation.Python.3.9_qbz5n2kfra8p0\\LocalCache\\local-packages\\Python39\\site-packages\\pandas\\core\\indexes\\base.py:3623\u001b[0m, in \u001b[0;36mIndex.get_loc\u001b[1;34m(self, key, method, tolerance)\u001b[0m\n\u001b[0;32m   3621\u001b[0m     \u001b[38;5;28;01mreturn\u001b[39;00m \u001b[38;5;28mself\u001b[39m\u001b[38;5;241m.\u001b[39m_engine\u001b[38;5;241m.\u001b[39mget_loc(casted_key)\n\u001b[0;32m   3622\u001b[0m \u001b[38;5;28;01mexcept\u001b[39;00m \u001b[38;5;167;01mKeyError\u001b[39;00m \u001b[38;5;28;01mas\u001b[39;00m err:\n\u001b[1;32m-> 3623\u001b[0m     \u001b[38;5;28;01mraise\u001b[39;00m \u001b[38;5;167;01mKeyError\u001b[39;00m(key) \u001b[38;5;28;01mfrom\u001b[39;00m \u001b[38;5;21;01merr\u001b[39;00m\n\u001b[0;32m   3624\u001b[0m \u001b[38;5;28;01mexcept\u001b[39;00m \u001b[38;5;167;01mTypeError\u001b[39;00m:\n\u001b[0;32m   3625\u001b[0m     \u001b[38;5;66;03m# If we have a listlike key, _check_indexing_error will raise\u001b[39;00m\n\u001b[0;32m   3626\u001b[0m     \u001b[38;5;66;03m#  InvalidIndexError. Otherwise we fall through and re-raise\u001b[39;00m\n\u001b[0;32m   3627\u001b[0m     \u001b[38;5;66;03m#  the TypeError.\u001b[39;00m\n\u001b[0;32m   3628\u001b[0m     \u001b[38;5;28mself\u001b[39m\u001b[38;5;241m.\u001b[39m_check_indexing_error(key)\n",
      "\u001b[1;31mKeyError\u001b[0m: 'category_column'"
     ]
    }
   ],
   "source": [
    "for column in cols_to_plot.columns:\n",
    "    #g = sns.FacetGrid(df, col=facet_column)\n",
    "    #g.map(plt.scatter, columns[0], columns[1])\n",
    "    x = df[column]\n",
    "    plt.scatter(x, y)\n",
    "    plt.xlabel(column)\n",
    "    plt.ylabel('Total Carbon Footprint (tCO2/yr)')\n",
    "    plt.title('Total Carbon Footprint vs ' + column)\n",
    "    # Get the scatterplot data for the current column pair and add it to the list\n",
    "    #scatterplot_dfs.append(df[[facet_column, columns[0], columns[1]]])\n",
    "    #plt.show\n",
    "# Concatenate the scatterplot dataframes into a single dataframe\n",
    "#scatterplot_df = pd.concat(scatterplot_dfs)\n",
    "\n",
    "# Save the concatenated dataframe to a CSV file\n",
    "#scatterplot_df.to_csv('scatterplots.csv', index=False) "
   ]
  },
  {
   "cell_type": "code",
   "execution_count": 120,
   "id": "1ac4c7e8-7067-4e4c-acbc-bd706dbe1722",
   "metadata": {},
   "outputs": [
    {
     "data": {
      "image/png": "[encoded data removed]",
      "text/plain": [
       "<Figure size 432x288 with 1 Axes>"
      ]
     },
     "metadata": {
      "needs_background": "light"
     },
     "output_type": "display_data"
    }
   ],
   "source": [
    "for column in cols_to_plot.columns:\n",
    "    x = df[column]\n",
    "    plt.hist(x)\n",
    "    plt.xlabel(column)"
   ]
  },
  {
   "cell_type": "code",
   "execution_count": null,
   "id": "1d914d35-d737-40ed-88e7-334e396c7182",
   "metadata": {},
   "outputs": [],
   "source": []
  },
  {
   "cell_type": "code",
   "execution_count": null,
   "id": "82ba1d16-6e6a-404a-ab09-861a3e4925da",
   "metadata": {},
   "outputs": [],
   "source": []
  },
  {
   "cell_type": "code",
   "execution_count": null,
   "id": "391ef1d3-2cae-459d-99ca-43cabc8b86e5",
   "metadata": {},
   "outputs": [],
   "source": []
  }
 ],
 "metadata": {
  "kernelspec": {
   "display_name": "Python 3 (ipykernel)",
   "language": "python",
   "name": "python3"
  },
  "language_info": {
   "codemirror_mode": {
    "name": "ipython",
    "version": 3
   },
   "file_extension": ".py",
   "mimetype": "text/x-python",
   "name": "python",
   "nbconvert_exporter": "python",
   "pygments_lexer": "ipython3",
   "version": "3.9.13"
  }
 },
 "nbformat": 4,
 "nbformat_minor": 5
}
