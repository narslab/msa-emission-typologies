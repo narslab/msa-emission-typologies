{
 "cells": [
  {
   "cell_type": "code",
   "execution_count": 28,
   "id": "a28a74b7-4597-40b7-9a1e-5ef8aa104b6f",
   "metadata": {},
   "outputs": [],
   "source": [
    "import networkx as nx\n",
    "import cenpy\n",
    "import osmnx as ox\n",
    "import matplotlib.pyplot as plt\n",
    "import pandas as pd\n",
    "import geopandas as gpd\n",
    "import numpy as np\n",
    "import time\n",
    "from datetime import timedelta\n",
    "import os"
   ]
  },
  {
   "cell_type": "code",
   "execution_count": 3,
   "id": "7c7fc3f5-4d0c-483f-9438-67bbdec9b64c",
   "metadata": {},
   "outputs": [],
   "source": [
    "# https://stackoverflow.com/a/4676482/3023033\n",
    "def flatten(TheList):\n",
    "    listIsNested = True\n",
    "\n",
    "    while listIsNested:                 #outer loop\n",
    "        keepChecking = False\n",
    "        Temp = []\n",
    "\n",
    "        for element in TheList:         #inner loop\n",
    "            if isinstance(element,list):\n",
    "                Temp.extend(element)\n",
    "                keepChecking = True\n",
    "            else:\n",
    "                Temp.append(element)\n",
    "\n",
    "        listIsNested = keepChecking     #determine if outer loop exits\n",
    "        TheList = Temp[:]\n",
    "\n",
    "    return TheList"
   ]
  },
  {
   "cell_type": "code",
   "execution_count": 11,
   "id": "22eac8be-c953-45bf-bc2d-bfa1a134a1d1",
   "metadata": {
    "tags": []
   },
   "outputs": [],
   "source": [
    "def get_msa_municipality_list_df(save=True):\n",
    "    msa_df = pd.read_csv('../Data/Raw/metrolist.csv', engine='python', header=None, skipfooter=5)\n",
    "    for i in range(len(msa_df[[3]])):\n",
    "        if '+' in msa_df.iloc[i,3]:\n",
    "            names = msa_df.iloc[i,3].split(' ')\n",
    "            state = ', ' + names[-1]\n",
    "            if names[0] == 'Fairfax,':\n",
    "                county = names[0][:-1] + ' County' + state\n",
    "                city_1 = names[1] + state           \n",
    "                city_2 = names[4] + ' ' + names[5][:-1] + state\n",
    "                county_city_list = [county, city_1, city_2]            \n",
    "            elif names[0] == 'Prince':\n",
    "                if names[1] == 'William,':\n",
    "                    county = names[0] + ' ' + names[1][:-1] + ' County' + state\n",
    "                    city_1 = names[2] + state\n",
    "                    city_2 = names[4] + ' ' + names[5][:-1] + state\n",
    "                    county_city_list = [county, city_1, city_2]\n",
    "                else:\n",
    "                    county = names[0] + ' ' + names[1] + ' County' + state\n",
    "                    city = names[3][:-1] + state\n",
    "                    county_city_list = [county, city]\n",
    "            elif names[0] == 'James':\n",
    "                county = names[0] + ' ' + names[1] + ' County' + state\n",
    "                city = names[3] + state\n",
    "                county_city_list = [county, city]\n",
    "            elif names[0] == 'Dinwiddie,':\n",
    "                county = names[0][:-1] + ' County' + state\n",
    "                city_1 = names[1] + ' ' + names[2] + state\n",
    "                city_2 = names[4][:-1] +  state       \n",
    "                county_city_list = [county, city_1, city_2]   \n",
    "            elif names[0] == 'Augusta,':\n",
    "                county = names[0][:-1] + ' County' + state\n",
    "                city_1 = names[1] + state\n",
    "                city_2 = names[3][:-1] +  state       \n",
    "                county_city_list = [county, city_1, city_2]    \n",
    "            elif names[0] == 'Maui':\n",
    "                county_1 = names[0] + ' County' + state\n",
    "                county_2 = names[2][:-1] + ' County' + state\n",
    "                county_city_list = [county_1, county_2]               \n",
    "            else:\n",
    "                county = names[0] + ' County' + state\n",
    "                city = names[2][:-1] + state\n",
    "                county_city_list = [county, city]\n",
    "            msa_df.at[i,3] = county_city_list #[county, city]\n",
    "            # print(i, msa_df.iloc[i,3])\n",
    "        elif '(Independent City)' in msa_df.iloc[i,3]:\n",
    "            msa_df.at[i,3] = msa_df.iloc[i,3].replace(' (Independent City),',\",\")\n",
    "            # print(i, msa_df.iloc[i,3])\n",
    "        else:\n",
    "            msa_df.at[i,3] = msa_df.iloc[i,3].replace(',', \" County,\")\n",
    "            # print(i, msa_df.iloc[i,3])\n",
    "    msa_muni_df = pd.DataFrame(columns=['municipality'])\n",
    "    msa_list = msa_df[1].unique()\n",
    "    for msa in msa_list:\n",
    "        msa_muni_df.at[msa, 'municipality'] = flatten(msa_df.loc[msa_df[1]==msa,3].to_list())\n",
    "    msa_muni_df.index.name = 'msa'    \n",
    "    msa_muni_df.index = msa_muni_df.index.str.replace(\" (Metropolitan Statistical Area)\",\"\", regex=False)\n",
    "    if save:\n",
    "        msa_df.to_csv('../Data/Tidy/metrolist.csv')        \n",
    "        msa_muni_df.to_csv('../Data/Tidy/msa-municipality.csv')\n",
    "    return msa_muni_df"
   ]
  },
  {
   "cell_type": "code",
   "execution_count": 34,
   "id": "e280ef66-3a34-4cc1-94e4-cde1281d0c87",
   "metadata": {},
   "outputs": [],
   "source": [
    "def get_msa_network_stats(df, save=True):\n",
    "    for msa in df.index[:2]:\n",
    "        try:\n",
    "            print ('processing '+ msa)\n",
    "            munis = df.loc[msa,'municipality']\n",
    "            print('Municipalities: ', munis)\n",
    "            graph = ox.graph_from_place(munis, network_type='drive')            \n",
    "            gdf = ox.geocode_to_gdf(munis) \n",
    "            msa_crs = gdf.estimate_utm_crs()\n",
    "            msa_area = gdf.to_crs(crs=msa_crs).area.sum() #in square meters\n",
    "            bldgs = ox.geometries_from_place(munis, tags={'building':True}) # Retrieve buildings from the area:\n",
    "            bldgs = bldgs.iloc[bldgs.index.get_level_values('element_type')=='way']['geometry']\n",
    "            bld_area = bldgs.to_crs(crs=msa_crs).area.sum()\n",
    "            print ('calculating ' + msa +' stats')\n",
    "            stats = ox.basic_stats(graph, area=msa_area) #, clean_int_tol=15)\n",
    "    #        exten = ox.extended_stats(G,  connectivity=False, anc=False, ecc=True, bc=True, cc=True)\n",
    "    #        for key, value in exten.items():\n",
    "    #            stats[key] = value\n",
    "            stats = pd.Series(stats)\n",
    "            del stats['streets_per_node_counts']\n",
    "            del stats['streets_per_node_proportions']            \n",
    "            statsDF = pd.DataFrame(stats)\n",
    "            statsDF=statsDF.T\n",
    "            statsDF.insert(0, 'msa', [msa])\n",
    "            statsDF['builing_area_sqkm'] = bld_area/1e6\n",
    "            statsDF['area_sqkm'] = msa_area/1e6\n",
    "            output_file = 'msa-network-stats.csv'\n",
    "            statsDF.to_csv(output_file, mode='a', header=not os.path.exists(output_file), index=False)\n",
    "            if save:\n",
    "                print ('saving ' + msa)                \n",
    "                name= '../Data/Tidy/graphs/' + msa + '.graphml'\n",
    "                ox.save_graphml(graph, name)\n",
    "            #fig, ax = ox.plot_graph(graph, node_size=0, edge_linewidth=0.2, show=False, save=True, filename=city, file_format='png')\n",
    "        except Exception as e:\n",
    "            print(e)\n",
    "            print (msa + ' skipped')\n",
    "    return"
   ]
  },
  {
   "cell_type": "code",
   "execution_count": 35,
   "id": "f5045eae-a0f2-4689-81b5-fe46faeabd10",
   "metadata": {
    "tags": []
   },
   "outputs": [
    {
     "name": "stdout",
     "output_type": "stream",
     "text": [
      "processing Abilene, TX\n",
      "Municipalities:  ['Callahan County, TX', 'Jones County, TX', 'Taylor County, TX']\n"
     ]
    },
    {
     "name": "stderr",
     "output_type": "stream",
     "text": [
      "/home/jbo/.local/lib/python3.10/site-packages/osmnx/geometries.py:805: ShapelyDeprecationWarning: __len__ for multi-part geometries is deprecated and will be removed in Shapely 2.0. Check the length of the `geoms` property instead to get the  number of parts of a multi-part geometry.\n",
      "  for merged_outer_linestring in list(merged_outer_linestrings):\n",
      "/home/jbo/.local/lib/python3.10/site-packages/osmnx/geometries.py:805: ShapelyDeprecationWarning: Iteration over multi-part geometries is deprecated and will be removed in Shapely 2.0. Use the `geoms` property to access the constituent parts of a multi-part geometry.\n",
      "  for merged_outer_linestring in list(merged_outer_linestrings):\n"
     ]
    },
    {
     "name": "stdout",
     "output_type": "stream",
     "text": [
      "calculating Abilene, TX stats\n",
      "savingAbilene, TX\n",
      "processing Akron, OH\n",
      "Municipalities:  ['Portage County, OH', 'Summit County, OH']\n"
     ]
    },
    {
     "name": "stderr",
     "output_type": "stream",
     "text": [
      "/home/jbo/.local/lib/python3.10/site-packages/osmnx/geometries.py:805: ShapelyDeprecationWarning: __len__ for multi-part geometries is deprecated and will be removed in Shapely 2.0. Check the length of the `geoms` property instead to get the  number of parts of a multi-part geometry.\n",
      "  for merged_outer_linestring in list(merged_outer_linestrings):\n",
      "/home/jbo/.local/lib/python3.10/site-packages/osmnx/geometries.py:805: ShapelyDeprecationWarning: Iteration over multi-part geometries is deprecated and will be removed in Shapely 2.0. Use the `geoms` property to access the constituent parts of a multi-part geometry.\n",
      "  for merged_outer_linestring in list(merged_outer_linestrings):\n"
     ]
    },
    {
     "name": "stdout",
     "output_type": "stream",
     "text": [
      "calculating Akron, OH stats\n",
      "savingAkron, OH\n",
      "Network stats completed in (h/m/s/ms): 0:02:02.709353\n"
     ]
    }
   ],
   "source": [
    "if __name__ == \"__main__\":\n",
    "    start = time.time()\n",
    "    df = get_msa_municipality_list_df(True)\n",
    "    get_msa_network_stats(df)\n",
    "    elapsed = (time.time() - start)\n",
    "    print(\"Network stats completed in (h/m/s/ms):\", str(timedelta(seconds=elapsed)))"
   ]
  }
 ],
 "metadata": {
  "kernelspec": {
   "display_name": "Python 3 (ipykernel)",
   "language": "python",
   "name": "python3"
  },
  "language_info": {
   "codemirror_mode": {
    "name": "ipython",
    "version": 3
   },
   "file_extension": ".py",
   "mimetype": "text/x-python",
   "name": "python",
   "nbconvert_exporter": "python",
   "pygments_lexer": "ipython3",
   "version": "3.9.13"
  }
 },
 "nbformat": 4,
 "nbformat_minor": 5
}
