{
 "cells": [
  {
   "cell_type": "code",
   "execution_count": 1,
   "id": "a92df57c-9f81-4813-8b66-cd71b0bb9c1f",
   "metadata": {},
   "outputs": [],
   "source": [
    "import pandas as pd\n",
    "import numpy as np\n",
    "import matplotlib.pyplot as plt"
   ]
  },
  {
   "cell_type": "code",
   "execution_count": 2,
   "id": "bad12846-1d4c-4a48-87af-5769da7fa3b4",
   "metadata": {},
   "outputs": [],
   "source": [
    "### Data input\n",
    "\n",
    "inc_df = pd.read_csv('../../data/raw/ACSST5Y2014.S1903-Data.csv', skiprows = 1) # median income"
   ]
  },
  {
   "cell_type": "code",
   "execution_count": 3,
   "id": "746f5a26-0e9b-4ed7-81f3-4f8358d2a5bc",
   "metadata": {},
   "outputs": [
    {
     "data": {
      "text/plain": [
       "930"
      ]
     },
     "execution_count": 3,
     "metadata": {},
     "output_type": "execute_result"
    }
   ],
   "source": [
    "len(inc_df)"
   ]
  },
  {
   "cell_type": "code",
   "execution_count": 4,
   "id": "3b20e825-c376-432c-abd6-7584d65cb6a0",
   "metadata": {
    "tags": []
   },
   "outputs": [
    {
     "data": {
      "text/plain": [
       "Index(['Geography', 'Geographic Area Name', 'Total!!Estimate!!Households',\n",
       "       'Annotation of Total!!Estimate!!Households',\n",
       "       'Total!!Margin of Error!!Households',\n",
       "       'Annotation of Total!!Margin of Error!!Households',\n",
       "       'Median income (dollars)!!Estimate!!Households',\n",
       "       'Median income (dollars)!!Margin of Error!!Households',\n",
       "       'Annotation of Median income (dollars)!!Margin of Error!!Households',\n",
       "       'Annotation of Median income (dollars)!!Estimate!!Households',\n",
       "       ...\n",
       "       'Annotation of Median income (dollars)!!Margin of Error!!PERCENT IMPUTED!!Family income in the past 12 months',\n",
       "       'Total!!Estimate!!PERCENT IMPUTED!!Nonfamily income in the past 12 months',\n",
       "       'Total!!Margin of Error!!PERCENT IMPUTED!!Nonfamily income in the past 12 months',\n",
       "       'Annotation of Total!!Margin of Error!!PERCENT IMPUTED!!Nonfamily income in the past 12 months',\n",
       "       'Annotation of Total!!Estimate!!PERCENT IMPUTED!!Nonfamily income in the past 12 months',\n",
       "       'Median income (dollars)!!Estimate!!PERCENT IMPUTED!!Nonfamily income in the past 12 months',\n",
       "       'Annotation of Median income (dollars)!!Estimate!!PERCENT IMPUTED!!Nonfamily income in the past 12 months',\n",
       "       'Median income (dollars)!!Margin of Error!!PERCENT IMPUTED!!Nonfamily income in the past 12 months',\n",
       "       'Annotation of Median income (dollars)!!Margin of Error!!PERCENT IMPUTED!!Nonfamily income in the past 12 months',\n",
       "       'Unnamed: 242'],\n",
       "      dtype='object', length=243)"
      ]
     },
     "execution_count": 4,
     "metadata": {},
     "output_type": "execute_result"
    }
   ],
   "source": [
    "inc_df.columns"
   ]
  },
  {
   "cell_type": "code",
   "execution_count": 5,
   "id": "d029ab60-c52d-4f3d-96b3-afc2c9db06dc",
   "metadata": {
    "tags": []
   },
   "outputs": [
    {
     "data": {
      "text/html": [
       "<div>\n",
       "<style scoped>\n",
       "    .dataframe tbody tr th:only-of-type {\n",
       "        vertical-align: middle;\n",
       "    }\n",
       "\n",
       "    .dataframe tbody tr th {\n",
       "        vertical-align: top;\n",
       "    }\n",
       "\n",
       "    .dataframe thead th {\n",
       "        text-align: right;\n",
       "    }\n",
       "</style>\n",
       "<table border=\"1\" class=\"dataframe\">\n",
       "  <thead>\n",
       "    <tr style=\"text-align: right;\">\n",
       "      <th></th>\n",
       "      <th>Geography</th>\n",
       "      <th>Geographic Area Name</th>\n",
       "      <th>Total!!Estimate!!Households</th>\n",
       "      <th>Annotation of Total!!Estimate!!Households</th>\n",
       "      <th>Total!!Margin of Error!!Households</th>\n",
       "      <th>Annotation of Total!!Margin of Error!!Households</th>\n",
       "      <th>Median income (dollars)!!Estimate!!Households</th>\n",
       "      <th>Median income (dollars)!!Margin of Error!!Households</th>\n",
       "      <th>Annotation of Median income (dollars)!!Margin of Error!!Households</th>\n",
       "      <th>Annotation of Median income (dollars)!!Estimate!!Households</th>\n",
       "      <th>...</th>\n",
       "      <th>Annotation of Median income (dollars)!!Margin of Error!!PERCENT IMPUTED!!Family income in the past 12 months</th>\n",
       "      <th>Total!!Estimate!!PERCENT IMPUTED!!Nonfamily income in the past 12 months</th>\n",
       "      <th>Total!!Margin of Error!!PERCENT IMPUTED!!Nonfamily income in the past 12 months</th>\n",
       "      <th>Annotation of Total!!Margin of Error!!PERCENT IMPUTED!!Nonfamily income in the past 12 months</th>\n",
       "      <th>Annotation of Total!!Estimate!!PERCENT IMPUTED!!Nonfamily income in the past 12 months</th>\n",
       "      <th>Median income (dollars)!!Estimate!!PERCENT IMPUTED!!Nonfamily income in the past 12 months</th>\n",
       "      <th>Annotation of Median income (dollars)!!Estimate!!PERCENT IMPUTED!!Nonfamily income in the past 12 months</th>\n",
       "      <th>Median income (dollars)!!Margin of Error!!PERCENT IMPUTED!!Nonfamily income in the past 12 months</th>\n",
       "      <th>Annotation of Median income (dollars)!!Margin of Error!!PERCENT IMPUTED!!Nonfamily income in the past 12 months</th>\n",
       "      <th>Unnamed: 242</th>\n",
       "    </tr>\n",
       "  </thead>\n",
       "  <tbody>\n",
       "    <tr>\n",
       "      <th>0</th>\n",
       "      <td>0100000US</td>\n",
       "      <td>United States</td>\n",
       "      <td>116211092</td>\n",
       "      <td>NaN</td>\n",
       "      <td>230463</td>\n",
       "      <td>NaN</td>\n",
       "      <td>53482</td>\n",
       "      <td>95</td>\n",
       "      <td>NaN</td>\n",
       "      <td>NaN</td>\n",
       "      <td>...</td>\n",
       "      <td>(X)</td>\n",
       "      <td>27.2</td>\n",
       "      <td>(X)</td>\n",
       "      <td>(X)</td>\n",
       "      <td>NaN</td>\n",
       "      <td>(X)</td>\n",
       "      <td>(X)</td>\n",
       "      <td>(X)</td>\n",
       "      <td>(X)</td>\n",
       "      <td>NaN</td>\n",
       "    </tr>\n",
       "    <tr>\n",
       "      <th>1</th>\n",
       "      <td>310M200US10100</td>\n",
       "      <td>Aberdeen, SD Micro Area</td>\n",
       "      <td>17383</td>\n",
       "      <td>NaN</td>\n",
       "      <td>313</td>\n",
       "      <td>NaN</td>\n",
       "      <td>52641</td>\n",
       "      <td>1641</td>\n",
       "      <td>NaN</td>\n",
       "      <td>NaN</td>\n",
       "      <td>...</td>\n",
       "      <td>(X)</td>\n",
       "      <td>25.4</td>\n",
       "      <td>(X)</td>\n",
       "      <td>(X)</td>\n",
       "      <td>NaN</td>\n",
       "      <td>(X)</td>\n",
       "      <td>(X)</td>\n",
       "      <td>(X)</td>\n",
       "      <td>(X)</td>\n",
       "      <td>NaN</td>\n",
       "    </tr>\n",
       "    <tr>\n",
       "      <th>2</th>\n",
       "      <td>310M200US10140</td>\n",
       "      <td>Aberdeen, WA Micro Area</td>\n",
       "      <td>27318</td>\n",
       "      <td>NaN</td>\n",
       "      <td>632</td>\n",
       "      <td>NaN</td>\n",
       "      <td>43379</td>\n",
       "      <td>1453</td>\n",
       "      <td>NaN</td>\n",
       "      <td>NaN</td>\n",
       "      <td>...</td>\n",
       "      <td>(X)</td>\n",
       "      <td>26.3</td>\n",
       "      <td>(X)</td>\n",
       "      <td>(X)</td>\n",
       "      <td>NaN</td>\n",
       "      <td>(X)</td>\n",
       "      <td>(X)</td>\n",
       "      <td>(X)</td>\n",
       "      <td>(X)</td>\n",
       "      <td>NaN</td>\n",
       "    </tr>\n",
       "    <tr>\n",
       "      <th>3</th>\n",
       "      <td>310M200US10180</td>\n",
       "      <td>Abilene, TX Metro Area</td>\n",
       "      <td>60343</td>\n",
       "      <td>NaN</td>\n",
       "      <td>1258</td>\n",
       "      <td>NaN</td>\n",
       "      <td>44249</td>\n",
       "      <td>1218</td>\n",
       "      <td>NaN</td>\n",
       "      <td>NaN</td>\n",
       "      <td>...</td>\n",
       "      <td>(X)</td>\n",
       "      <td>28.8</td>\n",
       "      <td>(X)</td>\n",
       "      <td>(X)</td>\n",
       "      <td>NaN</td>\n",
       "      <td>(X)</td>\n",
       "      <td>(X)</td>\n",
       "      <td>(X)</td>\n",
       "      <td>(X)</td>\n",
       "      <td>NaN</td>\n",
       "    </tr>\n",
       "    <tr>\n",
       "      <th>4</th>\n",
       "      <td>310M200US10220</td>\n",
       "      <td>Ada, OK Micro Area</td>\n",
       "      <td>14650</td>\n",
       "      <td>NaN</td>\n",
       "      <td>212</td>\n",
       "      <td>NaN</td>\n",
       "      <td>42566</td>\n",
       "      <td>1648</td>\n",
       "      <td>NaN</td>\n",
       "      <td>NaN</td>\n",
       "      <td>...</td>\n",
       "      <td>(X)</td>\n",
       "      <td>38.8</td>\n",
       "      <td>(X)</td>\n",
       "      <td>(X)</td>\n",
       "      <td>NaN</td>\n",
       "      <td>(X)</td>\n",
       "      <td>(X)</td>\n",
       "      <td>(X)</td>\n",
       "      <td>(X)</td>\n",
       "      <td>NaN</td>\n",
       "    </tr>\n",
       "  </tbody>\n",
       "</table>\n",
       "<p>5 rows × 243 columns</p>\n",
       "</div>"
      ],
      "text/plain": [
       "        Geography     Geographic Area Name  Total!!Estimate!!Households  \\\n",
       "0       0100000US            United States                    116211092   \n",
       "1  310M200US10100  Aberdeen, SD Micro Area                        17383   \n",
       "2  310M200US10140  Aberdeen, WA Micro Area                        27318   \n",
       "3  310M200US10180   Abilene, TX Metro Area                        60343   \n",
       "4  310M200US10220       Ada, OK Micro Area                        14650   \n",
       "\n",
       "   Annotation of Total!!Estimate!!Households  \\\n",
       "0                                        NaN   \n",
       "1                                        NaN   \n",
       "2                                        NaN   \n",
       "3                                        NaN   \n",
       "4                                        NaN   \n",
       "\n",
       "   Total!!Margin of Error!!Households  \\\n",
       "0                              230463   \n",
       "1                                 313   \n",
       "2                                 632   \n",
       "3                                1258   \n",
       "4                                 212   \n",
       "\n",
       "   Annotation of Total!!Margin of Error!!Households  \\\n",
       "0                                               NaN   \n",
       "1                                               NaN   \n",
       "2                                               NaN   \n",
       "3                                               NaN   \n",
       "4                                               NaN   \n",
       "\n",
       "   Median income (dollars)!!Estimate!!Households  \\\n",
       "0                                          53482   \n",
       "1                                          52641   \n",
       "2                                          43379   \n",
       "3                                          44249   \n",
       "4                                          42566   \n",
       "\n",
       "   Median income (dollars)!!Margin of Error!!Households  \\\n",
       "0                                                 95      \n",
       "1                                               1641      \n",
       "2                                               1453      \n",
       "3                                               1218      \n",
       "4                                               1648      \n",
       "\n",
       "   Annotation of Median income (dollars)!!Margin of Error!!Households  \\\n",
       "0                                                NaN                    \n",
       "1                                                NaN                    \n",
       "2                                                NaN                    \n",
       "3                                                NaN                    \n",
       "4                                                NaN                    \n",
       "\n",
       "   Annotation of Median income (dollars)!!Estimate!!Households  ...  \\\n",
       "0                                                NaN            ...   \n",
       "1                                                NaN            ...   \n",
       "2                                                NaN            ...   \n",
       "3                                                NaN            ...   \n",
       "4                                                NaN            ...   \n",
       "\n",
       "   Annotation of Median income (dollars)!!Margin of Error!!PERCENT IMPUTED!!Family income in the past 12 months  \\\n",
       "0                                                (X)                                                              \n",
       "1                                                (X)                                                              \n",
       "2                                                (X)                                                              \n",
       "3                                                (X)                                                              \n",
       "4                                                (X)                                                              \n",
       "\n",
       "   Total!!Estimate!!PERCENT IMPUTED!!Nonfamily income in the past 12 months  \\\n",
       "0                                               27.2                          \n",
       "1                                               25.4                          \n",
       "2                                               26.3                          \n",
       "3                                               28.8                          \n",
       "4                                               38.8                          \n",
       "\n",
       "   Total!!Margin of Error!!PERCENT IMPUTED!!Nonfamily income in the past 12 months  \\\n",
       "0                                                (X)                                 \n",
       "1                                                (X)                                 \n",
       "2                                                (X)                                 \n",
       "3                                                (X)                                 \n",
       "4                                                (X)                                 \n",
       "\n",
       "   Annotation of Total!!Margin of Error!!PERCENT IMPUTED!!Nonfamily income in the past 12 months  \\\n",
       "0                                                (X)                                               \n",
       "1                                                (X)                                               \n",
       "2                                                (X)                                               \n",
       "3                                                (X)                                               \n",
       "4                                                (X)                                               \n",
       "\n",
       "   Annotation of Total!!Estimate!!PERCENT IMPUTED!!Nonfamily income in the past 12 months  \\\n",
       "0                                                NaN                                        \n",
       "1                                                NaN                                        \n",
       "2                                                NaN                                        \n",
       "3                                                NaN                                        \n",
       "4                                                NaN                                        \n",
       "\n",
       "   Median income (dollars)!!Estimate!!PERCENT IMPUTED!!Nonfamily income in the past 12 months  \\\n",
       "0                                                (X)                                            \n",
       "1                                                (X)                                            \n",
       "2                                                (X)                                            \n",
       "3                                                (X)                                            \n",
       "4                                                (X)                                            \n",
       "\n",
       "   Annotation of Median income (dollars)!!Estimate!!PERCENT IMPUTED!!Nonfamily income in the past 12 months  \\\n",
       "0                                                (X)                                                          \n",
       "1                                                (X)                                                          \n",
       "2                                                (X)                                                          \n",
       "3                                                (X)                                                          \n",
       "4                                                (X)                                                          \n",
       "\n",
       "   Median income (dollars)!!Margin of Error!!PERCENT IMPUTED!!Nonfamily income in the past 12 months  \\\n",
       "0                                                (X)                                                   \n",
       "1                                                (X)                                                   \n",
       "2                                                (X)                                                   \n",
       "3                                                (X)                                                   \n",
       "4                                                (X)                                                   \n",
       "\n",
       "   Annotation of Median income (dollars)!!Margin of Error!!PERCENT IMPUTED!!Nonfamily income in the past 12 months  \\\n",
       "0                                                (X)                                                                 \n",
       "1                                                (X)                                                                 \n",
       "2                                                (X)                                                                 \n",
       "3                                                (X)                                                                 \n",
       "4                                                (X)                                                                 \n",
       "\n",
       "   Unnamed: 242  \n",
       "0           NaN  \n",
       "1           NaN  \n",
       "2           NaN  \n",
       "3           NaN  \n",
       "4           NaN  \n",
       "\n",
       "[5 rows x 243 columns]"
      ]
     },
     "execution_count": 5,
     "metadata": {},
     "output_type": "execute_result"
    }
   ],
   "source": [
    "inc_df.head()"
   ]
  },
  {
   "cell_type": "code",
   "execution_count": 6,
   "id": "8c36c8bb-e7be-4a90-940c-ba0529f575e2",
   "metadata": {},
   "outputs": [
    {
     "data": {
      "text/plain": [
       "['Geographic Area Name',\n",
       " 'Total!!Estimate!!Households',\n",
       " 'Median income (dollars)!!Estimate!!Households']"
      ]
     },
     "execution_count": 6,
     "metadata": {},
     "output_type": "execute_result"
    }
   ],
   "source": [
    "#pop_df.loc[: , (pop_df != 'Margin of Error').all()]\n",
    "filtered_cols = [col for col in inc_df.columns if 'Margin of Error' not in col]\n",
    "filtered_cols = [col for col in filtered_cols if 'Mean' not in col]\n",
    "filtered_cols = [col for col in filtered_cols if 'id' not in col]\n",
    "filtered_cols = [col for col in filtered_cols if 'Percent' not in col]\n",
    "filtered_cols = [col for col in filtered_cols if 'PERCENT' not in col]\n",
    "filtered_cols = [col for col in filtered_cols if 'Number' not in col]\n",
    "filtered_cols = [col for col in filtered_cols if 'Annotation' not in col]\n",
    "filtered_cols = [col for col in filtered_cols if 'White' not in col]\n",
    "filtered_cols = [col for col in filtered_cols if 'race' not in col]\n",
    "filtered_cols = [col for col in filtered_cols if 'Female' not in col]\n",
    "filtered_cols = [col for col in filtered_cols if 'Male' not in col]\n",
    "filtered_cols = [col for col in filtered_cols if 'Families' not in col]\n",
    "filtered_cols = [col for col in filtered_cols if 'Nonfamily' not in col]\n",
    "filtered_cols = [col for col in filtered_cols if 'Unnamed' not in col]\n",
    "filtered_cols = [col for col in filtered_cols if 'Geography' not in col]\n",
    "filtered_cols = [col for col in filtered_cols if 'AGE' not in col]\n",
    "#filtered_cols = [col for col in filtered_cols if 'Annotation' in col]\n",
    "filtered_cols"
   ]
  },
  {
   "cell_type": "code",
   "execution_count": 7,
   "id": "33d45170-f481-46c7-ab00-d38366021f32",
   "metadata": {},
   "outputs": [],
   "source": [
    "inc_df = inc_df.filter(filtered_cols)"
   ]
  },
  {
   "cell_type": "code",
   "execution_count": 8,
   "id": "2effc785-9341-459b-a88e-51ad48525eb9",
   "metadata": {},
   "outputs": [
    {
     "data": {
      "text/html": [
       "<div>\n",
       "<style scoped>\n",
       "    .dataframe tbody tr th:only-of-type {\n",
       "        vertical-align: middle;\n",
       "    }\n",
       "\n",
       "    .dataframe tbody tr th {\n",
       "        vertical-align: top;\n",
       "    }\n",
       "\n",
       "    .dataframe thead th {\n",
       "        text-align: right;\n",
       "    }\n",
       "</style>\n",
       "<table border=\"1\" class=\"dataframe\">\n",
       "  <thead>\n",
       "    <tr style=\"text-align: right;\">\n",
       "      <th></th>\n",
       "      <th>Geographic Area Name</th>\n",
       "      <th>Total!!Estimate!!Households</th>\n",
       "      <th>Median income (dollars)!!Estimate!!Households</th>\n",
       "    </tr>\n",
       "  </thead>\n",
       "  <tbody>\n",
       "    <tr>\n",
       "      <th>0</th>\n",
       "      <td>United States</td>\n",
       "      <td>116211092</td>\n",
       "      <td>53482</td>\n",
       "    </tr>\n",
       "    <tr>\n",
       "      <th>1</th>\n",
       "      <td>Aberdeen, SD Micro Area</td>\n",
       "      <td>17383</td>\n",
       "      <td>52641</td>\n",
       "    </tr>\n",
       "    <tr>\n",
       "      <th>2</th>\n",
       "      <td>Aberdeen, WA Micro Area</td>\n",
       "      <td>27318</td>\n",
       "      <td>43379</td>\n",
       "    </tr>\n",
       "    <tr>\n",
       "      <th>3</th>\n",
       "      <td>Abilene, TX Metro Area</td>\n",
       "      <td>60343</td>\n",
       "      <td>44249</td>\n",
       "    </tr>\n",
       "    <tr>\n",
       "      <th>4</th>\n",
       "      <td>Ada, OK Micro Area</td>\n",
       "      <td>14650</td>\n",
       "      <td>42566</td>\n",
       "    </tr>\n",
       "  </tbody>\n",
       "</table>\n",
       "</div>"
      ],
      "text/plain": [
       "      Geographic Area Name  Total!!Estimate!!Households  \\\n",
       "0            United States                    116211092   \n",
       "1  Aberdeen, SD Micro Area                        17383   \n",
       "2  Aberdeen, WA Micro Area                        27318   \n",
       "3   Abilene, TX Metro Area                        60343   \n",
       "4       Ada, OK Micro Area                        14650   \n",
       "\n",
       "   Median income (dollars)!!Estimate!!Households  \n",
       "0                                          53482  \n",
       "1                                          52641  \n",
       "2                                          43379  \n",
       "3                                          44249  \n",
       "4                                          42566  "
      ]
     },
     "execution_count": 8,
     "metadata": {},
     "output_type": "execute_result"
    }
   ],
   "source": [
    "inc_df.head()"
   ]
  },
  {
   "cell_type": "code",
   "execution_count": 9,
   "id": "c24cee2d-70cf-4e23-a973-d32fe8abb756",
   "metadata": {},
   "outputs": [],
   "source": [
    "inc_df = inc_df.set_index('Geographic Area Name')"
   ]
  },
  {
   "cell_type": "code",
   "execution_count": 10,
   "id": "3b91f034-35d6-4d6d-8612-191cd9d680c6",
   "metadata": {},
   "outputs": [],
   "source": [
    "inc_df.index.name = 'msa'"
   ]
  },
  {
   "cell_type": "code",
   "execution_count": 11,
   "id": "ea0f6b24-6326-4d82-b8e4-5cac6675272e",
   "metadata": {},
   "outputs": [],
   "source": [
    "inc_df = inc_df.filter(like=\"Metro Area\", axis = 0)\n",
    "inc_df.index = inc_df.index.str.replace(' Metro Area', '')"
   ]
  },
  {
   "cell_type": "code",
   "execution_count": 12,
   "id": "4d906fd0-a4ee-40c1-8bf9-8f1c90271f82",
   "metadata": {},
   "outputs": [
    {
     "data": {
      "text/plain": [
       "388"
      ]
     },
     "execution_count": 12,
     "metadata": {},
     "output_type": "execute_result"
    }
   ],
   "source": [
    "len(inc_df)"
   ]
  },
  {
   "cell_type": "code",
   "execution_count": 13,
   "id": "7020981d-f71b-44e6-80e4-68120b905fd9",
   "metadata": {},
   "outputs": [],
   "source": [
    "# def tidy_acs_df(df):\n",
    "#     #....\n",
    "#     return(df)"
   ]
  },
  {
   "cell_type": "code",
   "execution_count": 14,
   "id": "551a667f-9c96-4c60-b7c7-b9f5c3baf449",
   "metadata": {},
   "outputs": [],
   "source": [
    "#mods_df = tidy_acs_df(pop_df)"
   ]
  },
  {
   "cell_type": "code",
   "execution_count": 15,
   "id": "729ffc3d-899a-42a7-811f-3f4cdf2c8659",
   "metadata": {},
   "outputs": [],
   "source": [
    "#inc_df = tidy_acs_df(inc_df)"
   ]
  },
  {
   "cell_type": "code",
   "execution_count": 16,
   "id": "86a5fa4d-b556-47e5-af19-6f648595abdb",
   "metadata": {},
   "outputs": [
    {
     "data": {
      "text/html": [
       "<div>\n",
       "<style scoped>\n",
       "    .dataframe tbody tr th:only-of-type {\n",
       "        vertical-align: middle;\n",
       "    }\n",
       "\n",
       "    .dataframe tbody tr th {\n",
       "        vertical-align: top;\n",
       "    }\n",
       "\n",
       "    .dataframe thead th {\n",
       "        text-align: right;\n",
       "    }\n",
       "</style>\n",
       "<table border=\"1\" class=\"dataframe\">\n",
       "  <thead>\n",
       "    <tr style=\"text-align: right;\">\n",
       "      <th></th>\n",
       "      <th>Total!!Estimate!!Households</th>\n",
       "      <th>Median income (dollars)!!Estimate!!Households</th>\n",
       "    </tr>\n",
       "    <tr>\n",
       "      <th>msa</th>\n",
       "      <th></th>\n",
       "      <th></th>\n",
       "    </tr>\n",
       "  </thead>\n",
       "  <tbody>\n",
       "    <tr>\n",
       "      <th>Abilene, TX</th>\n",
       "      <td>60343</td>\n",
       "      <td>44249</td>\n",
       "    </tr>\n",
       "    <tr>\n",
       "      <th>Aguadilla-Isabela, PR</th>\n",
       "      <td>109620</td>\n",
       "      <td>15681</td>\n",
       "    </tr>\n",
       "    <tr>\n",
       "      <th>Akron, OH</th>\n",
       "      <td>281752</td>\n",
       "      <td>50776</td>\n",
       "    </tr>\n",
       "    <tr>\n",
       "      <th>Albany, GA</th>\n",
       "      <td>58250</td>\n",
       "      <td>36805</td>\n",
       "    </tr>\n",
       "    <tr>\n",
       "      <th>Albany, OR</th>\n",
       "      <td>44942</td>\n",
       "      <td>44965</td>\n",
       "    </tr>\n",
       "  </tbody>\n",
       "</table>\n",
       "</div>"
      ],
      "text/plain": [
       "                       Total!!Estimate!!Households  \\\n",
       "msa                                                  \n",
       "Abilene, TX                                  60343   \n",
       "Aguadilla-Isabela, PR                       109620   \n",
       "Akron, OH                                   281752   \n",
       "Albany, GA                                   58250   \n",
       "Albany, OR                                   44942   \n",
       "\n",
       "                       Median income (dollars)!!Estimate!!Households  \n",
       "msa                                                                   \n",
       "Abilene, TX                                                    44249  \n",
       "Aguadilla-Isabela, PR                                          15681  \n",
       "Akron, OH                                                      50776  \n",
       "Albany, GA                                                     36805  \n",
       "Albany, OR                                                     44965  "
      ]
     },
     "execution_count": 16,
     "metadata": {},
     "output_type": "execute_result"
    }
   ],
   "source": [
    "inc_df.head()"
   ]
  },
  {
   "cell_type": "code",
   "execution_count": 17,
   "id": "5a352e1b-bb43-4056-8285-5dd90b4efe52",
   "metadata": {},
   "outputs": [],
   "source": [
    "inc_df = inc_df.rename(columns = {\"Median income (dollars)!!Estimate!!Households\": \"med_hh_inc_dol\"})\n",
    "inc_df = inc_df.rename(columns = {\"Total!!Estimate!!Households\": \"households\"})"
   ]
  },
  {
   "cell_type": "code",
   "execution_count": 18,
   "id": "005bce40-28a7-45f7-9383-f3dcc079c65a",
   "metadata": {},
   "outputs": [
    {
     "data": {
      "text/html": [
       "<div>\n",
       "<style scoped>\n",
       "    .dataframe tbody tr th:only-of-type {\n",
       "        vertical-align: middle;\n",
       "    }\n",
       "\n",
       "    .dataframe tbody tr th {\n",
       "        vertical-align: top;\n",
       "    }\n",
       "\n",
       "    .dataframe thead th {\n",
       "        text-align: right;\n",
       "    }\n",
       "</style>\n",
       "<table border=\"1\" class=\"dataframe\">\n",
       "  <thead>\n",
       "    <tr style=\"text-align: right;\">\n",
       "      <th></th>\n",
       "      <th>households</th>\n",
       "      <th>med_hh_inc_dol</th>\n",
       "    </tr>\n",
       "    <tr>\n",
       "      <th>msa</th>\n",
       "      <th></th>\n",
       "      <th></th>\n",
       "    </tr>\n",
       "  </thead>\n",
       "  <tbody>\n",
       "    <tr>\n",
       "      <th>Abilene, TX</th>\n",
       "      <td>60343</td>\n",
       "      <td>44249</td>\n",
       "    </tr>\n",
       "    <tr>\n",
       "      <th>Aguadilla-Isabela, PR</th>\n",
       "      <td>109620</td>\n",
       "      <td>15681</td>\n",
       "    </tr>\n",
       "    <tr>\n",
       "      <th>Akron, OH</th>\n",
       "      <td>281752</td>\n",
       "      <td>50776</td>\n",
       "    </tr>\n",
       "    <tr>\n",
       "      <th>Albany, GA</th>\n",
       "      <td>58250</td>\n",
       "      <td>36805</td>\n",
       "    </tr>\n",
       "    <tr>\n",
       "      <th>Albany, OR</th>\n",
       "      <td>44942</td>\n",
       "      <td>44965</td>\n",
       "    </tr>\n",
       "  </tbody>\n",
       "</table>\n",
       "</div>"
      ],
      "text/plain": [
       "                       households  med_hh_inc_dol\n",
       "msa                                              \n",
       "Abilene, TX                 60343           44249\n",
       "Aguadilla-Isabela, PR      109620           15681\n",
       "Akron, OH                  281752           50776\n",
       "Albany, GA                  58250           36805\n",
       "Albany, OR                  44942           44965"
      ]
     },
     "execution_count": 18,
     "metadata": {},
     "output_type": "execute_result"
    }
   ],
   "source": [
    "inc_df.head()"
   ]
  },
  {
   "cell_type": "code",
   "execution_count": 19,
   "id": "0bff098d-b11e-4616-8c52-a349b4c61d0c",
   "metadata": {},
   "outputs": [],
   "source": [
    "#med_income = inc_df['Estimate!!Median income (dollars)!!HOUSEHOLD INCOME BY RACE AND HISPANIC OR LATINO ORIGIN OF HOUSEHOLDER!!Households']"
   ]
  },
  {
   "cell_type": "code",
   "execution_count": 20,
   "id": "60a6155e-a543-4ab2-ad90-3fbb7b3a490b",
   "metadata": {},
   "outputs": [],
   "source": [
    "#inc_df.to_csv('data-aggregation-income.csv', index = False)"
   ]
  },
  {
   "cell_type": "code",
   "execution_count": 21,
   "id": "c058740d-bd3a-491b-9db1-90ee49b74adc",
   "metadata": {},
   "outputs": [],
   "source": [
    "from pathlib import Path  \n",
    "filepath = Path('../../data/tidy/asc-hh-income.csv', index = False)  "
   ]
  },
  {
   "cell_type": "code",
   "execution_count": 22,
   "id": "0bca38b3-bcb4-4e3c-bffe-396284711362",
   "metadata": {},
   "outputs": [],
   "source": [
    "filepath.parent.mkdir(parents=True, exist_ok=True)  "
   ]
  },
  {
   "cell_type": "code",
   "execution_count": 23,
   "id": "3baec679-d305-4327-a131-9e5e35898bbf",
   "metadata": {},
   "outputs": [],
   "source": [
    "#med_income = inc_df['Estimate!!Median income (dollars)!!HOUSEHOLD INCOME BY RACE AND HISPANIC OR LATINO ORIGIN OF HOUSEHOLDER!!Households']\n",
    "inc_df.to_csv(filepath)\n",
    "#inc_df.to_csv('data-aggregation-income.csv', index = False)"
   ]
  },
  {
   "cell_type": "code",
   "execution_count": null,
   "id": "b5745d4c-5039-478e-8894-cf9083f08623",
   "metadata": {},
   "outputs": [],
   "source": []
  },
  {
   "cell_type": "code",
   "execution_count": null,
   "id": "5653960d-6e5c-4759-94d8-6edeb6bfad71",
   "metadata": {},
   "outputs": [],
   "source": []
  }
 ],
 "metadata": {
  "kernelspec": {
   "display_name": "Python 3 (ipykernel)",
   "language": "python",
   "name": "python3"
  },
  "language_info": {
   "codemirror_mode": {
    "name": "ipython",
    "version": 3
   },
   "file_extension": ".py",
   "mimetype": "text/x-python",
   "name": "python",
   "nbconvert_exporter": "python",
   "pygments_lexer": "ipython3",
   "version": "3.10.8"
  }
 },
 "nbformat": 4,
 "nbformat_minor": 5
}
