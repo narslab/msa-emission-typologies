{
 "cells": [
  {
   "cell_type": "code",
   "execution_count": 1,
   "id": "a92df57c-9f81-4813-8b66-cd71b0bb9c1f",
   "metadata": {},
   "outputs": [],
   "source": [
    "import pandas as pd\n",
    "import numpy as np\n",
    "import matplotlib.pyplot as plt"
   ]
  },
  {
   "cell_type": "code",
   "execution_count": 2,
   "id": "bad12846-1d4c-4a48-87af-5769da7fa3b4",
   "metadata": {},
   "outputs": [],
   "source": [
    "### Data input\n",
    "\n",
    "inc_df = pd.read_csv('../../data/raw/ACSST5Y2019.S1903-Data.csv', skiprows = 1) # median income"
   ]
  },
  {
   "cell_type": "code",
   "execution_count": 3,
   "id": "746f5a26-0e9b-4ed7-81f3-4f8358d2a5bc",
   "metadata": {},
   "outputs": [
    {
     "data": {
      "text/plain": [
       "938"
      ]
     },
     "execution_count": 3,
     "metadata": {},
     "output_type": "execute_result"
    }
   ],
   "source": [
    "len(inc_df)"
   ]
  },
  {
   "cell_type": "code",
   "execution_count": 4,
   "id": "3b20e825-c376-432c-abd6-7584d65cb6a0",
   "metadata": {
    "tags": []
   },
   "outputs": [
    {
     "data": {
      "text/plain": [
       "Index(['Geography', 'Geographic Area Name',\n",
       "       'Estimate!!Number!!HOUSEHOLD INCOME BY RACE AND HISPANIC OR LATINO ORIGIN OF HOUSEHOLDER!!Households',\n",
       "       'Margin of Error!!Number!!HOUSEHOLD INCOME BY RACE AND HISPANIC OR LATINO ORIGIN OF HOUSEHOLDER!!Households',\n",
       "       'Annotation of Margin of Error!!Number!!HOUSEHOLD INCOME BY RACE AND HISPANIC OR LATINO ORIGIN OF HOUSEHOLDER!!Households',\n",
       "       'Annotation of Estimate!!Number!!HOUSEHOLD INCOME BY RACE AND HISPANIC OR LATINO ORIGIN OF HOUSEHOLDER!!Households',\n",
       "       'Estimate!!Number!!HOUSEHOLD INCOME BY RACE AND HISPANIC OR LATINO ORIGIN OF HOUSEHOLDER!!Households!!One race--!!White',\n",
       "       'Margin of Error!!Number!!HOUSEHOLD INCOME BY RACE AND HISPANIC OR LATINO ORIGIN OF HOUSEHOLDER!!Households!!One race--!!White',\n",
       "       'Annotation of Margin of Error!!Number!!HOUSEHOLD INCOME BY RACE AND HISPANIC OR LATINO ORIGIN OF HOUSEHOLDER!!Households!!One race--!!White',\n",
       "       'Annotation of Estimate!!Number!!HOUSEHOLD INCOME BY RACE AND HISPANIC OR LATINO ORIGIN OF HOUSEHOLDER!!Households!!One race--!!White',\n",
       "       ...\n",
       "       'Annotation of Estimate!!Median income (dollars)!!NONFAMILY HOUSEHOLDS!!Nonfamily households!!Male householder',\n",
       "       'Estimate!!Median income (dollars)!!NONFAMILY HOUSEHOLDS!!Nonfamily households!!Male householder!!Living alone',\n",
       "       'Margin of Error!!Median income (dollars)!!NONFAMILY HOUSEHOLDS!!Nonfamily households!!Male householder!!Living alone',\n",
       "       'Annotation of Margin of Error!!Median income (dollars)!!NONFAMILY HOUSEHOLDS!!Nonfamily households!!Male householder!!Living alone',\n",
       "       'Annotation of Estimate!!Median income (dollars)!!NONFAMILY HOUSEHOLDS!!Nonfamily households!!Male householder!!Living alone',\n",
       "       'Estimate!!Median income (dollars)!!NONFAMILY HOUSEHOLDS!!Nonfamily households!!Male householder!!Not living alone',\n",
       "       'Margin of Error!!Median income (dollars)!!NONFAMILY HOUSEHOLDS!!Nonfamily households!!Male householder!!Not living alone',\n",
       "       'Annotation of Margin of Error!!Median income (dollars)!!NONFAMILY HOUSEHOLDS!!Nonfamily households!!Male householder!!Not living alone',\n",
       "       'Annotation of Estimate!!Median income (dollars)!!NONFAMILY HOUSEHOLDS!!Nonfamily households!!Male householder!!Not living alone',\n",
       "       'Unnamed: 482'],\n",
       "      dtype='object', length=483)"
      ]
     },
     "execution_count": 4,
     "metadata": {},
     "output_type": "execute_result"
    }
   ],
   "source": [
    "inc_df.columns"
   ]
  },
  {
   "cell_type": "code",
   "execution_count": 5,
   "id": "b7bd2edf-2ec3-40af-b2e0-cfb2d47b6a30",
   "metadata": {},
   "outputs": [],
   "source": [
    "inc_df.columns = inc_df.columns.str.replace('HOUSEHOLD INCOME BY RACE AND HISPANIC OR LATINO ORIGIN OF HOUSEHOLDER!!', '')"
   ]
  },
  {
   "cell_type": "code",
   "execution_count": 6,
   "id": "15c7f75b-487b-4c15-8e33-8f5da27bf380",
   "metadata": {},
   "outputs": [
    {
     "data": {
      "text/plain": [
       "Index(['Geography', 'Geographic Area Name', 'Estimate!!Number!!Households',\n",
       "       'Margin of Error!!Number!!Households',\n",
       "       'Annotation of Margin of Error!!Number!!Households',\n",
       "       'Annotation of Estimate!!Number!!Households',\n",
       "       'Estimate!!Number!!Households!!One race--!!White',\n",
       "       'Margin of Error!!Number!!Households!!One race--!!White',\n",
       "       'Annotation of Margin of Error!!Number!!Households!!One race--!!White',\n",
       "       'Annotation of Estimate!!Number!!Households!!One race--!!White',\n",
       "       ...\n",
       "       'Annotation of Estimate!!Median income (dollars)!!NONFAMILY HOUSEHOLDS!!Nonfamily households!!Male householder',\n",
       "       'Estimate!!Median income (dollars)!!NONFAMILY HOUSEHOLDS!!Nonfamily households!!Male householder!!Living alone',\n",
       "       'Margin of Error!!Median income (dollars)!!NONFAMILY HOUSEHOLDS!!Nonfamily households!!Male householder!!Living alone',\n",
       "       'Annotation of Margin of Error!!Median income (dollars)!!NONFAMILY HOUSEHOLDS!!Nonfamily households!!Male householder!!Living alone',\n",
       "       'Annotation of Estimate!!Median income (dollars)!!NONFAMILY HOUSEHOLDS!!Nonfamily households!!Male householder!!Living alone',\n",
       "       'Estimate!!Median income (dollars)!!NONFAMILY HOUSEHOLDS!!Nonfamily households!!Male householder!!Not living alone',\n",
       "       'Margin of Error!!Median income (dollars)!!NONFAMILY HOUSEHOLDS!!Nonfamily households!!Male householder!!Not living alone',\n",
       "       'Annotation of Margin of Error!!Median income (dollars)!!NONFAMILY HOUSEHOLDS!!Nonfamily households!!Male householder!!Not living alone',\n",
       "       'Annotation of Estimate!!Median income (dollars)!!NONFAMILY HOUSEHOLDS!!Nonfamily households!!Male householder!!Not living alone',\n",
       "       'Unnamed: 482'],\n",
       "      dtype='object', length=483)"
      ]
     },
     "execution_count": 6,
     "metadata": {},
     "output_type": "execute_result"
    }
   ],
   "source": [
    "inc_df.columns"
   ]
  },
  {
   "cell_type": "code",
   "execution_count": 7,
   "id": "d029ab60-c52d-4f3d-96b3-afc2c9db06dc",
   "metadata": {
    "tags": []
   },
   "outputs": [
    {
     "data": {
      "text/html": [
       "<div>\n",
       "<style scoped>\n",
       "    .dataframe tbody tr th:only-of-type {\n",
       "        vertical-align: middle;\n",
       "    }\n",
       "\n",
       "    .dataframe tbody tr th {\n",
       "        vertical-align: top;\n",
       "    }\n",
       "\n",
       "    .dataframe thead th {\n",
       "        text-align: right;\n",
       "    }\n",
       "</style>\n",
       "<table border=\"1\" class=\"dataframe\">\n",
       "  <thead>\n",
       "    <tr style=\"text-align: right;\">\n",
       "      <th></th>\n",
       "      <th>Geography</th>\n",
       "      <th>Geographic Area Name</th>\n",
       "      <th>Estimate!!Number!!Households</th>\n",
       "      <th>Margin of Error!!Number!!Households</th>\n",
       "      <th>Annotation of Margin of Error!!Number!!Households</th>\n",
       "      <th>Annotation of Estimate!!Number!!Households</th>\n",
       "      <th>Estimate!!Number!!Households!!One race--!!White</th>\n",
       "      <th>Margin of Error!!Number!!Households!!One race--!!White</th>\n",
       "      <th>Annotation of Margin of Error!!Number!!Households!!One race--!!White</th>\n",
       "      <th>Annotation of Estimate!!Number!!Households!!One race--!!White</th>\n",
       "      <th>...</th>\n",
       "      <th>Annotation of Estimate!!Median income (dollars)!!NONFAMILY HOUSEHOLDS!!Nonfamily households!!Male householder</th>\n",
       "      <th>Estimate!!Median income (dollars)!!NONFAMILY HOUSEHOLDS!!Nonfamily households!!Male householder!!Living alone</th>\n",
       "      <th>Margin of Error!!Median income (dollars)!!NONFAMILY HOUSEHOLDS!!Nonfamily households!!Male householder!!Living alone</th>\n",
       "      <th>Annotation of Margin of Error!!Median income (dollars)!!NONFAMILY HOUSEHOLDS!!Nonfamily households!!Male householder!!Living alone</th>\n",
       "      <th>Annotation of Estimate!!Median income (dollars)!!NONFAMILY HOUSEHOLDS!!Nonfamily households!!Male householder!!Living alone</th>\n",
       "      <th>Estimate!!Median income (dollars)!!NONFAMILY HOUSEHOLDS!!Nonfamily households!!Male householder!!Not living alone</th>\n",
       "      <th>Margin of Error!!Median income (dollars)!!NONFAMILY HOUSEHOLDS!!Nonfamily households!!Male householder!!Not living alone</th>\n",
       "      <th>Annotation of Margin of Error!!Median income (dollars)!!NONFAMILY HOUSEHOLDS!!Nonfamily households!!Male householder!!Not living alone</th>\n",
       "      <th>Annotation of Estimate!!Median income (dollars)!!NONFAMILY HOUSEHOLDS!!Nonfamily households!!Male householder!!Not living alone</th>\n",
       "      <th>Unnamed: 482</th>\n",
       "    </tr>\n",
       "  </thead>\n",
       "  <tbody>\n",
       "    <tr>\n",
       "      <th>0</th>\n",
       "      <td>310M500US10100</td>\n",
       "      <td>Aberdeen, SD Micro Area</td>\n",
       "      <td>17849</td>\n",
       "      <td>325</td>\n",
       "      <td>NaN</td>\n",
       "      <td>NaN</td>\n",
       "      <td>16279</td>\n",
       "      <td>348</td>\n",
       "      <td>NaN</td>\n",
       "      <td>NaN</td>\n",
       "      <td>...</td>\n",
       "      <td>NaN</td>\n",
       "      <td>38985</td>\n",
       "      <td>4622</td>\n",
       "      <td>NaN</td>\n",
       "      <td>NaN</td>\n",
       "      <td>68807</td>\n",
       "      <td>10032</td>\n",
       "      <td>NaN</td>\n",
       "      <td>NaN</td>\n",
       "      <td>NaN</td>\n",
       "    </tr>\n",
       "    <tr>\n",
       "      <th>1</th>\n",
       "      <td>310M500US10140</td>\n",
       "      <td>Aberdeen, WA Micro Area</td>\n",
       "      <td>28722</td>\n",
       "      <td>648</td>\n",
       "      <td>NaN</td>\n",
       "      <td>NaN</td>\n",
       "      <td>26098</td>\n",
       "      <td>579</td>\n",
       "      <td>NaN</td>\n",
       "      <td>NaN</td>\n",
       "      <td>...</td>\n",
       "      <td>NaN</td>\n",
       "      <td>26304</td>\n",
       "      <td>4215</td>\n",
       "      <td>NaN</td>\n",
       "      <td>NaN</td>\n",
       "      <td>57794</td>\n",
       "      <td>16549</td>\n",
       "      <td>NaN</td>\n",
       "      <td>NaN</td>\n",
       "      <td>NaN</td>\n",
       "    </tr>\n",
       "    <tr>\n",
       "      <th>2</th>\n",
       "      <td>310M500US10180</td>\n",
       "      <td>Abilene, TX Metro Area</td>\n",
       "      <td>60931</td>\n",
       "      <td>912</td>\n",
       "      <td>NaN</td>\n",
       "      <td>NaN</td>\n",
       "      <td>50460</td>\n",
       "      <td>966</td>\n",
       "      <td>NaN</td>\n",
       "      <td>NaN</td>\n",
       "      <td>...</td>\n",
       "      <td>NaN</td>\n",
       "      <td>28152</td>\n",
       "      <td>2845</td>\n",
       "      <td>NaN</td>\n",
       "      <td>NaN</td>\n",
       "      <td>48587</td>\n",
       "      <td>9989</td>\n",
       "      <td>NaN</td>\n",
       "      <td>NaN</td>\n",
       "      <td>NaN</td>\n",
       "    </tr>\n",
       "    <tr>\n",
       "      <th>3</th>\n",
       "      <td>310M500US10220</td>\n",
       "      <td>Ada, OK Micro Area</td>\n",
       "      <td>14278</td>\n",
       "      <td>242</td>\n",
       "      <td>NaN</td>\n",
       "      <td>NaN</td>\n",
       "      <td>10419</td>\n",
       "      <td>248</td>\n",
       "      <td>NaN</td>\n",
       "      <td>NaN</td>\n",
       "      <td>...</td>\n",
       "      <td>NaN</td>\n",
       "      <td>26970</td>\n",
       "      <td>4518</td>\n",
       "      <td>NaN</td>\n",
       "      <td>NaN</td>\n",
       "      <td>44615</td>\n",
       "      <td>14907</td>\n",
       "      <td>NaN</td>\n",
       "      <td>NaN</td>\n",
       "      <td>NaN</td>\n",
       "    </tr>\n",
       "    <tr>\n",
       "      <th>4</th>\n",
       "      <td>310M500US10300</td>\n",
       "      <td>Adrian, MI Micro Area</td>\n",
       "      <td>38345</td>\n",
       "      <td>523</td>\n",
       "      <td>NaN</td>\n",
       "      <td>NaN</td>\n",
       "      <td>36806</td>\n",
       "      <td>527</td>\n",
       "      <td>NaN</td>\n",
       "      <td>NaN</td>\n",
       "      <td>...</td>\n",
       "      <td>NaN</td>\n",
       "      <td>34943</td>\n",
       "      <td>2036</td>\n",
       "      <td>NaN</td>\n",
       "      <td>NaN</td>\n",
       "      <td>59512</td>\n",
       "      <td>8154</td>\n",
       "      <td>NaN</td>\n",
       "      <td>NaN</td>\n",
       "      <td>NaN</td>\n",
       "    </tr>\n",
       "  </tbody>\n",
       "</table>\n",
       "<p>5 rows × 483 columns</p>\n",
       "</div>"
      ],
      "text/plain": [
       "        Geography     Geographic Area Name  Estimate!!Number!!Households  \\\n",
       "0  310M500US10100  Aberdeen, SD Micro Area                         17849   \n",
       "1  310M500US10140  Aberdeen, WA Micro Area                         28722   \n",
       "2  310M500US10180   Abilene, TX Metro Area                         60931   \n",
       "3  310M500US10220       Ada, OK Micro Area                         14278   \n",
       "4  310M500US10300    Adrian, MI Micro Area                         38345   \n",
       "\n",
       "   Margin of Error!!Number!!Households  \\\n",
       "0                                  325   \n",
       "1                                  648   \n",
       "2                                  912   \n",
       "3                                  242   \n",
       "4                                  523   \n",
       "\n",
       "   Annotation of Margin of Error!!Number!!Households  \\\n",
       "0                                                NaN   \n",
       "1                                                NaN   \n",
       "2                                                NaN   \n",
       "3                                                NaN   \n",
       "4                                                NaN   \n",
       "\n",
       "   Annotation of Estimate!!Number!!Households  \\\n",
       "0                                         NaN   \n",
       "1                                         NaN   \n",
       "2                                         NaN   \n",
       "3                                         NaN   \n",
       "4                                         NaN   \n",
       "\n",
       "   Estimate!!Number!!Households!!One race--!!White  \\\n",
       "0                                            16279   \n",
       "1                                            26098   \n",
       "2                                            50460   \n",
       "3                                            10419   \n",
       "4                                            36806   \n",
       "\n",
       "   Margin of Error!!Number!!Households!!One race--!!White  \\\n",
       "0                                                348        \n",
       "1                                                579        \n",
       "2                                                966        \n",
       "3                                                248        \n",
       "4                                                527        \n",
       "\n",
       "   Annotation of Margin of Error!!Number!!Households!!One race--!!White  \\\n",
       "0                                                NaN                      \n",
       "1                                                NaN                      \n",
       "2                                                NaN                      \n",
       "3                                                NaN                      \n",
       "4                                                NaN                      \n",
       "\n",
       "   Annotation of Estimate!!Number!!Households!!One race--!!White  ...  \\\n",
       "0                                                NaN              ...   \n",
       "1                                                NaN              ...   \n",
       "2                                                NaN              ...   \n",
       "3                                                NaN              ...   \n",
       "4                                                NaN              ...   \n",
       "\n",
       "   Annotation of Estimate!!Median income (dollars)!!NONFAMILY HOUSEHOLDS!!Nonfamily households!!Male householder  \\\n",
       "0                                                NaN                                                               \n",
       "1                                                NaN                                                               \n",
       "2                                                NaN                                                               \n",
       "3                                                NaN                                                               \n",
       "4                                                NaN                                                               \n",
       "\n",
       "   Estimate!!Median income (dollars)!!NONFAMILY HOUSEHOLDS!!Nonfamily households!!Male householder!!Living alone  \\\n",
       "0                                              38985                                                               \n",
       "1                                              26304                                                               \n",
       "2                                              28152                                                               \n",
       "3                                              26970                                                               \n",
       "4                                              34943                                                               \n",
       "\n",
       "   Margin of Error!!Median income (dollars)!!NONFAMILY HOUSEHOLDS!!Nonfamily households!!Male householder!!Living alone  \\\n",
       "0                                               4622                                                                      \n",
       "1                                               4215                                                                      \n",
       "2                                               2845                                                                      \n",
       "3                                               4518                                                                      \n",
       "4                                               2036                                                                      \n",
       "\n",
       "   Annotation of Margin of Error!!Median income (dollars)!!NONFAMILY HOUSEHOLDS!!Nonfamily households!!Male householder!!Living alone  \\\n",
       "0                                                NaN                                                                                    \n",
       "1                                                NaN                                                                                    \n",
       "2                                                NaN                                                                                    \n",
       "3                                                NaN                                                                                    \n",
       "4                                                NaN                                                                                    \n",
       "\n",
       "   Annotation of Estimate!!Median income (dollars)!!NONFAMILY HOUSEHOLDS!!Nonfamily households!!Male householder!!Living alone  \\\n",
       "0                                                NaN                                                                             \n",
       "1                                                NaN                                                                             \n",
       "2                                                NaN                                                                             \n",
       "3                                                NaN                                                                             \n",
       "4                                                NaN                                                                             \n",
       "\n",
       "   Estimate!!Median income (dollars)!!NONFAMILY HOUSEHOLDS!!Nonfamily households!!Male householder!!Not living alone  \\\n",
       "0                                              68807                                                                   \n",
       "1                                              57794                                                                   \n",
       "2                                              48587                                                                   \n",
       "3                                              44615                                                                   \n",
       "4                                              59512                                                                   \n",
       "\n",
       "   Margin of Error!!Median income (dollars)!!NONFAMILY HOUSEHOLDS!!Nonfamily households!!Male householder!!Not living alone  \\\n",
       "0                                              10032                                                                          \n",
       "1                                              16549                                                                          \n",
       "2                                               9989                                                                          \n",
       "3                                              14907                                                                          \n",
       "4                                               8154                                                                          \n",
       "\n",
       "   Annotation of Margin of Error!!Median income (dollars)!!NONFAMILY HOUSEHOLDS!!Nonfamily households!!Male householder!!Not living alone  \\\n",
       "0                                                NaN                                                                                        \n",
       "1                                                NaN                                                                                        \n",
       "2                                                NaN                                                                                        \n",
       "3                                                NaN                                                                                        \n",
       "4                                                NaN                                                                                        \n",
       "\n",
       "   Annotation of Estimate!!Median income (dollars)!!NONFAMILY HOUSEHOLDS!!Nonfamily households!!Male householder!!Not living alone  \\\n",
       "0                                                NaN                                                                                 \n",
       "1                                                NaN                                                                                 \n",
       "2                                                NaN                                                                                 \n",
       "3                                                NaN                                                                                 \n",
       "4                                                NaN                                                                                 \n",
       "\n",
       "   Unnamed: 482  \n",
       "0           NaN  \n",
       "1           NaN  \n",
       "2           NaN  \n",
       "3           NaN  \n",
       "4           NaN  \n",
       "\n",
       "[5 rows x 483 columns]"
      ]
     },
     "execution_count": 7,
     "metadata": {},
     "output_type": "execute_result"
    }
   ],
   "source": [
    "inc_df.head()"
   ]
  },
  {
   "cell_type": "code",
   "execution_count": 9,
   "id": "8c36c8bb-e7be-4a90-940c-ba0529f575e2",
   "metadata": {},
   "outputs": [],
   "source": [
    "# #pop_df.loc[: , (pop_df != 'Margin of Error').all()]\n",
    "# filtered_cols = [col for col in inc_df.columns if 'Margin of Error' not in col]\n",
    "# filtered_cols = [col for col in filtered_cols if 'Mean' not in col]\n",
    "# filtered_cols = [col for col in filtered_cols if 'id' not in col]\n",
    "# filtered_cols = [col for col in filtered_cols if 'Percent' not in col]\n",
    "# filtered_cols = [col for col in filtered_cols if 'PERCENT' not in col]\n",
    "# filtered_cols = [col for col in filtered_cols if 'Number' not in col]\n",
    "# filtered_cols = [col for col in filtered_cols if 'Annotation' not in col]\n",
    "# filtered_cols = [col for col in filtered_cols if 'White' not in col]\n",
    "# filtered_cols = [col for col in filtered_cols if 'race' not in col]\n",
    "# filtered_cols = [col for col in filtered_cols if 'Female' not in col]\n",
    "# filtered_cols = [col for col in filtered_cols if 'Male' not in col]\n",
    "# filtered_cols = [col for col in filtered_cols if 'Families' not in col]\n",
    "# filtered_cols = [col for col in filtered_cols if 'Nonfamily' not in col]\n",
    "# filtered_cols = [col for col in filtered_cols if 'Unnamed' not in col]\n",
    "# filtered_cols = [col for col in filtered_cols if 'Geography' not in col]\n",
    "# filtered_cols = [col for col in filtered_cols if 'AGE' not in col]\n",
    "# #filtered_cols = [col for col in filtered_cols if 'Annotation' in col]\n",
    "# filtered_cols\n",
    "#inc_df = inc_df.filter(filtered_cols)\n",
    "df = inc_df[['Geographic Area Name','Estimate!!Median income (dollars)!!Households', 'Estimate!!Number!!Households']]"
   ]
  },
  {
   "cell_type": "code",
   "execution_count": 10,
   "id": "2effc785-9341-459b-a88e-51ad48525eb9",
   "metadata": {},
   "outputs": [
    {
     "data": {
      "text/html": [
       "<div>\n",
       "<style scoped>\n",
       "    .dataframe tbody tr th:only-of-type {\n",
       "        vertical-align: middle;\n",
       "    }\n",
       "\n",
       "    .dataframe tbody tr th {\n",
       "        vertical-align: top;\n",
       "    }\n",
       "\n",
       "    .dataframe thead th {\n",
       "        text-align: right;\n",
       "    }\n",
       "</style>\n",
       "<table border=\"1\" class=\"dataframe\">\n",
       "  <thead>\n",
       "    <tr style=\"text-align: right;\">\n",
       "      <th></th>\n",
       "      <th>Geographic Area Name</th>\n",
       "      <th>Estimate!!Median income (dollars)!!Households</th>\n",
       "      <th>Estimate!!Number!!Households</th>\n",
       "    </tr>\n",
       "  </thead>\n",
       "  <tbody>\n",
       "    <tr>\n",
       "      <th>0</th>\n",
       "      <td>Aberdeen, SD Micro Area</td>\n",
       "      <td>59270</td>\n",
       "      <td>17849</td>\n",
       "    </tr>\n",
       "    <tr>\n",
       "      <th>1</th>\n",
       "      <td>Aberdeen, WA Micro Area</td>\n",
       "      <td>51240</td>\n",
       "      <td>28722</td>\n",
       "    </tr>\n",
       "    <tr>\n",
       "      <th>2</th>\n",
       "      <td>Abilene, TX Metro Area</td>\n",
       "      <td>52511</td>\n",
       "      <td>60931</td>\n",
       "    </tr>\n",
       "    <tr>\n",
       "      <th>3</th>\n",
       "      <td>Ada, OK Micro Area</td>\n",
       "      <td>50392</td>\n",
       "      <td>14278</td>\n",
       "    </tr>\n",
       "    <tr>\n",
       "      <th>4</th>\n",
       "      <td>Adrian, MI Micro Area</td>\n",
       "      <td>55450</td>\n",
       "      <td>38345</td>\n",
       "    </tr>\n",
       "  </tbody>\n",
       "</table>\n",
       "</div>"
      ],
      "text/plain": [
       "      Geographic Area Name  Estimate!!Median income (dollars)!!Households  \\\n",
       "0  Aberdeen, SD Micro Area                                          59270   \n",
       "1  Aberdeen, WA Micro Area                                          51240   \n",
       "2   Abilene, TX Metro Area                                          52511   \n",
       "3       Ada, OK Micro Area                                          50392   \n",
       "4    Adrian, MI Micro Area                                          55450   \n",
       "\n",
       "   Estimate!!Number!!Households  \n",
       "0                         17849  \n",
       "1                         28722  \n",
       "2                         60931  \n",
       "3                         14278  \n",
       "4                         38345  "
      ]
     },
     "execution_count": 10,
     "metadata": {},
     "output_type": "execute_result"
    }
   ],
   "source": [
    "df.head()"
   ]
  },
  {
   "cell_type": "code",
   "execution_count": 15,
   "id": "c24cee2d-70cf-4e23-a973-d32fe8abb756",
   "metadata": {},
   "outputs": [],
   "source": [
    "df = df.set_index('Geographic Area Name')"
   ]
  },
  {
   "cell_type": "code",
   "execution_count": 16,
   "id": "3b91f034-35d6-4d6d-8612-191cd9d680c6",
   "metadata": {},
   "outputs": [],
   "source": [
    "df.index.name = 'msa'"
   ]
  },
  {
   "cell_type": "code",
   "execution_count": 17,
   "id": "ea0f6b24-6326-4d82-b8e4-5cac6675272e",
   "metadata": {},
   "outputs": [],
   "source": [
    "df = df.filter(like=\"Metro Area\", axis = 0)\n",
    "df.index = df.index.str.replace(' Metro Area', '')"
   ]
  },
  {
   "cell_type": "code",
   "execution_count": 18,
   "id": "4d906fd0-a4ee-40c1-8bf9-8f1c90271f82",
   "metadata": {},
   "outputs": [
    {
     "data": {
      "text/plain": [
       "392"
      ]
     },
     "execution_count": 18,
     "metadata": {},
     "output_type": "execute_result"
    }
   ],
   "source": [
    "len(df)"
   ]
  },
  {
   "cell_type": "code",
   "execution_count": 13,
   "id": "7020981d-f71b-44e6-80e4-68120b905fd9",
   "metadata": {},
   "outputs": [],
   "source": [
    "# def tidy_acs_df(df):\n",
    "#     #....\n",
    "#     return(df)"
   ]
  },
  {
   "cell_type": "code",
   "execution_count": 14,
   "id": "551a667f-9c96-4c60-b7c7-b9f5c3baf449",
   "metadata": {},
   "outputs": [],
   "source": [
    "#mods_df = tidy_acs_df(pop_df)"
   ]
  },
  {
   "cell_type": "code",
   "execution_count": 15,
   "id": "729ffc3d-899a-42a7-811f-3f4cdf2c8659",
   "metadata": {},
   "outputs": [],
   "source": [
    "#inc_df = tidy_acs_df(inc_df)"
   ]
  },
  {
   "cell_type": "code",
   "execution_count": 19,
   "id": "86a5fa4d-b556-47e5-af19-6f648595abdb",
   "metadata": {},
   "outputs": [
    {
     "data": {
      "text/html": [
       "<div>\n",
       "<style scoped>\n",
       "    .dataframe tbody tr th:only-of-type {\n",
       "        vertical-align: middle;\n",
       "    }\n",
       "\n",
       "    .dataframe tbody tr th {\n",
       "        vertical-align: top;\n",
       "    }\n",
       "\n",
       "    .dataframe thead th {\n",
       "        text-align: right;\n",
       "    }\n",
       "</style>\n",
       "<table border=\"1\" class=\"dataframe\">\n",
       "  <thead>\n",
       "    <tr style=\"text-align: right;\">\n",
       "      <th></th>\n",
       "      <th>Estimate!!Median income (dollars)!!Households</th>\n",
       "      <th>Estimate!!Number!!Households</th>\n",
       "    </tr>\n",
       "    <tr>\n",
       "      <th>msa</th>\n",
       "      <th></th>\n",
       "      <th></th>\n",
       "    </tr>\n",
       "  </thead>\n",
       "  <tbody>\n",
       "    <tr>\n",
       "      <th>Abilene, TX</th>\n",
       "      <td>52511</td>\n",
       "      <td>60931</td>\n",
       "    </tr>\n",
       "    <tr>\n",
       "      <th>Aguadilla-Isabela, PR</th>\n",
       "      <td>16470</td>\n",
       "      <td>109248</td>\n",
       "    </tr>\n",
       "    <tr>\n",
       "      <th>Akron, OH</th>\n",
       "      <td>57285</td>\n",
       "      <td>286543</td>\n",
       "    </tr>\n",
       "    <tr>\n",
       "      <th>Albany, GA</th>\n",
       "      <td>44844</td>\n",
       "      <td>55714</td>\n",
       "    </tr>\n",
       "    <tr>\n",
       "      <th>Albany-Lebanon, OR</th>\n",
       "      <td>55893</td>\n",
       "      <td>47762</td>\n",
       "    </tr>\n",
       "  </tbody>\n",
       "</table>\n",
       "</div>"
      ],
      "text/plain": [
       "                       Estimate!!Median income (dollars)!!Households  \\\n",
       "msa                                                                    \n",
       "Abilene, TX                                                    52511   \n",
       "Aguadilla-Isabela, PR                                          16470   \n",
       "Akron, OH                                                      57285   \n",
       "Albany, GA                                                     44844   \n",
       "Albany-Lebanon, OR                                             55893   \n",
       "\n",
       "                       Estimate!!Number!!Households  \n",
       "msa                                                  \n",
       "Abilene, TX                                   60931  \n",
       "Aguadilla-Isabela, PR                        109248  \n",
       "Akron, OH                                    286543  \n",
       "Albany, GA                                    55714  \n",
       "Albany-Lebanon, OR                            47762  "
      ]
     },
     "execution_count": 19,
     "metadata": {},
     "output_type": "execute_result"
    }
   ],
   "source": [
    "df.head()"
   ]
  },
  {
   "cell_type": "code",
   "execution_count": 20,
   "id": "5a352e1b-bb43-4056-8285-5dd90b4efe52",
   "metadata": {},
   "outputs": [],
   "source": [
    "df = df.rename(columns = {\"Estimate!!Median income (dollars)!!Households\": \"med_hh_inc_dol\"})\n",
    "df = df.rename(columns = {\"Estimate!!Number!!Households\": \"households\"})"
   ]
  },
  {
   "cell_type": "code",
   "execution_count": 21,
   "id": "005bce40-28a7-45f7-9383-f3dcc079c65a",
   "metadata": {},
   "outputs": [
    {
     "data": {
      "text/html": [
       "<div>\n",
       "<style scoped>\n",
       "    .dataframe tbody tr th:only-of-type {\n",
       "        vertical-align: middle;\n",
       "    }\n",
       "\n",
       "    .dataframe tbody tr th {\n",
       "        vertical-align: top;\n",
       "    }\n",
       "\n",
       "    .dataframe thead th {\n",
       "        text-align: right;\n",
       "    }\n",
       "</style>\n",
       "<table border=\"1\" class=\"dataframe\">\n",
       "  <thead>\n",
       "    <tr style=\"text-align: right;\">\n",
       "      <th></th>\n",
       "      <th>med_hh_inc_dol</th>\n",
       "      <th>households</th>\n",
       "    </tr>\n",
       "    <tr>\n",
       "      <th>msa</th>\n",
       "      <th></th>\n",
       "      <th></th>\n",
       "    </tr>\n",
       "  </thead>\n",
       "  <tbody>\n",
       "    <tr>\n",
       "      <th>Abilene, TX</th>\n",
       "      <td>52511</td>\n",
       "      <td>60931</td>\n",
       "    </tr>\n",
       "    <tr>\n",
       "      <th>Aguadilla-Isabela, PR</th>\n",
       "      <td>16470</td>\n",
       "      <td>109248</td>\n",
       "    </tr>\n",
       "    <tr>\n",
       "      <th>Akron, OH</th>\n",
       "      <td>57285</td>\n",
       "      <td>286543</td>\n",
       "    </tr>\n",
       "    <tr>\n",
       "      <th>Albany, GA</th>\n",
       "      <td>44844</td>\n",
       "      <td>55714</td>\n",
       "    </tr>\n",
       "    <tr>\n",
       "      <th>Albany-Lebanon, OR</th>\n",
       "      <td>55893</td>\n",
       "      <td>47762</td>\n",
       "    </tr>\n",
       "  </tbody>\n",
       "</table>\n",
       "</div>"
      ],
      "text/plain": [
       "                       med_hh_inc_dol  households\n",
       "msa                                              \n",
       "Abilene, TX                     52511       60931\n",
       "Aguadilla-Isabela, PR           16470      109248\n",
       "Akron, OH                       57285      286543\n",
       "Albany, GA                      44844       55714\n",
       "Albany-Lebanon, OR              55893       47762"
      ]
     },
     "execution_count": 21,
     "metadata": {},
     "output_type": "execute_result"
    }
   ],
   "source": [
    "df.head()"
   ]
  },
  {
   "cell_type": "code",
   "execution_count": 19,
   "id": "0bff098d-b11e-4616-8c52-a349b4c61d0c",
   "metadata": {},
   "outputs": [],
   "source": [
    "#med_income = inc_df['Estimate!!Median income (dollars)!!HOUSEHOLD INCOME BY RACE AND HISPANIC OR LATINO ORIGIN OF HOUSEHOLDER!!Households']"
   ]
  },
  {
   "cell_type": "code",
   "execution_count": 20,
   "id": "60a6155e-a543-4ab2-ad90-3fbb7b3a490b",
   "metadata": {},
   "outputs": [],
   "source": [
    "#inc_df.to_csv('data-aggregation-income.csv', index = False)"
   ]
  },
  {
   "cell_type": "code",
   "execution_count": 22,
   "id": "c058740d-bd3a-491b-9db1-90ee49b74adc",
   "metadata": {},
   "outputs": [],
   "source": [
    "from pathlib import Path  \n",
    "filepath = Path('../../data/tidy/asc19-hh-income.csv', index = False)  "
   ]
  },
  {
   "cell_type": "code",
   "execution_count": 23,
   "id": "0bca38b3-bcb4-4e3c-bffe-396284711362",
   "metadata": {},
   "outputs": [],
   "source": [
    "filepath.parent.mkdir(parents=True, exist_ok=True)  "
   ]
  },
  {
   "cell_type": "code",
   "execution_count": 24,
   "id": "3baec679-d305-4327-a131-9e5e35898bbf",
   "metadata": {},
   "outputs": [],
   "source": [
    "#med_income = inc_df['Estimate!!Median income (dollars)!!HOUSEHOLD INCOME BY RACE AND HISPANIC OR LATINO ORIGIN OF HOUSEHOLDER!!Households']\n",
    "df.to_csv(filepath)\n",
    "#inc_df.to_csv('data-aggregation-income.csv', index = False)"
   ]
  },
  {
   "cell_type": "code",
   "execution_count": null,
   "id": "b5745d4c-5039-478e-8894-cf9083f08623",
   "metadata": {},
   "outputs": [],
   "source": []
  },
  {
   "cell_type": "code",
   "execution_count": null,
   "id": "5653960d-6e5c-4759-94d8-6edeb6bfad71",
   "metadata": {},
   "outputs": [],
   "source": []
  }
 ],
 "metadata": {
  "kernelspec": {
   "display_name": "Python 3 (ipykernel)",
   "language": "python",
   "name": "python3"
  },
  "language_info": {
   "codemirror_mode": {
    "name": "ipython",
    "version": 3
   },
   "file_extension": ".py",
   "mimetype": "text/x-python",
   "name": "python",
   "nbconvert_exporter": "python",
   "pygments_lexer": "ipython3",
   "version": "3.10.8"
  }
 },
 "nbformat": 4,
 "nbformat_minor": 5
}
